{
 "cells": [
  {
   "cell_type": "code",
   "id": "initial_id",
   "metadata": {
    "collapsed": true,
    "ExecuteTime": {
     "end_time": "2024-06-07T19:48:59.056722Z",
     "start_time": "2024-06-07T19:48:59.053235Z"
    }
   },
   "source": [
    "\n",
    "import sklearn\n",
    "import numpy as np\n",
    "import pandas as pd\n",
    "import matplotlib.pyplot as plt\n",
    "import seaborn as sns\n",
    "from pathlib import Path\n",
    "\n",
    "import matplotlib.patches as mpatches\n"
   ],
   "execution_count": 19,
   "outputs": []
  },
  {
   "metadata": {
    "ExecuteTime": {
     "end_time": "2024-06-07T19:52:55.757479Z",
     "start_time": "2024-06-07T19:52:55.229482Z"
    }
   },
   "cell_type": "code",
   "source": [
    "# Make 2 2d gaussians with different means and covariances\n",
    "\n",
    "np.random.seed(0)\n",
    "\n",
    "n = 1000\n",
    "\n",
    "# data in embeddings Z \n",
    "mean11 = [0, 0]\n",
    "mean12 = [3, 3]\n",
    "cov11 = [[0.5, 0.5], [0.5, 10]]\n",
    "cov12 = [[2, -0.5], [-0.5, 2]]\n",
    "\n",
    "X1 = np.random.multivariate_normal(mean11, cov11, n)\n",
    "X2 = np.random.multivariate_normal(mean12, cov12, n)\n",
    "\n",
    "\n",
    "XZ = np.concatenate([X1, X2])\n",
    "y = np.concatenate([np.zeros(n), np.ones(n)])\n",
    "\n",
    "# data in embeddings U\n",
    "\n",
    "\n",
    "mean21 = [-1, -1]\n",
    "mean22 = [3, 3]\n",
    "cov21 = [[0.1, 0], [0.1, 0.1]]\n",
    "cov22 = [[0.2, 0], [0, -0.2]]\n",
    "\n",
    "\n",
    "X1 = np.random.multivariate_normal(mean21, cov21, n)\n",
    "X2 = np.random.multivariate_normal(mean22, cov22, n)\n",
    "\n",
    "XU = np.concatenate([X1, X2])\n",
    "\n",
    "fig, ax = plt.subplots(1, 2, figsize=(10, 3))\n",
    "\n",
    "ax[0].scatter(XZ[:, 0], XZ[:, 1], c=y, alpha=0.1, cmap='coolwarm')\n",
    "ax[0].set_title('$P_{Z|Y}$')\n",
    "\n",
    "ax[1].scatter(XU[:, 0], XU[:, 1], c=y, alpha=0.1, cmap='coolwarm')\n",
    "ax[1].set_title('$P_{U|Y}$')\n",
    "\n",
    "# add legend with color patches\n",
    "legend_elements = [mpatches.Patch(facecolor='blue', edgecolor='black', label='$y_0$'),\n",
    "                   mpatches.Patch(facecolor='red', edgecolor='black', label='$y_1$')]\n",
    "\n",
    "ax[0].legend(handles=legend_elements)\n",
    "\n",
    "plt.show()\n",
    "\n",
    "\n",
    "path = Path(f\"../../papers/emir-embedding-comparison/talk_figs/separability.pdf\")\n",
    "fig.savefig(path, bbox_inches='tight')\n",
    "\n"
   ],
   "id": "6deda0771dd06c3a",
   "execution_count": 30,
   "outputs": []
  },
  {
   "metadata": {
    "ExecuteTime": {
     "end_time": "2024-06-07T19:54:25.834792Z",
     "start_time": "2024-06-07T19:54:25.015221Z"
    }
   },
   "cell_type": "code",
   "source": [
    "\n",
    "# Train a classifier on the embeddings \n",
    "\n",
    "from sklearn.linear_model import LogisticRegression\n",
    "\n",
    "clfZ = LogisticRegression()\n",
    "clfZ.fit(XZ, y)\n",
    "Zy_pred = clfZ.predict(XZ)\n",
    "\n",
    "\n",
    "clfU = LogisticRegression()\n",
    "clfU.fit(XU, y)\n",
    "Uy_pred = clfU.predict(XU)\n",
    "\n",
    "# Same plot as above but with decision boundary\n",
    "\n",
    "fig, ax = plt.subplots(1, 2, figsize=(10, 3))\n",
    "\n",
    "ax[0].scatter(XZ[:, 0], XZ[:, 1], c=y, alpha=0.1, cmap='coolwarm')\n",
    "ax[0].set_title('$P_{Z|Y}$')\n",
    "\n",
    "ax[1].scatter(XU[:, 0], XU[:, 1], c=y, alpha=0.1, cmap='coolwarm')\n",
    "ax[1].set_title('$P_{U|Y}$')\n",
    "\n",
    "# add legend with color patches\n",
    "legend_elements = [mpatches.Patch(facecolor='blue', edgecolor='black', label='$y_0$'),\n",
    "                   mpatches.Patch(facecolor='red', edgecolor='black', label='$y_1$')]\n",
    "\n",
    "ax[0].legend(handles=legend_elements)\n",
    "\n",
    "# plot decision boundary\n",
    "\n",
    "x_min, x_max = XZ[:, 0].min() - 1, XZ[:, 0].max() + 1\n",
    "y_min, y_max = XZ[:, 1].min() - 1, XZ[:, 1].max() + 1\n",
    "xx, yy = np.meshgrid(np.arange(x_min, x_max, 0.1),\n",
    "                     np.arange(y_min, y_max, 0.1))\n",
    "\n",
    "Z = clfZ.predict(np.c_[xx.ravel(), yy.ravel()])\n",
    "Z = Z.reshape(xx.shape)\n",
    "\n",
    "ax[0].contourf(xx, yy, Z, alpha=0.2, cmap='coolwarm')\n",
    "\n",
    "x_min, x_max = XU[:, 0].min() - 1, XU[:, 0].max() + 1\n",
    "y_min, y_max = XU[:, 1].min() - 1, XU[:, 1].max() + 1\n",
    "\n",
    "xx, yy = np.meshgrid(np.arange(x_min, x_max, 0.1),\n",
    "                        np.arange(y_min, y_max, 0.1))\n",
    "\n",
    "U = clfU.predict(np.c_[xx.ravel(), yy.ravel()])\n",
    "U = U.reshape(xx.shape)\n",
    "\n",
    "ax[1].contourf(xx, yy, U, alpha=0.2, cmap='coolwarm')\n",
    "\n",
    "\n",
    "path = Path(f\"../../papers/emir-embedding-comparison/talk_figs/separability_decision_boundary.pdf\")\n",
    "fig.savefig(path, bbox_inches='tight')\n"
   ],
   "id": "9c3d7c4dd4b8cdd",
   "execution_count": 33,
   "outputs": []
  },
  {
   "metadata": {},
   "cell_type": "code",
   "execution_count": null,
   "source": "",
   "id": "ecf1f4dc0a8a97f1",
   "outputs": []
  }
 ],
 "metadata": {
  "kernelspec": {
   "display_name": "Python 3",
   "language": "python",
   "name": "python3"
  },
  "language_info": {
   "codemirror_mode": {
    "name": "ipython",
    "version": 2
   },
   "file_extension": ".py",
   "mimetype": "text/x-python",
   "name": "python",
   "nbconvert_exporter": "python",
   "pygments_lexer": "ipython2",
   "version": "2.7.6"
  }
 },
 "nbformat": 4,
 "nbformat_minor": 5
}
