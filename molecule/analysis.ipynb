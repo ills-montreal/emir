{
 "cells": [
  {
   "cell_type": "markdown",
   "source": [
    "# Knife MI analysis"
   ],
   "metadata": {
    "collapsed": false
   }
  },
  {
   "cell_type": "code",
   "execution_count": null,
   "outputs": [],
   "source": [
    "import os\n",
    "\n",
    "import seaborn as sns\n",
    "import matplotlib.pyplot as plt\n",
    "import pandas as pd\n",
    "from tqdm import tqdm as tqdm\n",
    "import numpy as np\n",
    "import json\n",
    "import sklearn\n",
    "from sklearn.decomposition import PCA\n",
    "\n",
    "from utils import MolecularFeatureExtractor\n",
    "from models.model_paths import get_model_path"
   ],
   "metadata": {
    "collapsed": false
   }
  },
  {
   "cell_type": "code",
   "execution_count": null,
   "outputs": [],
   "source": [
    "DATASET = \"ZINC\"\n",
    "LENGTH = 2\n",
    "MDS_DIM = 0\n",
    "\n",
    "DESCRIPTORS = [\n",
    "            \"ecfp\",\n",
    "            \"estate\",\n",
    "            \"fcfp\",\n",
    "            \"erg\",\n",
    "            \"rdkit\",\n",
    "            \"topological\",\n",
    "            \"avalon\",\n",
    "            \"maccs\",\n",
    "            \"secfp\",\n",
    "            \"scaffoldkeys\",\n",
    "            \"cats\",\n",
    "            \"gobbi\",\n",
    "            \"pmapper\",\n",
    "            \"cats/3D\",\n",
    "            \"gobbi/3D\",\n",
    "            \"pmapper/3D\",\n",
    "            \"ScatteringWavelet\",\n",
    "        ]\n",
    "MODELS = [\n",
    "    \"ContextPred\",\n",
    "    \"GPT-GNN\",\n",
    "    \"GraphMVP\",\n",
    "    \"GROVER\",\n",
    "    \"EdgePred\",\n",
    "    \"AttributeMask\",\n",
    "    \"GraphLog\",\n",
    "    \"GraphCL\",\n",
    "    \"InfoGraph\",\n",
    "    \"Not-trained\",\n",
    "    \"MolBert\",\n",
    "    \"ChemBertMLM-5M\",\n",
    "    \"ChemBertMLM-10M\",\n",
    "    \"ChemBertMLM-77M\",\n",
    "    \"ChemBertMTR-5M\",\n",
    "    \"ChemBertMTR-10M\",\n",
    "    \"ChemBertMTR-77M\",\n",
    "    \"DenoisingPretrainingPQCMv4\"\n",
    "]\n",
    "MODELS_PATH = get_model_path(models=MODELS)\n",
    "\n",
    "\n",
    "with open(f\"data/{DATASET}/smiles.json\", \"r\") as f:\n",
    "    smiles = json.load(f)\n",
    "\n",
    "if not len(smiles) > 50000:\n",
    "    import datamol as dm\n",
    "    mols = dm.read_sdf(f\"data/{DATASET}/preprocessed.sdf\")\n",
    "\n",
    "    feature_extractor = MolecularFeatureExtractor(dataset=DATASET, length=LENGTH, mds_dim=MDS_DIM, device=\"cuda\")\n",
    "    # same plots but in 3D\n",
    "\n",
    "    fig,axes = plt.subplots(3,len(MODELS)//3,figsize=(len(MODELS)//3*5,3*5), subplot_kw={'projection': '3d'})\n",
    "    axes = axes.flatten()\n",
    "\n",
    "    for i,model in enumerate(MODELS):\n",
    "        embeddings = feature_extractor.get_features(smiles, mols = mols, name=model,feature_type=\"model\",path = MODELS_PATH.get(model, None))\n",
    "        # nromalize embeddings\n",
    "        embeddings = (embeddings - embeddings.mean(axis=0))/(embeddings.std(axis=0) +1e-8)\n",
    "        pca = PCA(n_components=3)\n",
    "        embeddings_pca = pca.fit_transform(embeddings.cpu())\n",
    "        df = pd.DataFrame(embeddings_pca, columns=[f\"PC{i}\" for i in range(1,4)])\n",
    "        df[\"smiles\"] = smiles\n",
    "        # using pyplot\n",
    "        axes[i].scatter3D(df[\"PC1\"], df[\"PC2\"], df[\"PC3\"], c=df[\"PC1\"], cmap='viridis', alpha=0.1)\n",
    "        axes[i].set_title(model)\n"
   ],
   "metadata": {
    "collapsed": false
   }
  },
  {
   "cell_type": "code",
   "execution_count": null,
   "outputs": [],
   "source": [
    "full_df_loss_cond = []\n",
    "full_df_loss_marg = []\n",
    "RESULTS_PATH = f\"results/{DATASET}/{LENGTH}/{MDS_DIM}\"\n",
    "dir_path = os.path.join(RESULTS_PATH, \"losses\")\n",
    "\n",
    "for file in tqdm(os.listdir(dir_path)):\n",
    "    #one plot for each model showing the loss on all descriptors. Files are {model}_{descriptor}_{run}_XY.csv\n",
    "    if file.endswith(\".csv\"):\n",
    "        file_split = file[:-4].split(\"_\")\n",
    "        if file_split[0] == DATASET and file_split[1] in MODELS and file_split[-2] == str(LENGTH):\n",
    "            if file_split[-1] == \"marg\":\n",
    "                model, descriptor = file.split(\"_\")[:2]\n",
    "                df_tmp = pd.read_csv(os.path.join(dir_path, file))\n",
    "                full_df_loss_marg.append(df_tmp)\n",
    "            else:\n",
    "                model, descriptor = file.split(\"_\")[:2]\n",
    "                df_tmp = pd.read_csv(os.path.join(dir_path, file))\n",
    "                full_df_loss_cond.append(df_tmp)\n",
    "\n",
    "full_df_loss_cond = pd.concat(full_df_loss_cond)\n",
    "full_df_loss_marg = pd.concat(full_df_loss_marg)\n",
    "\n"
   ],
   "metadata": {
    "collapsed": false
   }
  },
  {
   "cell_type": "code",
   "execution_count": null,
   "outputs": [],
   "source": [
    "n_rows = np.ceil(full_df_loss_cond.Y.nunique()/5).astype(int)+1\n",
    "n_cols = 5\n",
    "fig, axes = plt.subplots(n_rows,n_cols,figsize=(n_cols*4,4*n_rows))\n",
    "axes = axes.flatten()\n",
    "for i, model in enumerate(tqdm(full_df_loss_marg.X.unique())):\n",
    "    df_tmp = full_df_loss_marg[full_df_loss_marg.X == model]\n",
    "    sns.lineplot(data=df_tmp, x=\"epoch\", y=\"marg_ent\", hue=\"X\", ax=axes[i], estimator=None, errorbar= None, n_boot=0, legend=False)\n",
    "    axes[i].set_title(model)\n",
    "    axes[i].set_xlabel(\"\")\n",
    "    axes[i].set_ylabel(\"Marginal entropy\")"
   ],
   "metadata": {
    "collapsed": false
   }
  },
  {
   "cell_type": "code",
   "execution_count": null,
   "outputs": [],
   "source": [
    "# remove EdgePred\n",
    "full_df_loss_cond = full_df_loss_cond[full_df_loss_cond.Y != \"EdgePred\"]\n",
    "full_df_loss_cond = full_df_loss_cond[full_df_loss_cond.X != \"EdgePred\"]\n",
    "\n",
    "full_df_loss_margin = full_df_loss_marg[full_df_loss_marg.X != \"EdgePred\"]"
   ],
   "metadata": {
    "collapsed": false
   }
  },
  {
   "cell_type": "code",
   "execution_count": null,
   "outputs": [],
   "source": [
    "n_rows = full_df_loss_cond.Y.nunique()\n",
    "n_cols = 2\n",
    "fig, axes = plt.subplots(n_rows,n_cols,figsize=(n_cols*4,4*n_rows))\n",
    "\n",
    "\n",
    "for i, model in enumerate(tqdm(full_df_loss_cond.Y.unique())):\n",
    "    df_tmp = full_df_loss_cond[(full_df_loss_cond.Y == model) & (full_df_loss_cond.direction == \"X->Y\")]\n",
    "    sns.lineplot(data=df_tmp, x=\"epoch\", y=\"cond_ent\", hue=\"X\", ax=axes[i,0], estimator=None, errorbar= None, n_boot=0, legend=False)\n",
    "    axes[i,0].set_title(model)\n",
    "    axes[i,0].set_xlabel(\"\")\n",
    "    axes[i,0].set_ylabel(\"X->Y H(Y|X)\")\n",
    "\n",
    "    df_tmp = full_df_loss_cond[(full_df_loss_cond.Y == model) & (full_df_loss_cond.direction == \"Y->X\")]\n",
    "\n",
    "    sns.lineplot(data=df_tmp, x=\"epoch\", y=\"cond_ent\", hue=\"X\", ax=axes[i,1], estimator=None, errorbar= None, n_boot=0, legend=False)\n",
    "    axes[i,1].set_title(model)\n",
    "    axes[i,1].set_xlabel(\"\")\n",
    "    axes[i,1].set_ylabel(\"Y->X H(X|Y)\")\n"
   ],
   "metadata": {
    "collapsed": false
   }
  },
  {
   "cell_type": "code",
   "execution_count": null,
   "outputs": [],
   "source": [],
   "metadata": {
    "collapsed": false
   }
  },
  {
   "cell_type": "markdown",
   "source": [
    "## MI between descriptors and embeddings"
   ],
   "metadata": {
    "collapsed": false
   }
  },
  {
   "cell_type": "code",
   "execution_count": null,
   "outputs": [],
   "source": [
    "import os\n",
    "import numpy as np\n",
    "\n",
    "all_df = []\n",
    "for file in os.listdir(RESULTS_PATH):\n",
    "    if file.endswith(\".csv\"):\n",
    "        file_split = file[:-4].split(\"_\")\n",
    "        if file_split[0] == DATASET and file_split[-1] == str(LENGTH):\n",
    "            all_df.append(pd.read_csv(os.path.join(RESULTS_PATH, file)))\n",
    "df = pd.concat(all_df)\n",
    "\n",
    "#df =df[df.Y.isin(DESCRIPTORS)]\n",
    "df"
   ],
   "metadata": {
    "collapsed": false
   }
  },
  {
   "cell_type": "markdown",
   "source": [
    "\n",
    "## Clustermap"
   ],
   "metadata": {
    "collapsed": false
   }
  },
  {
   "cell_type": "code",
   "execution_count": null,
   "outputs": [],
   "source": [
    "df[\"I(Y->X)/dim\"] = df[\"I(Y->X)\"]/df[\"X_dim\"]\n",
    "df[\"I(X->Y)/dim\"] = df[\"I(X->Y)\"]/df[\"Y_dim\"]\n",
    "\n",
    "df[\"I(Y->X)/I(X)\"] = df[\"I(Y->X)\"]/df[\"I(X)\"]\n",
    "df[\"I(X->Y)/I(Y)\"] = df[\"I(X->Y)\"]/df[\"I(Y)\"]\n",
    "\n",
    "df[\"I(Y->X)/I(X)\"] = df[\"I(Y->X)\"]/df[\"I(X)\"]\n",
    "df[\"I(X->Y)/I(Y)\"] = df[\"I(X->Y)\"]/df[\"I(Y)\"]\n",
    "\n",
    "\n",
    "\n",
    "df[\"I(Y->X) - I(X->Y)\"] =  df[\"I(Y->X)\"]-df[\"I(X->Y)\"]\n",
    "df[\"I(Y->X)/dim - I(X->Y)/dim\"] = df[\"I(Y->X)/dim\"]-df[\"I(X->Y)/dim\"]\n",
    "df[\"I(Y->X)/I(X) - I(X->Y)/I(Y)\"] = df[\"I(Y->X)/I(X)\"]-df[\"I(X->Y)/I(Y)\"]\n",
    "\n",
    "df[\"I(Y->X) / I(X->Y)\"] =  df[\"I(Y->X)\"]/(df[\"I(X->Y)\"] + 1e-8)\n",
    "df[\"I(Y->X)/dim / I(X->Y)/dim\"] = df[\"I(Y->X)/dim\"]/(df[\"I(X->Y)/dim\"] + 1e-8)\n",
    "df[\"I(Y->X)/I(X) / I(X->Y)/I(Y)\"] = df[\"I(Y->X)/I(X)\"]/(df[\"I(X->Y)/I(Y)\"] + 1e-8)\n",
    "\n",
    "df = df.dropna()"
   ],
   "metadata": {
    "collapsed": false
   }
  },
  {
   "cell_type": "code",
   "execution_count": null,
   "outputs": [],
   "source": [
    "df.X = df.X.apply(lambda x: x[:-1])"
   ],
   "metadata": {
    "collapsed": false
   }
  },
  {
   "cell_type": "code",
   "execution_count": null,
   "outputs": [],
   "source": [
    "df = df[(df.Y!= \"EdgePred\") & (\"EdgePred\" != df.X)]"
   ],
   "metadata": {
    "collapsed": false
   }
  },
  {
   "cell_type": "code",
   "execution_count": null,
   "outputs": [],
   "source": [
    "df[df.X == \"DenoisingPretrainingPQCMv4\"]"
   ],
   "metadata": {
    "collapsed": false
   }
  },
  {
   "cell_type": "code",
   "execution_count": null,
   "outputs": [],
   "source": [
    "keys = [\n",
    "    \"I(Y->X)\", \"I(X->Y)\", \"I(Y->X)/dim\", \"I(X->Y)/dim\",\n",
    "    \"I(Y->X) - I(X->Y)\", \"I(Y->X)/dim - I(X->Y)/dim\",\n",
    "]"
   ],
   "metadata": {
    "collapsed": false
   }
  },
  {
   "cell_type": "code",
   "execution_count": null,
   "outputs": [],
   "source": [
    "%matplotlib inline\n",
    "\n",
    "fig,axes = plt.subplots(1,3,figsize=(15, 5), sharex=True)\n",
    "\n",
    "sns.scatterplot(data=df, y=\"I(Y->X)\", x=\"X_dim\", hue=\"X\", ax=axes[0], legend=False)\n",
    "\n",
    "sns.scatterplot(data=df, y=\"I(Y->X)/dim\", x=\"X_dim\", hue=\"X\", ax=axes[1], legend=False)\n",
    "\n",
    "sns.scatterplot(data=df, y=\"I(Y->X)/I(X)\", x=\"X_dim\", hue=\"X\", ax=axes[2], legend=False)\n"
   ],
   "metadata": {
    "collapsed": false
   }
  },
  {
   "cell_type": "code",
   "execution_count": null,
   "outputs": [],
   "source": [
    "%matplotlib inline\n",
    "\n",
    "fig,axes = plt.subplots(1,3,figsize=(15, 5), sharex=True)\n",
    "\n",
    "sns.scatterplot(data=df, y=\"I(X->Y)\", x=\"Y_dim\", hue=\"Y\", ax=axes[0], legend=False)\n",
    "sns.scatterplot(data=df, y=\"I(X->Y)/dim\", x=\"Y_dim\", hue=\"Y\", ax=axes[1], legend=False)\n",
    "sns.scatterplot(data=df, y=\"I(X->Y)/I(Y)\", x=\"Y_dim\", hue=\"Y\", ax=axes[2], legend=False)\n"
   ],
   "metadata": {
    "collapsed": false
   }
  },
  {
   "cell_type": "code",
   "execution_count": null,
   "outputs": [],
   "source": [
    "df"
   ],
   "metadata": {
    "collapsed": false
   }
  },
  {
   "cell_type": "code",
   "execution_count": null,
   "outputs": [],
   "source": [
    "def plot_cmap(df, keys, cmap = \"copper\", vmin = None, vmax = None, center = None):\n",
    "    if vmax is None:\n",
    "        vmax = [None]*len(keys)\n",
    "    if vmin is None:\n",
    "        vmin = [None]*len(keys)\n",
    "    for i, key in enumerate(keys):\n",
    "        df_pivot = df.pivot_table(index=\"X\", columns=\"Y\", values=key, aggfunc=\"mean\")\n",
    "        from scipy.cluster.hierarchy import linkage\n",
    "        link = linkage(df_pivot, method=\"ward\")\n",
    "        cluster = sns.clustermap(\n",
    "            df_pivot, row_linkage=link, col_linkage=link,\n",
    "            cmap=cmap, figsize=(8,8), vmin=vmin[i], vmax=vmax[i], center=center\n",
    "        )\n",
    "        cluster.savefig(\"fig/cluster_{}.png\".format(i))\n",
    "        plt.clf()\n",
    "\n",
    "    import matplotlib.image as mpimg\n",
    "    fig, axes = plt.subplots(1,len(keys), figsize=(8*len(keys),8))\n",
    "    for i, key in enumerate(keys):\n",
    "        axes[i].imshow(mpimg.imread(\"fig/cluster_{}.png\".format(i)))\n",
    "        axes[i].axis(\"off\")\n",
    "        axes[i].set_title(key)\n",
    "    plt.show()"
   ],
   "metadata": {
    "collapsed": false
   }
  },
  {
   "cell_type": "code",
   "execution_count": null,
   "outputs": [],
   "source": [
    "%matplotlib inline\n",
    "plot_cmap(\n",
    "    df,\n",
    "    [\"I(X->Y)\", \"I(X->Y)/dim\", \"I(X->Y)/I(Y)\"],\n",
    "    cmap=\"viridis\",\n",
    ")"
   ],
   "metadata": {
    "collapsed": false
   }
  },
  {
   "cell_type": "code",
   "execution_count": null,
   "outputs": [],
   "source": [
    "plot_cmap(\n",
    "    df,\n",
    "    [\"I(Y->X) - I(X->Y)\", \"I(Y->X)/dim - I(X->Y)/dim\", \"I(Y->X)/I(X) - I(X->Y)/I(Y)\"],\n",
    "    cmap=\"seismic\",\n",
    "    center=0\n",
    ")"
   ],
   "metadata": {
    "collapsed": false
   }
  },
  {
   "cell_type": "code",
   "execution_count": null,
   "outputs": [],
   "source": [
    "import networkx as nx\n",
    "import matplotlib.pyplot as plt\n",
    "import matplotlib.patheffects as patheffects\n",
    "\n",
    "sns.set_style(\"whitegrid\")\n",
    "\n",
    "cmap =sns.color_palette(\"crest\", as_cmap=True)\n",
    "\n",
    "\n",
    "table = df.pivot_table(index=\"X\", columns=\"Y\", values=\"I(X->Y)/dim\", aggfunc=\"mean\")\n",
    "# remove lines and columns containing xsum in index and columns\n",
    "\n",
    "# compute 1/x for each value\n",
    "\n",
    "G= nx.from_pandas_adjacency(table, create_using=nx.DiGraph)\n",
    "G.remove_edges_from(nx.selfloop_edges(G))\n",
    "\n",
    "\n",
    "\n",
    "\n",
    "avg_weight = {n : np.median([d[2]['weight'] for d in G.out_edges(n, data=True)]) for n in G.nodes()}\n",
    "avg_income = {n : np.median([d[2]['weight'] for d in G.in_edges(n, data=True)]) for n in G.nodes()}\n",
    "\n",
    "\n",
    "layout = nx.spring_layout(G, k=0.7, iterations=10000)\n",
    "fig, ax = plt.subplots(figsize=(20, 10))\n",
    "\n",
    "def make_border_color(strength, cmap, vmin, vmax):\n",
    "    return cmap((strength - vmin) / (vmax - vmin))\n",
    "\n",
    "\n",
    "# draw nodes with border color based on avg_income\n",
    "nx.draw_networkx_nodes(G, layout, node_size=1000, node_color=list(avg_weight.values()), cmap=cmap, vmin=min(avg_weight.values()), vmax=max(avg_weight.values()), ax=ax, linewidths=4, edgecolors=[make_border_color(avg_income[n], cmap, min(avg_income.values()), max(avg_income.values())) for n in G.nodes()])\n",
    "\n",
    "edge_weights = np.array([d[2]['weight'] for d in G.edges(data=True)])\n",
    "edge_weights = (edge_weights - edge_weights.min())/(edge_weights.max() - edge_weights.min())\n",
    "edge_weights_alpha = edge_weights**4\n",
    "\n",
    "nx.draw_networkx_edges(G, layout, width=3*(edge_weights)**2, edge_color=edge_weights, edge_cmap=cmap, ax=ax, arrowsize=30, arrowstyle='-|>', connectionstyle='arc3, rad = 0.4',  alpha=edge_weights_alpha)\n",
    "\n",
    "nx.draw_networkx_labels(G, layout, font_size=14, font_color='black', font_weight='bold', ax=ax)\n",
    "\n",
    "\n",
    "\n",
    "\n",
    "# add cmap legend\n",
    "sm = plt.cm.ScalarMappable(cmap=cmap, norm=plt.Normalize(vmin=min(avg_weight.values()), vmax=max(avg_weight.values())))\n",
    "sm._A = []\n",
    "plt.colorbar(sm, ax=plt.gca())\n",
    "\n",
    "# add white contour to all texts in the figure\n",
    "for text in plt.gca().texts:\n",
    "    text.set_path_effects([patheffects.Stroke(linewidth=4, foreground='white'), patheffects.Normal()])\n",
    "\n",
    "plt.tight_layout()\n",
    "axis = plt.gca()\n",
    "axis.set_xlim([1.2*x for x in axis.get_xlim()])\n",
    "axis.set_ylim([1.2*y for y in axis.get_ylim()])\n",
    "plt.tight_layout()"
   ],
   "metadata": {
    "collapsed": false
   }
  },
  {
   "cell_type": "code",
   "execution_count": null,
   "outputs": [],
   "source": [
    "import networkx as nx\n",
    "import matplotlib.pyplot as plt\n",
    "import matplotlib.patheffects as patheffects\n",
    "\n",
    "sns.set_style(\"whitegrid\")\n",
    "\n",
    "cmap =sns.color_palette(\"crest\", as_cmap=True)\n",
    "\n",
    "\n",
    "table = df.pivot_table(index=\"X\", columns=\"Y\", values=\"I(X->Y)/dim\", aggfunc=\"mean\")\n",
    "# remove lines and columns containing xsum in index and columns\n",
    "\n",
    "# compute 1/x for each value\n",
    "\n",
    "G= nx.from_pandas_adjacency(table, create_using=nx.DiGraph)\n",
    "G.remove_edges_from(nx.selfloop_edges(G))\n",
    "\n",
    "\n",
    "\n",
    "\n",
    "avg_weight = {n : np.median([d[2]['weight'] for d in G.out_edges(n, data=True)]) for n in G.nodes()}\n",
    "avg_income = {n : np.median([d[2]['weight'] for d in G.in_edges(n, data=True)]) for n in G.nodes()}\n",
    "\n",
    "\n",
    "layout = nx.spring_layout(G, k=0.7, iterations=10000)\n",
    "fig, ax = plt.subplots(figsize=(20, 10))\n",
    "\n",
    "def make_border_color(strength, cmap, vmin, vmax):\n",
    "    return cmap((strength - vmin) / (vmax - vmin))\n",
    "\n",
    "\n",
    "# draw nodes with border color based on avg_income\n",
    "nx.draw_networkx_nodes(G, layout, node_size=1000, node_color=list(avg_weight.values()), cmap=cmap, vmin=min(avg_weight.values()), vmax=max(avg_weight.values()), ax=ax, linewidths=4, edgecolors=[make_border_color(avg_income[n], cmap, min(avg_income.values()), max(avg_income.values())) for n in G.nodes()])\n",
    "\n",
    "edge_weights = np.array([d[2]['weight'] for d in G.edges(data=True)])\n",
    "edge_weights = (edge_weights - edge_weights.min())/(edge_weights.max() - edge_weights.min())\n",
    "edge_weights_alpha = edge_weights**1\n",
    "\n",
    "nx.draw_networkx_edges(G, layout, width=3*(edge_weights)**2, edge_color=edge_weights, edge_cmap=cmap, ax=ax, arrowsize=30, arrowstyle='-|>', connectionstyle='arc3, rad = 0.4',  alpha=edge_weights_alpha)\n",
    "\n",
    "nx.draw_networkx_labels(G, layout, font_size=14, font_color='black', font_weight='bold', ax=ax)\n",
    "\n",
    "\n",
    "\n",
    "\n",
    "# add cmap legend\n",
    "sm = plt.cm.ScalarMappable(cmap=cmap, norm=plt.Normalize(vmin=min(avg_weight.values()), vmax=max(avg_weight.values())))\n",
    "sm._A = []\n",
    "plt.colorbar(sm, ax=plt.gca())\n",
    "\n",
    "# add white contour to all texts in the figure\n",
    "for text in plt.gca().texts:\n",
    "    text.set_path_effects([patheffects.Stroke(linewidth=4, foreground='white'), patheffects.Normal()])\n",
    "\n",
    "plt.tight_layout()\n",
    "axis = plt.gca()\n",
    "axis.set_xlim([1.2*x for x in axis.get_xlim()])\n",
    "axis.set_ylim([1.2*y for y in axis.get_ylim()])\n",
    "plt.tight_layout()"
   ],
   "metadata": {
    "collapsed": false
   }
  },
  {
   "cell_type": "code",
   "execution_count": null,
   "outputs": [],
   "source": [
    "import networkx as nx\n",
    "import matplotlib.pyplot as plt\n",
    "import matplotlib.patheffects as patheffects\n",
    "\n",
    "sns.set_style(\"whitegrid\")\n",
    "\n",
    "cmap =sns.color_palette(\"crest\", as_cmap=True)\n",
    "\n",
    "\n",
    "table = df.pivot_table(index=\"X\", columns=\"Y\", values=\"I(X->Y)\", aggfunc=\"mean\")\n",
    "# remove lines and columns containing xsum in index and columns\n",
    "\n",
    "# compute 1/x for each value\n",
    "\n",
    "G= nx.from_pandas_adjacency(table, create_using=nx.DiGraph)\n",
    "G.remove_edges_from(nx.selfloop_edges(G))\n",
    "\n",
    "\n",
    "\n",
    "\n",
    "avg_weight = {n : np.median([d[2]['weight'] for d in G.out_edges(n, data=True)]) for n in G.nodes()}\n",
    "avg_income = {n : np.median([d[2]['weight'] for d in G.in_edges(n, data=True)]) for n in G.nodes()}\n",
    "\n",
    "\n",
    "layout = nx.spring_layout(G, k=0.7, iterations=10000)\n",
    "fig, ax = plt.subplots(figsize=(20, 10))\n",
    "\n",
    "def make_border_color(strength, cmap, vmin, vmax):\n",
    "    return cmap((strength - vmin) / (vmax - vmin))\n",
    "\n",
    "\n",
    "# draw nodes with border color based on avg_income\n",
    "nx.draw_networkx_nodes(G, layout, node_size=1000, node_color=list(avg_weight.values()), cmap=cmap, vmin=min(avg_weight.values()), vmax=max(avg_weight.values()), ax=ax, linewidths=4, edgecolors=[make_border_color(avg_income[n], cmap, min(avg_income.values()), max(avg_income.values())) for n in G.nodes()])\n",
    "\n",
    "edge_weights = np.array([d[2]['weight'] for d in G.edges(data=True)])\n",
    "edge_weights = (edge_weights - edge_weights.min())/(edge_weights.max() - edge_weights.min())\n",
    "edge_weights_alpha = edge_weights**2\n",
    "\n",
    "nx.draw_networkx_edges(G, layout, width=3*(edge_weights)**2, edge_color=edge_weights, edge_cmap=cmap, ax=ax, arrowsize=30, arrowstyle='-|>', connectionstyle='arc3, rad = 0.4',  alpha=edge_weights_alpha)\n",
    "\n",
    "nx.draw_networkx_labels(G, layout, font_size=14, font_color='black', font_weight='bold', ax=ax)\n",
    "\n",
    "\n",
    "\n",
    "\n",
    "# add cmap legend\n",
    "sm = plt.cm.ScalarMappable(cmap=cmap, norm=plt.Normalize(vmin=min(avg_weight.values()), vmax=max(avg_weight.values())))\n",
    "sm._A = []\n",
    "plt.colorbar(sm, ax=plt.gca())\n",
    "\n",
    "# add white contour to all texts in the figure\n",
    "for text in plt.gca().texts:\n",
    "    text.set_path_effects([patheffects.Stroke(linewidth=4, foreground='white'), patheffects.Normal()])\n",
    "\n",
    "plt.tight_layout()\n",
    "axis = plt.gca()\n",
    "axis.set_xlim([1.2*x for x in axis.get_xlim()])\n",
    "axis.set_ylim([1.2*y for y in axis.get_ylim()])\n",
    "plt.tight_layout()"
   ],
   "metadata": {
    "collapsed": false
   }
  },
  {
   "cell_type": "code",
   "execution_count": null,
   "outputs": [],
   "source": [
    "df.X.unique()"
   ],
   "metadata": {
    "collapsed": false
   }
  },
  {
   "cell_type": "code",
   "execution_count": null,
   "outputs": [],
   "source": [
    "import networkx as nx\n",
    "import matplotlib.pyplot as plt\n",
    "import matplotlib.patheffects as patheffects\n",
    "\n",
    "sns.set_style(\"whitegrid\")\n",
    "\n",
    "cmap =sns.color_palette(\"vlag\", as_cmap=True)\n",
    "\n",
    "smiles_models= [\n",
    "    \"ChemBertMLM-5M\",\n",
    "    \"ChemBertMLM-10M\",\n",
    "    \"ChemBertMLM-77M\",\n",
    "    \"ChemBertMTR-5M\",\n",
    "    \"ChemBertMTR-10M\",\n",
    "    \"ChemBertMTR-77M\",\n",
    "    \"MolBert\"\n",
    "]\n",
    "\n",
    "table = df[~df.X.isin(smiles_models) & ~df.Y.isin(smiles_models)].pivot_table(index=\"X\", columns=\"Y\", values=\"I(X->Y)/dim\", aggfunc=\"mean\")\n",
    "\n",
    "G= nx.from_pandas_adjacency(table, create_using=nx.DiGraph)\n",
    "G.remove_edges_from(nx.selfloop_edges(G))\n",
    "\n",
    "\n",
    "\n",
    "\n",
    "avg_weight = {n : np.median([d[2]['weight'] for d in G.out_edges(n, data=True)]) for n in G.nodes()}\n",
    "avg_income = {n : np.median([d[2]['weight'] for d in G.in_edges(n, data=True)]) for n in G.nodes()}\n",
    "# remove edge with weighht <= 50\n",
    "# for edge in list(G.edges(data=True)):\n",
    "#     if edge[2]['weight'] >= 1/55:\n",
    "#         G.remove_edge(edge[0], edge[1])\n",
    "\n",
    "\n",
    "layout = nx.spring_layout(G, k=-0.9, iterations=100)\n",
    "fig, ax = plt.subplots(figsize=(20, 10))\n",
    "\n",
    "def make_border_color(strength, cmap, vmin, vmax):\n",
    "    return cmap((strength - vmin) / (vmax - vmin))\n",
    "\n",
    "\n",
    "# draw nodes with border color based on avg_income\n",
    "nx.draw_networkx_nodes(G, layout, node_size=1000, node_color=list(avg_weight.values()), cmap=cmap, vmin=min(avg_weight.values()), vmax=max(avg_weight.values()), ax=ax, linewidths=4, edgecolors=[make_border_color(avg_income[n], cmap, min(avg_income.values()), max(avg_income.values())) for n in G.nodes()])\n",
    "\n",
    "edge_weights = np.array([d[2]['weight'] for d in G.edges(data=True)])\n",
    "edge_weights = (edge_weights - edge_weights.min())/(edge_weights.max() - edge_weights.min())\n",
    "\n",
    "edge_weights_alpha = abs(2*(edge_weights-0.5))**(0.8)\n",
    "\n",
    "nx.draw_networkx_edges(G, layout, width=3*(edge_weights)**2, edge_color=edge_weights, edge_cmap=cmap, ax=ax, arrowsize=30, arrowstyle='-|>', connectionstyle='arc3, rad = 0.4',  alpha=edge_weights_alpha)\n",
    "\n",
    "nx.draw_networkx_labels(G, layout, font_size=14, font_color='black', font_weight='bold', ax=ax)\n",
    "\n",
    "\n",
    "\n",
    "\n",
    "# add cmap legend\n",
    "sm = plt.cm.ScalarMappable(cmap=cmap, norm=plt.Normalize(vmin=min(avg_weight.values()), vmax=max(avg_weight.values())))\n",
    "sm._A = []\n",
    "plt.colorbar(sm, ax=plt.gca())\n",
    "\n",
    "# add white contour to all texts in the figure\n",
    "for text in plt.gca().texts:\n",
    "    text.set_path_effects([patheffects.Stroke(linewidth=4, foreground='white'), patheffects.Normal()])\n",
    "\n",
    "plt.tight_layout()\n",
    "axis = plt.gca()\n",
    "axis.set_xlim([1.2*x for x in axis.get_xlim()])\n",
    "axis.set_ylim([1.2*y for y in axis.get_ylim()])\n",
    "plt.tight_layout()"
   ],
   "metadata": {
    "collapsed": false
   }
  },
  {
   "cell_type": "code",
   "execution_count": null,
   "outputs": [],
   "source": [
    "edge_weights.min()"
   ],
   "metadata": {
    "collapsed": false
   }
  },
  {
   "cell_type": "code",
   "execution_count": null,
   "outputs": [],
   "source": [],
   "metadata": {
    "collapsed": false
   }
  },
  {
   "cell_type": "code",
   "execution_count": null,
   "outputs": [],
   "source": [],
   "metadata": {
    "collapsed": false
   }
  }
 ],
 "metadata": {
  "kernelspec": {
   "display_name": "Python 3",
   "language": "python",
   "name": "python3"
  },
  "language_info": {
   "codemirror_mode": {
    "name": "ipython",
    "version": 2
   },
   "file_extension": ".py",
   "mimetype": "text/x-python",
   "name": "python",
   "nbconvert_exporter": "python",
   "pygments_lexer": "ipython2",
   "version": "2.7.6"
  }
 },
 "nbformat": 4,
 "nbformat_minor": 0
}
