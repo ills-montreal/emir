{
 "cells": [
  {
   "cell_type": "markdown",
   "source": [
    "# Knife MI analysis"
   ],
   "metadata": {
    "collapsed": false
   }
  },
  {
   "cell_type": "code",
   "execution_count": null,
   "outputs": [],
   "source": [
    "import os\n",
    "\n",
    "import seaborn as sns\n",
    "import matplotlib.pyplot as plt\n",
    "import pandas as pd\n",
    "from tqdm import tqdm as tqdm\n",
    "import numpy as np\n",
    "import json\n",
    "import sklearn\n",
    "from sklearn.decomposition import PCA\n",
    "\n",
    "from utils import MolecularFeatureExtractor\n",
    "from models.model_paths import get_model_path"
   ],
   "metadata": {
    "collapsed": false
   }
  },
  {
   "cell_type": "code",
   "execution_count": null,
   "outputs": [],
   "source": [
    "DATASET = \"ZINC\"\n",
    "LENGTH = 1024\n",
    "MDS_DIM = 100\n",
    "\n",
    "DESCRIPTORS = [\n",
    "            \"ecfp\",\n",
    "            \"estate\",\n",
    "            \"fcfp\",\n",
    "            \"erg\",\n",
    "            \"rdkit\",\n",
    "            \"topological\",\n",
    "            \"avalon\",\n",
    "            \"maccs\",\n",
    "            \"secfp\",\n",
    "            \"scaffoldkeys\",\n",
    "            \"cats\",\n",
    "            \"gobbi\",\n",
    "            \"pmapper\",\n",
    "            \"cats/3D\",\n",
    "            \"gobbi/3D\",\n",
    "            \"pmapper/3D\",\n",
    "            \"ScatteringWavelet\",\n",
    "        ]\n",
    "MODELS = [\n",
    "        \"ContextPred\",\n",
    "        \"GPT-GNN\",\n",
    "        \"GraphMVP\",\n",
    "        \"GROVER\",\n",
    "        # \"EdgePred\", # This model is especially bad and makes visualization hard\n",
    "        \"AttributeMask\",\n",
    "        \"GraphLog\",\n",
    "        \"GraphCL\",\n",
    "        \"InfoGraph\",\n",
    "        \"Not-trained\",\n",
    "        \"MolBert\",\n",
    "        \"ChemBertMLM-5M\",\n",
    "        \"ChemBertMLM-10M\",\n",
    "        \"ChemBertMLM-77M\",\n",
    "        \"ChemBertMTR-5M\",\n",
    "        \"ChemBertMTR-10M\",\n",
    "        \"ChemBertMTR-77M\",\n",
    "        \"ChemGPT-1.2B\",\n",
    "        \"ChemGPT-19M\",\n",
    "        \"ChemGPT-4.7M\",\n",
    "        \"DenoisingPretrainingPQCMv4\",\n",
    "        \"FRAD_QM9\",\n",
    "        \"MolR_gat\",\n",
    "        \"MolR_gcn\",\n",
    "        \"MolR_tag\",\n",
    "        \"MoleOOD_OGB_GIN\",\n",
    "        \"MoleOOD_OGB_GCN\",\n",
    "        \"MoleOOD_OGB_SAGE\",\n",
    "        \"ThreeDInfomax\",\n",
    "    ]\n",
    "\n",
    "MODELS_PATH = get_model_path(models=MODELS)\n",
    "\n",
    "\n",
    "with open(f\"data/{DATASET}/smiles.json\", \"r\") as f:\n",
    "    smiles = json.load(f)\n",
    "\n",
    "if not len(smiles) > 50000:\n",
    "    import datamol as dm\n",
    "    mols = dm.read_sdf(f\"data/{DATASET}/preprocessed.sdf\")\n",
    "\n",
    "    feature_extractor = MolecularFeatureExtractor(dataset=DATASET, length=LENGTH, mds_dim=MDS_DIM, device=\"cuda\")\n",
    "    # same plots but in 3D\n",
    "\n",
    "    fig,axes = plt.subplots(3,len(MODELS)//3,figsize=(len(MODELS)//3*5,3*5), subplot_kw={'projection': '3d'})\n",
    "    axes = axes.flatten()\n",
    "\n",
    "    for i,model in enumerate(MODELS):\n",
    "        embeddings = feature_extractor.get_features(smiles, mols = mols, name=model,feature_type=\"model\",path = MODELS_PATH.get(model, None))\n",
    "        # nromalize embeddings\n",
    "        embeddings = (embeddings - embeddings.mean(axis=0))/(embeddings.std(axis=0) +1e-8)\n",
    "        pca = PCA(n_components=3)\n",
    "        embeddings_pca = pca.fit_transform(embeddings.cpu())\n",
    "        df = pd.DataFrame(embeddings_pca, columns=[f\"PC{i}\" for i in range(1,4)])\n",
    "        df[\"smiles\"] = smiles\n",
    "        # using pyplot\n",
    "        axes[i].scatter3D(df[\"PC1\"], df[\"PC2\"], df[\"PC3\"], c=df[\"PC1\"], cmap='viridis', alpha=0.1)\n",
    "        axes[i].set_title(model)\n"
   ],
   "metadata": {
    "collapsed": false
   }
  },
  {
   "cell_type": "code",
   "execution_count": null,
   "outputs": [],
   "source": [
    "full_df_loss_cond = []\n",
    "full_df_loss_marg = []\n",
    "RESULTS_PATH = f\"results/{DATASET}/{LENGTH}/{MDS_DIM}\"\n",
    "dir_path = os.path.join(RESULTS_PATH, \"losses\")\n",
    "\n",
    "for file in tqdm(os.listdir(dir_path)):\n",
    "    if file.endswith(\".csv\") and file[:-4].split(\"_\")[0] == DATASET:\n",
    "        file_split = file[:-4].split(\"_\")\n",
    "        if file_split[-1] == \"marg\":\n",
    "            df_tmp = pd.read_csv(os.path.join(dir_path, file))\n",
    "            full_df_loss_marg.append(df_tmp)\n",
    "        else:\n",
    "            df_tmp = pd.read_csv(os.path.join(dir_path, file))\n",
    "            full_df_loss_cond.append(df_tmp)\n",
    "\n",
    "full_df_loss_cond = pd.concat(full_df_loss_cond)\n",
    "full_df_loss_marg = pd.concat(full_df_loss_marg)\n",
    "\n"
   ],
   "metadata": {
    "collapsed": false
   }
  },
  {
   "cell_type": "code",
   "execution_count": null,
   "outputs": [],
   "source": [
    "full_df_loss_cond"
   ],
   "metadata": {
    "collapsed": false
   }
  },
  {
   "cell_type": "code",
   "execution_count": null,
   "outputs": [],
   "source": [
    "n_rows = np.ceil(full_df_loss_cond.Y.nunique()/5).astype(int)+1\n",
    "n_cols = 5\n",
    "fig, axes = plt.subplots(n_rows,n_cols,figsize=(n_cols*4,4*n_rows))\n",
    "axes = axes.flatten()\n",
    "for i, model in enumerate(tqdm(full_df_loss_marg.X.unique())):\n",
    "    df_tmp = full_df_loss_marg[full_df_loss_marg.X == model]\n",
    "    sns.lineplot(data=df_tmp, x=\"epoch\", y=\"marg_ent\", hue=\"X\", ax=axes[i], estimator=None, errorbar= None, n_boot=0, legend=False)\n",
    "    axes[i].set_title(model)\n",
    "    axes[i].set_xlabel(\"\")\n",
    "    axes[i].set_ylabel(\"Marginal entropy\")"
   ],
   "metadata": {
    "collapsed": false
   }
  },
  {
   "cell_type": "code",
   "execution_count": null,
   "outputs": [],
   "source": [
    "# remove EdgePred\n",
    "full_df_loss_cond = full_df_loss_cond[full_df_loss_cond.Y != \"EdgePred\"]\n",
    "full_df_loss_cond = full_df_loss_cond[full_df_loss_cond.X != \"EdgePred\"]\n",
    "\n",
    "full_df_loss_margin = full_df_loss_marg[full_df_loss_marg.X != \"EdgePred\"]"
   ],
   "metadata": {
    "collapsed": false
   }
  },
  {
   "cell_type": "code",
   "execution_count": null,
   "outputs": [],
   "source": [
    "n_rows = full_df_loss_cond.Y.nunique()\n",
    "n_cols = 2\n",
    "fig, axes = plt.subplots(n_rows,n_cols,figsize=(n_cols*4,4*n_rows))\n",
    "\n",
    "\n",
    "for i, model in enumerate(tqdm(full_df_loss_cond.Y.unique())):\n",
    "    df_tmp = full_df_loss_cond[(full_df_loss_cond.Y == model) & (full_df_loss_cond.direction == \"X->Y\")]\n",
    "    sns.lineplot(data=df_tmp, x=\"epoch\", y=\"cond_ent\", hue=\"X\", ax=axes[i,0], estimator=None, errorbar= None, n_boot=0, legend=False)\n",
    "    axes[i,0].set_title(model)\n",
    "    axes[i,0].set_xlabel(\"\")\n",
    "    axes[i,0].set_ylabel(\"X->Y H(Y|X)\")\n",
    "\n",
    "    df_tmp = full_df_loss_cond[(full_df_loss_cond.Y == model) & (full_df_loss_cond.direction == \"Y->X\")]\n",
    "\n",
    "    sns.lineplot(data=df_tmp, x=\"epoch\", y=\"cond_ent\", hue=\"X\", ax=axes[i,1], estimator=None, errorbar= None, n_boot=0, legend=False)\n",
    "    axes[i,1].set_title(model)\n",
    "    axes[i,1].set_xlabel(\"\")\n",
    "    axes[i,1].set_ylabel(\"Y->X H(X|Y)\")\n"
   ],
   "metadata": {
    "collapsed": false
   }
  },
  {
   "cell_type": "code",
   "execution_count": null,
   "outputs": [],
   "source": [],
   "metadata": {
    "collapsed": false
   }
  },
  {
   "cell_type": "markdown",
   "source": [
    "## MI between descriptors and embeddings"
   ],
   "metadata": {
    "collapsed": false
   }
  },
  {
   "cell_type": "code",
   "execution_count": null,
   "outputs": [],
   "source": [
    "import os\n",
    "import numpy as np\n",
    "\n",
    "all_df = []\n",
    "for file in os.listdir(RESULTS_PATH):\n",
    "    if file.endswith(\".csv\"):\n",
    "        file_split = file[:-4].split(\"_\")\n",
    "        if file_split[0] == DATASET and file_split[-1] == str(LENGTH):\n",
    "            all_df.append(pd.read_csv(os.path.join(RESULTS_PATH, file)))\n",
    "df = pd.concat(all_df)\n",
    "df.X = df.X.apply(lambda x: x.replace(f\"{LENGTH}\", \"\"))\n",
    "\n",
    "#df =df[df.Y.isin(DESCRIPTORS)]\n",
    "df"
   ],
   "metadata": {
    "collapsed": false
   }
  },
  {
   "cell_type": "code",
   "execution_count": null,
   "outputs": [],
   "source": [
    "# Complete the I(X|Y) type columns by switching X and Y\n",
    "df_tmp = df.copy()\n",
    "df_tmp[\"X\"] = df.Y\n",
    "df_tmp[\"Y\"] = df.X\n",
    "\n",
    "df_tmp[\"I(Y->X)\"] = df[\"I(X->Y)\"]\n",
    "df_tmp[\"I(X)\"] = df[\"I(Y)\"]\n",
    "df_tmp[\"I(X|Y)\"] = df[\"I(Y|X)\"]\n",
    "\n",
    "\n",
    "df = df[[\"X\",\"Y\", \"I(Y)\", \"I(Y|X)\", \"I(X->Y)\", \"X_dim\", \"Y_dim\"]].join(\n",
    "    df_tmp[[\"X\", \"Y\", \"I(X)\", \"I(X|Y)\", \"I(Y->X)\"]].set_index(\n",
    "        [\"X\", \"Y\"]\n",
    "    ), on=[\"X\", \"Y\"]\n",
    ")\n",
    "df"
   ],
   "metadata": {
    "collapsed": false
   }
  },
  {
   "cell_type": "markdown",
   "source": [
    "\n",
    "## Clustermap"
   ],
   "metadata": {
    "collapsed": false
   }
  },
  {
   "cell_type": "code",
   "execution_count": null,
   "outputs": [],
   "source": [
    "df[\"I(Y->X)/dim\"] = df[\"I(Y->X)\"]/df[\"X_dim\"]\n",
    "df[\"I(X->Y)/dim\"] = df[\"I(X->Y)\"]/df[\"Y_dim\"]\n",
    "\n",
    "df[\"I(Y->X)/I(X)\"] = df[\"I(Y->X)\"]/df[\"I(X)\"]\n",
    "df[\"I(X->Y)/I(Y)\"] = df[\"I(X->Y)\"]/df[\"I(Y)\"]\n",
    "\n",
    "df[\"I(Y->X)/I(X)\"] = df[\"I(Y->X)\"]/df[\"I(X)\"]\n",
    "df[\"I(X->Y)/I(Y)\"] = df[\"I(X->Y)\"]/df[\"I(Y)\"]\n",
    "\n",
    "\n",
    "\n",
    "df[\"I(Y->X) - I(X->Y)\"] =  df[\"I(Y->X)\"]-df[\"I(X->Y)\"]\n",
    "df[\"I(Y->X)/dim - I(X->Y)/dim\"] = df[\"I(Y->X)/dim\"]-df[\"I(X->Y)/dim\"]\n",
    "df[\"I(Y->X)/I(X) - I(X->Y)/I(Y)\"] = df[\"I(Y->X)/I(X)\"]-df[\"I(X->Y)/I(Y)\"]\n",
    "\n",
    "df[\"I(Y->X) / I(X->Y)\"] =  df[\"I(Y->X)\"]/(df[\"I(X->Y)\"] + 1e-8)\n",
    "df[\"I(Y->X)/dim / I(X->Y)/dim\"] = df[\"I(Y->X)/dim\"]/(df[\"I(X->Y)/dim\"] + 1e-8)\n",
    "df[\"I(Y->X)/I(X) / I(X->Y)/I(Y)\"] = df[\"I(Y->X)/I(X)\"]/(df[\"I(X->Y)/I(Y)\"] + 1e-8)\n",
    "\n",
    "df"
   ],
   "metadata": {
    "collapsed": false
   }
  },
  {
   "cell_type": "code",
   "execution_count": null,
   "outputs": [],
   "source": [
    "df = df[(df.Y!= \"EdgePred\") & (\"EdgePred\" != df.X)]"
   ],
   "metadata": {
    "collapsed": false
   }
  },
  {
   "cell_type": "code",
   "execution_count": null,
   "outputs": [],
   "source": [
    "keys = [\n",
    "    \"I(Y->X)\", \"I(X->Y)\", \"I(Y->X)/dim\", \"I(X->Y)/dim\",\n",
    "    \"I(Y->X) - I(X->Y)\", \"I(Y->X)/dim - I(X->Y)/dim\",\n",
    "]"
   ],
   "metadata": {
    "collapsed": false
   }
  },
  {
   "cell_type": "code",
   "execution_count": null,
   "outputs": [],
   "source": [
    "%matplotlib inline\n",
    "\n",
    "fig,axes = plt.subplots(1,3,figsize=(15, 5), sharex=True)\n",
    "\n",
    "sns.scatterplot(data=df, y=\"I(Y->X)\", x=\"X_dim\", hue=\"X\", ax=axes[0], legend=False)\n",
    "\n",
    "sns.scatterplot(data=df, y=\"I(Y->X)/dim\", x=\"X_dim\", hue=\"X\", ax=axes[1], legend=False)\n",
    "\n",
    "sns.scatterplot(data=df, y=\"I(Y->X)/I(X)\", x=\"X_dim\", hue=\"X\", ax=axes[2], legend=False)\n"
   ],
   "metadata": {
    "collapsed": false
   }
  },
  {
   "cell_type": "code",
   "execution_count": null,
   "outputs": [],
   "source": [
    "%matplotlib inline\n",
    "\n",
    "fig,axes = plt.subplots(1,3,figsize=(15, 5), sharex=True)\n",
    "\n",
    "sns.scatterplot(data=df, y=\"I(X->Y)\", x=\"Y_dim\", hue=\"Y\", ax=axes[0], legend=False)\n",
    "sns.scatterplot(data=df, y=\"I(X->Y)/dim\", x=\"Y_dim\", hue=\"Y\", ax=axes[1], legend=False)\n",
    "sns.scatterplot(data=df, y=\"I(X->Y)/I(Y)\", x=\"Y_dim\", hue=\"Y\", ax=axes[2], legend=False)\n"
   ],
   "metadata": {
    "collapsed": false
   }
  },
  {
   "cell_type": "code",
   "execution_count": null,
   "outputs": [],
   "source": [],
   "metadata": {
    "collapsed": false
   }
  },
  {
   "cell_type": "code",
   "execution_count": null,
   "outputs": [],
   "source": [
    "df = df[df.X.isin(df.Y.unique())]\n",
    "df"
   ],
   "metadata": {
    "collapsed": false
   }
  },
  {
   "cell_type": "code",
   "execution_count": null,
   "outputs": [],
   "source": [
    "from scipy.cluster.hierarchy import linkage\n",
    "\n",
    "def plot_cmap(df, keys, cmap = \"copper\", vmin = None, vmax = None, center = None, values=False):\n",
    "    if vmax is None:\n",
    "        vmax = [None]*len(keys)\n",
    "    if vmin is None:\n",
    "        vmin = [None]*len(keys)\n",
    "    for i, key in enumerate(keys):\n",
    "        df_pivot = df.pivot_table(index=\"X\", columns=\"Y\", values=key, aggfunc=\"mean\")\n",
    "\n",
    "        link = linkage(df_pivot, method=\"ward\")\n",
    "        cluster = sns.clustermap(\n",
    "            df_pivot, row_linkage=link, col_linkage=link,\n",
    "            cmap=cmap, figsize=(8,8), vmin=vmin[i], vmax=vmax[i], center=center, annot=values\n",
    "        )\n",
    "        cluster.savefig(\"fig/cluster_{}.png\".format(i))\n",
    "        plt.clf()\n",
    "\n",
    "    import matplotlib.image as mpimg\n",
    "    fig, axes = plt.subplots(1,len(keys), figsize=(8*len(keys),8))\n",
    "    for i, key in enumerate(keys):\n",
    "        axes[i].imshow(mpimg.imread(\"fig/cluster_{}.png\".format(i)))\n",
    "        axes[i].axis(\"off\")\n",
    "        axes[i].set_title(key)\n",
    "    plt.show()"
   ],
   "metadata": {
    "collapsed": false
   }
  },
  {
   "cell_type": "code",
   "execution_count": null,
   "outputs": [],
   "source": [
    "%matplotlib inline\n",
    "plot_cmap(\n",
    "    df,\n",
    "    [\"I(X->Y)\", \"I(X->Y)/dim\"],\n",
    "    cmap=\"viridis\",\n",
    ")"
   ],
   "metadata": {
    "collapsed": false
   }
  },
  {
   "cell_type": "code",
   "execution_count": null,
   "outputs": [],
   "source": [
    "plot_cmap(\n",
    "    df,\n",
    "    [\"I(Y->X) - I(X->Y)\", \"I(Y->X)/dim - I(X->Y)/dim\"],\n",
    "    cmap=\"seismic\",\n",
    "    center=0\n",
    ")"
   ],
   "metadata": {
    "collapsed": false
   }
  },
  {
   "cell_type": "code",
   "execution_count": null,
   "outputs": [],
   "source": [
    "models_to_cons = [\n",
    "        \"ContextPred\",\n",
    "        \"GPT-GNN\",\n",
    "        \"GraphMVP\",\n",
    "        \"GROVER\",\n",
    "        # \"EdgePred\", # This model is especially bad and makes visualization hard\n",
    "        \"AttributeMask\",\n",
    "        \"GraphLog\",\n",
    "        \"GraphCL\",\n",
    "        \"InfoGraph\",\n",
    "        \"Not-trained\",\n",
    "        \"MolBert\",\n",
    "        \"ChemBertMLM-10M\",\n",
    "        \"ChemBertMTR-77M\",\n",
    "        \"ChemGPT-1.2B\",\n",
    "        \"DenoisingPretrainingPQCMv4\",\n",
    "        \"FRAD_QM9\",\n",
    "        \"MolR_tag\",\n",
    "        \"MoleOOD_OGB_GIN\",\n",
    "        \"ThreeDInfomax\",\n",
    "    ]\n",
    "\n",
    "plot_cmap(\n",
    "    df[\n",
    "        (df.X.isin(models_to_cons)) & (df.Y.isin(models_to_cons))\n",
    "    ],\n",
    "    [\"I(X->Y)\", \"I(X->Y)/dim\"],\n",
    "    cmap=\"rocket\",\n",
    ")"
   ],
   "metadata": {
    "collapsed": false
   }
  },
  {
   "cell_type": "code",
   "execution_count": null,
   "outputs": [],
   "source": [],
   "metadata": {
    "collapsed": false
   }
  },
  {
   "cell_type": "code",
   "execution_count": null,
   "outputs": [],
   "source": [],
   "metadata": {
    "collapsed": false
   }
  },
  {
   "cell_type": "code",
   "execution_count": null,
   "outputs": [],
   "source": [
    "import networkx as nx\n",
    "import matplotlib.pyplot as plt\n",
    "import matplotlib.patheffects as patheffects\n",
    "\n",
    "sns.set_style(\"whitegrid\")\n",
    "\n",
    "\n"
   ],
   "metadata": {
    "collapsed": false
   }
  },
  {
   "cell_type": "code",
   "execution_count": null,
   "outputs": [],
   "source": [
    "from netgraph import Graph, InteractiveGraph\n",
    "from networkx.algorithms.community import girvan_newman, modularity_max, louvain_communities\n",
    "\n",
    "def plot_com(df, cmap=\"crest\", min_alpha = 0.0,\n",
    "    max_alpha = 1.0, alpha_pow=2, min_edge_width = 0.0, max_edge_width = 1, edge_pow=2, node_layout=\"community\", edge_layout=\"bundled\", com_resolution=1.1, figsize=10, clip_min_values_width = 0, clip_min_values_alpha = 0, com_pad_by = 0.001, fontsize = 15):\n",
    "    table = df.pivot_table(index=\"X\", columns=\"Y\", values=\"I(X->Y)/dim\", aggfunc=\"mean\")\n",
    "    # remove lines and columns containing xsum in index and columns\n",
    "\n",
    "    # compute 1/x for each value\n",
    "\n",
    "    G= nx.from_pandas_adjacency(table, create_using=nx.DiGraph)\n",
    "    G.remove_edges_from(nx.selfloop_edges(G))\n",
    "\n",
    "    communities = louvain_communities(G, resolution=com_resolution)\n",
    "    communities = list(communities)\n",
    "    cmap = sns.color_palette(cmap, as_cmap=True)\n",
    "\n",
    "    G= nx.from_pandas_adjacency(table, create_using=nx.DiGraph)\n",
    "    G.remove_edges_from(nx.selfloop_edges(G))\n",
    "\n",
    "    avg_weight = {n : np.median([d[2]['weight'] for d in G.out_edges(n, data=True)]) for n in G.nodes()}\n",
    "    avg_income = {n : np.median([d[2]['weight'] for d in G.in_edges(n, data=True)]) for n in G.nodes()}\n",
    "    node_to_community = {node: i for i, community in enumerate(communities) for node in community}\n",
    "\n",
    "    node_color = {node: cmap(avg_weight[node]) for node in G.nodes()}\n",
    "    node_edge_color = {node: cmap(avg_income[node]) for node in G.nodes()}\n",
    "    node_labels = {node: node for node in G.nodes()}\n",
    "    edge_color = {edge: cmap(G.edges[edge]['weight']) for edge in G.edges()}\n",
    "\n",
    "    # normalize edge alpha\n",
    "    min_alpha = 0.0\n",
    "    max_alpha = 1.0\n",
    "    edge_alpha = {edge: G.edges[edge]['weight'] for edge in G.edges()}\n",
    "    min_edge = np.quantile(list(edge_alpha.values()), clip_min_values_alpha)\n",
    "    edge_alpha = {edge: ((edge_alpha[edge] - min_edge) / (max(edge_alpha.values()) - min_edge))**alpha_pow * (max_alpha - min_alpha) + min_alpha for edge in edge_alpha}\n",
    "\n",
    "    # edge width\n",
    "\n",
    "    edge_width = {edge: G.edges[edge]['weight'] for edge in G.edges()}\n",
    "    min_edge = np.quantile(list(edge_width.values()), clip_min_values_width)\n",
    "    edge_width = {edge: (edge_width[edge] -min_edge) / (max(edge_width.values()) - min_edge)**edge_pow * (max_edge_width - min_edge_width) + min_edge_width for edge in edge_width}\n",
    "\n",
    "\n",
    "\n",
    "    fig, ax = plt.subplots(figsize=(figsize, figsize))\n",
    "    if node_layout == \"community\":\n",
    "        node_layout_kwargs = dict(node_to_community=node_to_community, pad_by=com_pad_by)\n",
    "    else:\n",
    "        node_layout_kwargs = {}\n",
    "    graph = Graph(G, node_layout_kwargs=node_layout_kwargs, node_layout=node_layout, node_color=node_color, node_labels=node_labels, edge_color=edge_color, ax=ax, node_label_fontdict={'fontsize': fontsize, 'fontweight': 'bold'}, node_edge_color=node_edge_color, edge_layout=edge_layout, edge_alpha=edge_alpha, arrows=True, prettify=True)\n",
    "\n",
    "\n",
    "    # add white contour to all texts in the figure\n",
    "    for text in plt.gca().texts:\n",
    "        text.set_path_effects([patheffects.Stroke(linewidth=4, foreground='white'), patheffects.Normal()])"
   ],
   "metadata": {
    "collapsed": false
   }
  },
  {
   "cell_type": "code",
   "execution_count": null,
   "outputs": [],
   "source": [
    "plot_com(\n",
    "    df,\n",
    "    figsize=15,\n",
    "    com_resolution=1.2,\n",
    "    min_edge_width=0,\n",
    "    max_edge_width=.1,\n",
    "    clip_min_values_alpha=0.1,\n",
    "    cmap=\"flare\",\n",
    "    fontsize=10,\n",
    "    com_pad_by=0.001\n",
    ")\n",
    "plt.savefig(\"fig/MI_graph.pdf\", format = \"pdf\", bbox_inches = 'tight')"
   ],
   "metadata": {
    "collapsed": false
   }
  },
  {
   "cell_type": "code",
   "execution_count": null,
   "outputs": [],
   "source": [
    "\n",
    "plot_com(\n",
    "    df[\n",
    "        (df.X.isin(models_to_cons)) & (df.Y.isin(models_to_cons))\n",
    "     ],\n",
    "    figsize=15,\n",
    "    com_resolution=1.2,\n",
    "    min_edge_width=0,\n",
    "    max_edge_width=.1,\n",
    "    clip_min_values_alpha=0.1,\n",
    "    cmap=\"flare\",\n",
    "    fontsize=10\n",
    ")\n"
   ],
   "metadata": {
    "collapsed": false
   }
  },
  {
   "cell_type": "code",
   "execution_count": null,
   "outputs": [],
   "source": [
    "plot_com(df[\n",
    "             (df.X.isin(models_to_cons)) & (df.Y.isin(models_to_cons))\n",
    "         ], edge_layout=\"straight\", figsize=15, com_resolution=1.15, max_edge_width=.7, clip_min_values_alpha=0.5)"
   ],
   "metadata": {
    "collapsed": false
   }
  },
  {
   "cell_type": "code",
   "execution_count": null,
   "outputs": [],
   "source": [
    "df\n"
   ],
   "metadata": {
    "collapsed": false
   }
  },
  {
   "cell_type": "code",
   "execution_count": null,
   "outputs": [],
   "source": [
    "%matplotlib inline\n",
    "plt.figure(figsize=(6,4))\n",
    "sns.scatterplot(data=df[df.X == \"Not-trained\"], x=\"I(Y->X)/dim\", y=\"I(X->Y)/dim\", hue=\"Y\", legend=False)\n",
    "\n",
    "plt.title(\"Predictive mutual information, X is a models that hasn't been trained\")\n",
    "plt.xlabel(\"I(Y->X)\")\n",
    "plt.ylabel(\"I(X->Y)\")\n",
    "plt.plot([0, 1.5], [0, 1.5], \"r--\")\n",
    "plt.xlim(0.2,0.7)\n",
    "plt.ylim(0,0.7)\n",
    "plt.show()"
   ],
   "metadata": {
    "collapsed": false
   }
  },
  {
   "cell_type": "code",
   "execution_count": null,
   "outputs": [],
   "source": [
    "%matplotlib inline\n",
    "plt.figure(figsize=(6,4))\n",
    "df_tmp = df[df.X == \"DenoisingPretrainingPQCMv4\"]\n",
    "\n",
    "sns.scatterplot(data=df_tmp, x=\"I(Y->X)/dim\", y=\"I(X->Y)/dim\", hue=\"Y\", legend=False)\n",
    "sns.scatterplot(data=df_tmp[df_tmp.Y == \"FRAD_QM9\"], x=\"I(Y->X)/dim\", y=\"I(X->Y)/dim\", color=\"black\")\n",
    "\n",
    "plt.title(\"Predictive mutual information, X is a denosing 3D model\")\n",
    "plt.xlabel(\"I(Y->X)\")\n",
    "plt.ylabel(\"I(X->Y)\")\n",
    "plt.plot([0, 1.5], [0, 1.5], \"r--\")\n",
    "plt.xlim(0,0.4)\n",
    "plt.ylim(0.1,0.7)\n",
    "plt.show()"
   ],
   "metadata": {
    "collapsed": false
   }
  },
  {
   "cell_type": "code",
   "execution_count": null,
   "outputs": [],
   "source": [
    "df_avg = df.groupby(\"Y\").mean()\n",
    "df_avg[\"information\"] = df_avg[\"I(Y->X)/dim\"]\n",
    "fig, ax  = plt.subplots(figsize=(6,6))\n",
    "sns.barplot(df_avg.sort_values(\"information\") ,x=\"information\", hue=\"Y\", legend=False, ax = ax, y=\"Y\")\n",
    "\n",
    "plt.title(\"Mean predictive mutual information of a model to predict the other models\")\n",
    "plt.ylabel(\"\")\n",
    "plt.xlabel(\"Mean predictive mutual information\")\n",
    "plt.savefig(\"fig/mean_information.pdf\", format = \"pdf\", bbox_inches = 'tight')"
   ],
   "metadata": {
    "collapsed": false
   }
  },
  {
   "cell_type": "code",
   "execution_count": null,
   "outputs": [],
   "source": [],
   "metadata": {
    "collapsed": false
   }
  },
  {
   "cell_type": "code",
   "execution_count": null,
   "outputs": [],
   "source": [
    "df_downs = pd.read_csv(\"results/tmp.csv\")\n",
    "df_avg.rename(columns={\"Y\":\"embedder\"}, inplace=True)\n",
    "df_downs = df_downs.join(df_avg[\"information\"], on=\"embedder\")\n",
    "df_downs.sample(3)"
   ],
   "metadata": {
    "collapsed": false
   }
  },
  {
   "cell_type": "code",
   "execution_count": null,
   "outputs": [],
   "source": [
    "df_downs[(df_downs.dataset == \"DILI\") & (df_downs.embedder == \"ChemBertMLM-10M\")]"
   ],
   "metadata": {
    "collapsed": false
   }
  },
  {
   "cell_type": "code",
   "execution_count": null,
   "outputs": [],
   "source": [
    "from autorank import autorank\n",
    "#rank each model on each task\n"
   ],
   "metadata": {
    "collapsed": false
   }
  },
  {
   "cell_type": "code",
   "execution_count": null,
   "outputs": [],
   "source": [
    "df_to_rank = df_downs.pivot_table(index=\"dataset\", columns=\"embedder\", values=\"metric\", aggfunc=\"mean\")\n",
    "\n",
    "df_to_rank"
   ],
   "metadata": {
    "collapsed": false
   }
  },
  {
   "cell_type": "code",
   "execution_count": null,
   "outputs": [],
   "source": [
    "res = autorank(df_to_rank, alpha=0.05, verbose=False, force_mode=\"nonparametric\").rankdf\n",
    "\n",
    "df_downs[\"meanrank_metric\"] = df_downs.embedder.apply(lambda x: res.loc[x].meanrank)"
   ],
   "metadata": {
    "collapsed": false
   }
  },
  {
   "cell_type": "code",
   "execution_count": null,
   "outputs": [],
   "source": [
    "df_to_rank = df[[\"Y\",\"I(Y->X)\", \"X\"]].pivot_table(index=\"X\",columns=\"Y\", values=\"I(Y->X)\", aggfunc=\"mean\")\n",
    "\n",
    "res = autorank(df_to_rank, alpha=0.05, verbose=False).rankdf\n",
    "\n",
    "df_downs[\"meanrank_information\"] = df_downs.embedder.apply(lambda x: res.loc[x].meanrank)"
   ],
   "metadata": {
    "collapsed": false
   }
  },
  {
   "cell_type": "code",
   "execution_count": null,
   "outputs": [],
   "source": [
    "df_downs"
   ],
   "metadata": {
    "collapsed": false
   }
  },
  {
   "cell_type": "code",
   "execution_count": null,
   "outputs": [],
   "source": [
    "n_rows = 3\n",
    "n_cols = df_downs.dataset.nunique() // n_rows\n",
    "\n",
    "fig, axes = plt.subplots(n_rows,n_cols, figsize=(3*n_cols,3*n_rows), sharey=True)\n",
    "axes = axes.flatten()\n",
    "\n",
    "\n",
    "for i,dataset in enumerate(df_downs.dataset.unique()):\n",
    "    df_tmp = df_downs[df_downs.dataset == dataset]\n",
    "    # compute ranking for roc\n",
    "    sns.scatterplot(data=df_downs[df_downs.dataset == dataset], x=\"metric\", y=\"information\", hue=\"embedder\", ax=axes[i], legend=False)\n",
    "    # add linear regression\n",
    "    sns.regplot(data=df_tmp, x=\"metric\", y=\"information\", ax=axes[i], scatter=False, color=\"blue\", line_kws = {\"alpha\":0.2})\n",
    "    axes[i].set_title(dataset)\n",
    "\n",
    "fig.tight_layout()\n",
    "plt.savefig(\"fig/roc_vs_information.pdf\", format = \"pdf\", bbox_inches = 'tight')"
   ],
   "metadata": {
    "collapsed": false
   }
  },
  {
   "cell_type": "code",
   "execution_count": null,
   "outputs": [],
   "source": [
    "sns.scatterplot(data=df_downs.groupby(\"embedder\").mean(), x=\"metric\", y=\"information\", hue=\"embedder\", legend=False)\n",
    "sns.regplot(data=df_downs.groupby(\"embedder\").mean(), x=\"metric\", y=\"information\", scatter=False, color=\"blue\", line_kws = {\"alpha\":0.2})"
   ],
   "metadata": {
    "collapsed": false
   }
  },
  {
   "cell_type": "code",
   "execution_count": null,
   "outputs": [],
   "source": [
    "fig = plt.figure(figsize=(3,3))\n",
    "\n",
    "sns.scatterplot(data=df_downs.groupby(\"embedder\").mean(), x=\"meanrank_information\", y=\"meanrank_metric\", hue=\"embedder\", legend=False)\n",
    "sns.regplot(data=df_downs.groupby(\"embedder\").mean(), x=\"meanrank_information\", y=\"meanrank_metric\", scatter=False, color=\"blue\", line_kws = {\"alpha\":0.2})\n",
    "\n",
    "plt.xlabel(\"Mean rank of models' predictivity\")\n",
    "plt.ylabel(\"Mean rank on downstream tasks\")\n",
    "\n",
    "plt.savefig(\"fig/meanrank.pdf\", format = \"pdf\", bbox_inches = 'tight')"
   ],
   "metadata": {
    "collapsed": false
   }
  },
  {
   "cell_type": "code",
   "execution_count": null,
   "outputs": [],
   "source": [
    "n_rows = 3\n",
    "n_cols = df_downs.dataset.nunique() // n_rows\n",
    "\n",
    "fig, axes = plt.subplots(n_rows,n_cols, figsize=(3*n_cols,3*n_rows), sharey=True)\n",
    "axes = axes.flatten()\n",
    "\n",
    "\n",
    "\n",
    "for i,dataset in enumerate(df_downs.dataset.unique()):\n",
    "    sns.scatterplot(data=df_downs.sort_values(\"information\")[df_downs.dataset == dataset], x=\"metric\", y=\"embedder\", hue=\"embedder\",  ax=axes[i], legend=False)\n",
    "    axes[i].set_title(dataset)\n",
    "    axes[i].set_xticklabels(axes[i].get_xticklabels(), rotation=90)\n",
    "\n",
    "fig.tight_layout()"
   ],
   "metadata": {
    "collapsed": false
   }
  },
  {
   "cell_type": "code",
   "execution_count": null,
   "outputs": [],
   "source": [
    "%matplotlib inline\n",
    "fig = plt.figure(figsize=(6,6))\n",
    "sns.scatterplot(data=df_downs.groupby(\"embedder\").mean().sort_values(\"information\"), y=\"embedder\", x=\"meanrank_metric\", hue=\"embedder\", legend=False)\n",
    "\n",
    "plt.savefig(\"fig/meanrank_roc.pdf\", format = \"pdf\", bbox_inches = 'tight')"
   ],
   "metadata": {
    "collapsed": false
   }
  },
  {
   "cell_type": "code",
   "execution_count": null,
   "outputs": [],
   "source": [],
   "metadata": {
    "collapsed": false
   }
  }
 ],
 "metadata": {
  "kernelspec": {
   "display_name": "Python 3",
   "language": "python",
   "name": "python3"
  },
  "language_info": {
   "codemirror_mode": {
    "name": "ipython",
    "version": 2
   },
   "file_extension": ".py",
   "mimetype": "text/x-python",
   "name": "python",
   "nbconvert_exporter": "python",
   "pygments_lexer": "ipython2",
   "version": "2.7.6"
  }
 },
 "nbformat": 4,
 "nbformat_minor": 0
}
