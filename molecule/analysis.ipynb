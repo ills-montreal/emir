{
 "cells": [
  {
   "cell_type": "markdown",
   "source": [
    "# Knife MI analysis"
   ],
   "metadata": {
    "collapsed": false
   }
  },
  {
   "cell_type": "code",
   "execution_count": null,
   "outputs": [],
   "source": [
    "import os\n",
    "\n",
    "import seaborn as sns\n",
    "import matplotlib.pyplot as plt\n",
    "import pandas as pd\n",
    "from tqdm import tqdm as tqdm\n",
    "import numpy as np\n",
    "import json\n",
    "import sklearn\n",
    "from sklearn.decomposition import PCA\n",
    "\n",
    "from utils import MolecularFeatureExtractor\n",
    "from models.model_paths import get_model_path\n",
    "\n",
    "from main import GROUPED_MODELS\n",
    "\n",
    "from utils_notebook import plot_embeddings, MODELS, MODELS_PATH, get_loss_df,get_MI_df"
   ],
   "metadata": {
    "collapsed": false
   }
  },
  {
   "cell_type": "code",
   "execution_count": null,
   "outputs": [],
   "source": [
    "# plot_embeddings(\"ClinTox\")"
   ],
   "metadata": {
    "collapsed": false
   }
  },
  {
   "cell_type": "code",
   "execution_count": null,
   "outputs": [],
   "source": [
    "DATASET = \"ZINC\"\n",
    "results_dir_list = [\"run_2-1layer\", \"run_2\", \"run_2_3\", \"run_2_4\"]"
   ],
   "metadata": {
    "collapsed": false
   }
  },
  {
   "cell_type": "code",
   "execution_count": null,
   "outputs": [],
   "source": [
    "COLUMS_SPLIT = \"ff_layers\""
   ],
   "metadata": {
    "collapsed": false
   }
  },
  {
   "cell_type": "code",
   "execution_count": null,
   "outputs": [],
   "source": [
    "full_df_loss_marg, full_df_loss_cond = get_loss_df(DATASET, results_dir_list)"
   ],
   "metadata": {
    "collapsed": false
   }
  },
  {
   "cell_type": "code",
   "execution_count": null,
   "outputs": [],
   "source": [
    "n_rows = np.ceil(full_df_loss_marg.X.nunique()/5).astype(int)+1\n",
    "n_cols = 5\n",
    "fig, axes = plt.subplots(n_rows,n_cols,figsize=(n_cols*4,4*n_rows))\n",
    "axes = axes.flatten()\n",
    "for i, model in enumerate(tqdm(full_df_loss_marg.X.unique())):\n",
    "    df_tmp = full_df_loss_marg[full_df_loss_marg.X == model]\n",
    "    sns.lineplot(data=df_tmp, x=\"epoch\", y=\"marg_ent\", hue=COLUMS_SPLIT, ax=axes[i], estimator=None, errorbar= None, n_boot=0, legend=False)\n",
    "    axes[i].set_title(model)\n",
    "    axes[i].set_xlabel(\"\")\n",
    "    axes[i].set_ylabel(\"Marginal entropy\")"
   ],
   "metadata": {
    "collapsed": false
   }
  },
  {
   "cell_type": "code",
   "execution_count": null,
   "outputs": [],
   "source": [
    "full_df_loss_cond.epoch = full_df_loss_cond.epoch.astype(int)\n",
    "full_df_loss_cond = full_df_loss_cond.groupby([\"X\", \"Y\", \"cond_modes\", \"marg_modes\", \"ff_hidden_dim\", \"ff_layers\", \"epoch\"]).mean().reset_index()"
   ],
   "metadata": {
    "collapsed": false
   }
  },
  {
   "cell_type": "code",
   "execution_count": null,
   "outputs": [],
   "source": [
    "\n",
    "for ff_layers in full_df_loss_cond.ff_layers.unique():\n",
    "    n_cols = 4\n",
    "    n_rows = np.ceil(full_df_loss_cond.Y.nunique()/n_cols).astype(int)\n",
    "\n",
    "    fig, axes = plt.subplots(n_rows,n_cols,figsize=(n_cols*4,4*n_rows))\n",
    "    axes = axes.flatten()\n",
    "    for i, model in enumerate(tqdm(full_df_loss_cond.Y.unique())):\n",
    "        df_tmp = full_df_loss_cond[\n",
    "            (full_df_loss_cond.Y == model) & (full_df_loss_cond.ff_layers == ff_layers)\n",
    "        ]\n",
    "        sns.lineplot(data=df_tmp, x=\"epoch\", y=\"cond_ent\", hue=\"X\", ax=axes[i], errorbar= None, n_boot=0, legend=False)\n",
    "        axes[i].set_title(model)\n",
    "        axes[i].set_xlabel(\"\")\n",
    "        axes[i].set_ylabel(\"H(Y|X)\")\n",
    "    plt.show()"
   ],
   "metadata": {
    "collapsed": false
   }
  },
  {
   "cell_type": "code",
   "execution_count": null,
   "outputs": [],
   "source": [
    "df_tmp"
   ],
   "metadata": {
    "collapsed": false
   }
  },
  {
   "cell_type": "markdown",
   "source": [
    "## MI between descriptors and embeddings"
   ],
   "metadata": {
    "collapsed": false,
    "ExecuteTime": {
     "end_time": "2024-04-05T17:05:22.314638214Z",
     "start_time": "2024-04-05T17:05:22.313981421Z"
    }
   },
   "outputs": [],
   "execution_count": 22
  },
  {
   "cell_type": "code",
   "execution_count": null,
   "outputs": [],
   "source": [
    "import os\n",
    "import numpy as np\n",
    "\n",
    "df = get_MI_df(DATASET, results_dir_list)\n",
    "\n",
    "#df =df[df.Y.isin(DESCRIPTORS)]\n",
    "df.groupby(\"X\").X_dim.mean()"
   ],
   "metadata": {
    "collapsed": false
   }
  },
  {
   "cell_type": "markdown",
   "source": [
    "\n",
    "## Clustermap"
   ],
   "metadata": {
    "collapsed": false,
    "ExecuteTime": {
     "end_time": "2024-04-05T17:05:22.462690124Z",
     "start_time": "2024-04-05T17:05:22.328599172Z"
    }
   },
   "outputs": [
    {
     "data": {
      "text/plain": "            X                 Y         I(Y)      I(Y|X)     I(X->Y)  X_dim  \\\n0   InfoGraph       ContextPred   129.383273   52.092004   77.291269    300   \n1   InfoGraph           GPT-GNN   281.251829  226.528228   54.723602    300   \n2   InfoGraph          GraphMVP   387.807348  263.611114  124.196234    300   \n3   InfoGraph            GROVER   384.679020  293.621788   91.057233    300   \n4   InfoGraph     AttributeMask   342.801693  224.687316  118.114377    300   \n..        ...               ...          ...         ...         ...    ...   \n23     GROVER          MolR_gcn  1315.184164  913.647300  401.536864    300   \n24     GROVER          MolR_tag  1311.471265  956.676064  354.795200    300   \n25     GROVER   MoleOOD_OGB_GIN   262.078067  187.992294   74.085774    300   \n26     GROVER   MoleOOD_OGB_GCN   272.791677  191.660158   81.131519    300   \n27     GROVER  MoleOOD_OGB_SAGE   271.850275  194.040153   77.810123    300   \n\n    Y_dim        I(X)      I(X|Y)     I(Y->X)  \n0     300  363.295102  312.802439   50.492663  \n1     300  363.295102  318.301537   44.993565  \n2     300  363.295102  212.427149  150.867953  \n3     300  363.295102  247.326301  115.968801  \n4     300  363.295102  307.576783   55.718319  \n..    ...         ...         ...         ...  \n23   1024         NaN         NaN         NaN  \n24   1024         NaN         NaN         NaN  \n25    256         NaN         NaN         NaN  \n26    256         NaN         NaN         NaN  \n27    256         NaN         NaN         NaN  \n\n[252 rows x 10 columns]",
      "text/html": "<div>\n<style scoped>\n    .dataframe tbody tr th:only-of-type {\n        vertical-align: middle;\n    }\n\n    .dataframe tbody tr th {\n        vertical-align: top;\n    }\n\n    .dataframe thead th {\n        text-align: right;\n    }\n</style>\n<table border=\"1\" class=\"dataframe\">\n  <thead>\n    <tr style=\"text-align: right;\">\n      <th></th>\n      <th>X</th>\n      <th>Y</th>\n      <th>I(Y)</th>\n      <th>I(Y|X)</th>\n      <th>I(X-&gt;Y)</th>\n      <th>X_dim</th>\n      <th>Y_dim</th>\n      <th>I(X)</th>\n      <th>I(X|Y)</th>\n      <th>I(Y-&gt;X)</th>\n    </tr>\n  </thead>\n  <tbody>\n    <tr>\n      <th>0</th>\n      <td>InfoGraph</td>\n      <td>ContextPred</td>\n      <td>129.383273</td>\n      <td>52.092004</td>\n      <td>77.291269</td>\n      <td>300</td>\n      <td>300</td>\n      <td>363.295102</td>\n      <td>312.802439</td>\n      <td>50.492663</td>\n    </tr>\n    <tr>\n      <th>1</th>\n      <td>InfoGraph</td>\n      <td>GPT-GNN</td>\n      <td>281.251829</td>\n      <td>226.528228</td>\n      <td>54.723602</td>\n      <td>300</td>\n      <td>300</td>\n      <td>363.295102</td>\n      <td>318.301537</td>\n      <td>44.993565</td>\n    </tr>\n    <tr>\n      <th>2</th>\n      <td>InfoGraph</td>\n      <td>GraphMVP</td>\n      <td>387.807348</td>\n      <td>263.611114</td>\n      <td>124.196234</td>\n      <td>300</td>\n      <td>300</td>\n      <td>363.295102</td>\n      <td>212.427149</td>\n      <td>150.867953</td>\n    </tr>\n    <tr>\n      <th>3</th>\n      <td>InfoGraph</td>\n      <td>GROVER</td>\n      <td>384.679020</td>\n      <td>293.621788</td>\n      <td>91.057233</td>\n      <td>300</td>\n      <td>300</td>\n      <td>363.295102</td>\n      <td>247.326301</td>\n      <td>115.968801</td>\n    </tr>\n    <tr>\n      <th>4</th>\n      <td>InfoGraph</td>\n      <td>AttributeMask</td>\n      <td>342.801693</td>\n      <td>224.687316</td>\n      <td>118.114377</td>\n      <td>300</td>\n      <td>300</td>\n      <td>363.295102</td>\n      <td>307.576783</td>\n      <td>55.718319</td>\n    </tr>\n    <tr>\n      <th>...</th>\n      <td>...</td>\n      <td>...</td>\n      <td>...</td>\n      <td>...</td>\n      <td>...</td>\n      <td>...</td>\n      <td>...</td>\n      <td>...</td>\n      <td>...</td>\n      <td>...</td>\n    </tr>\n    <tr>\n      <th>23</th>\n      <td>GROVER</td>\n      <td>MolR_gcn</td>\n      <td>1315.184164</td>\n      <td>913.647300</td>\n      <td>401.536864</td>\n      <td>300</td>\n      <td>1024</td>\n      <td>NaN</td>\n      <td>NaN</td>\n      <td>NaN</td>\n    </tr>\n    <tr>\n      <th>24</th>\n      <td>GROVER</td>\n      <td>MolR_tag</td>\n      <td>1311.471265</td>\n      <td>956.676064</td>\n      <td>354.795200</td>\n      <td>300</td>\n      <td>1024</td>\n      <td>NaN</td>\n      <td>NaN</td>\n      <td>NaN</td>\n    </tr>\n    <tr>\n      <th>25</th>\n      <td>GROVER</td>\n      <td>MoleOOD_OGB_GIN</td>\n      <td>262.078067</td>\n      <td>187.992294</td>\n      <td>74.085774</td>\n      <td>300</td>\n      <td>256</td>\n      <td>NaN</td>\n      <td>NaN</td>\n      <td>NaN</td>\n    </tr>\n    <tr>\n      <th>26</th>\n      <td>GROVER</td>\n      <td>MoleOOD_OGB_GCN</td>\n      <td>272.791677</td>\n      <td>191.660158</td>\n      <td>81.131519</td>\n      <td>300</td>\n      <td>256</td>\n      <td>NaN</td>\n      <td>NaN</td>\n      <td>NaN</td>\n    </tr>\n    <tr>\n      <th>27</th>\n      <td>GROVER</td>\n      <td>MoleOOD_OGB_SAGE</td>\n      <td>271.850275</td>\n      <td>194.040153</td>\n      <td>77.810123</td>\n      <td>300</td>\n      <td>256</td>\n      <td>NaN</td>\n      <td>NaN</td>\n      <td>NaN</td>\n    </tr>\n  </tbody>\n</table>\n<p>252 rows × 10 columns</p>\n</div>"
     },
     "execution_count": 24,
     "metadata": {},
     "output_type": "execute_result"
    }
   ],
   "execution_count": 24
  },
  {
   "cell_type": "code",
   "execution_count": null,
   "outputs": [],
   "source": [
    "df[\"I(X->Y)/dim\"] = df[\"I(X->Y)\"]/df[\"Y_dim\"]\n",
    "\n",
    "df_grouped = df[df.X!=df.Y].groupby([\"Y\", \"cond_modes\", \"marg_modes\", \"ff_hidden_dim\", \"ff_layers\"]).mean().reset_index()\n",
    "\n",
    "df[\"I(X->Y)_norm\"] = df.apply(\n",
    "    lambda x: x[\"I(X->Y)\"] / df_grouped[\n",
    "        (df_grouped.Y == x.Y) & (df_grouped.cond_modes == x.cond_modes) & (df_grouped.marg_modes == x.marg_modes) & (df_grouped.ff_hidden_dim == x.ff_hidden_dim) & (df_grouped.ff_layers == x.ff_layers)\n",
    "    ][\"I(X->Y)\"].values[0], axis=1\n",
    ")\n",
    "\n",
    "df[\"I(X->Y)/dim_norm\"] = df.apply(\n",
    "    lambda x: x[\"I(X->Y)/dim\"] / df_grouped[\n",
    "        (df_grouped.Y == x.Y) & (df_grouped.cond_modes == x.cond_modes) & (df_grouped.marg_modes == x.marg_modes) & (df_grouped.ff_hidden_dim == x.ff_hidden_dim) & (df_grouped.ff_layers == x.ff_layers)\n",
    "    ][\"I(X->Y)/dim\"].values[0], axis=1\n",
    ")\n",
    "\n",
    "df = df.fillna(0)\n",
    "df"
   ],
   "metadata": {
    "collapsed": false
   }
  },
  {
   "cell_type": "code",
   "execution_count": null,
   "outputs": [],
   "source": [
    "from scipy.cluster.hierarchy import linkage\n",
    "\n",
    "def plot_cmap(df, keys, cmap = \"copper\", vmin = None, vmax = None, center = None, values=False, same_linkage=True, title=\"\"):\n",
    "    if vmax is None:\n",
    "        vmax = [None]*len(keys)\n",
    "    if vmin is None:\n",
    "        vmin = [None]*len(keys)\n",
    "    for i, key in enumerate(keys):\n",
    "        df_pivot = df.pivot_table(index=\"X\", columns=\"Y\", values=key, aggfunc=\"mean\")\n",
    "        if same_linkage:\n",
    "            link = linkage(df_pivot, method=\"ward\")\n",
    "        else:\n",
    "            link = None\n",
    "        cluster = sns.clustermap(\n",
    "            df_pivot, row_linkage=link, col_linkage=link,\n",
    "            cmap=cmap, figsize=(8,8), vmin=vmin[i], vmax=vmax[i], center=center, annot=values\n",
    "        )\n",
    "        cluster.savefig(\"fig/cluster_{}.png\".format(i))\n",
    "        plt.clf()\n",
    "\n",
    "    import matplotlib.image as mpimg\n",
    "    fig, axes = plt.subplots(1,len(keys), figsize=(8*len(keys),8))\n",
    "    for i, key in enumerate(keys):\n",
    "        axes[i].imshow(mpimg.imread(\"fig/cluster_{}.png\".format(i)))\n",
    "        axes[i].axis(\"off\")\n",
    "        axes[i].set_title(key)\n",
    "\n",
    "    fig.suptitle(title)\n",
    "    plt.show()"
   ],
   "metadata": {
    "collapsed": false
   }
  },
  {
   "cell_type": "code",
   "execution_count": null,
   "outputs": [],
   "source": [
    "%matplotlib inline\n",
    "\n",
    "plot_cmap(\n",
    "    df[df[COLUMS_SPLIT]==1],\n",
    "    [\"I(X->Y)\", \"I(X->Y)/dim\"],\n",
    "    cmap=\"viridis\",\n",
    "    vmin=[None,None],\n",
    "    vmax=[None,None],\n",
    "    same_linkage=True,\n",
    "    title=\"Clustermap of the mutual information between models - {} : {}\".format(COLUMS_SPLIT, 1)\n",
    ")\n",
    "\n",
    "plot_cmap(\n",
    "    df[df[COLUMS_SPLIT]==2],\n",
    "    [\"I(X->Y)\", \"I(X->Y)/dim\"],\n",
    "    cmap=\"viridis\",\n",
    "    vmin=[None,None],\n",
    "    vmax=[None,None],\n",
    "    same_linkage=True,\n",
    "     title=\"Clustermap of the mutual information between models - {} : {}\".format(COLUMS_SPLIT, 2)\n",
    ")\n",
    "\n",
    "plot_cmap(\n",
    "    df[df[COLUMS_SPLIT]==3],\n",
    "    [\"I(X->Y)\", \"I(X->Y)/dim\"],\n",
    "    cmap=\"viridis\",\n",
    "    vmin=[None,None],\n",
    "    vmax=[None,None],\n",
    "    same_linkage=True,\n",
    "     title=\"Clustermap of the mutual information between models - {} : {}\".format(COLUMS_SPLIT, 3)\n",
    ")\n",
    "\n",
    "plot_cmap(\n",
    "    df[df[COLUMS_SPLIT]==4],\n",
    "    [\"I(X->Y)\", \"I(X->Y)/dim\"],\n",
    "    cmap=\"viridis\",\n",
    "    vmin=[None,None],\n",
    "    vmax=[None,None],\n",
    "    same_linkage=True,\n",
    "        title=\"Clustermap of the mutual information between models - {} : {}\".format(COLUMS_SPLIT, 4)\n",
    ")"
   ],
   "metadata": {
    "collapsed": false
   }
  },
  {
   "cell_type": "code",
   "execution_count": null,
   "outputs": [],
   "source": [
    "df_diff_14 = ((df[df[COLUMS_SPLIT]==4].set_index([\"X\",\"Y\"])[[\"I(X->Y)\", \"I(X->Y)/dim\", \"I(X->Y)/dim_norm\"]] - df[df[COLUMS_SPLIT]==1].set_index([\"X\",\"Y\"])[[\"I(X->Y)\", \"I(X->Y)/dim\", \"I(X->Y)/dim_norm\"]])/ df.groupby([\"X\",\"Y\"])[[\"I(X->Y)\", \"I(X->Y)/dim\", \"I(X->Y)/dim_norm\"]].mean()).reset_index()\n",
    "\n",
    "df_diff_12 = ((df[df[COLUMS_SPLIT]==2].set_index([\"X\",\"Y\"])[[\"I(X->Y)\", \"I(X->Y)/dim\", \"I(X->Y)/dim_norm\"]] - df[df[COLUMS_SPLIT]==1].set_index([\"X\",\"Y\"])[[\"I(X->Y)\", \"I(X->Y)/dim\", \"I(X->Y)/dim_norm\"]])/ df.groupby([\"X\",\"Y\"])[[\"I(X->Y)\", \"I(X->Y)/dim\", \"I(X->Y)/dim_norm\"]].mean()).reset_index()"
   ],
   "metadata": {
    "collapsed": false
   }
  },
  {
   "cell_type": "code",
   "execution_count": null,
   "outputs": [],
   "source": [
    "plot_cmap(\n",
    "    df_diff_12,\n",
    "    [\"I(X->Y)/dim\", \"I(X->Y)/dim_norm\"],\n",
    "    cmap=\"vlag\",\n",
    "    vmin=[None,None, None],\n",
    "    vmax=[None,None, None],\n",
    "    same_linkage=True,\n",
    "    center=0\n",
    ")\n",
    "\n",
    "plot_cmap(\n",
    "    df_diff_14,\n",
    "    [\"I(X->Y)/dim\", \"I(X->Y)/dim_norm\"],\n",
    "    cmap=\"vlag\",\n",
    "    vmin=[None,None, None],\n",
    "    vmax=[None,None, None],\n",
    "    same_linkage=True,\n",
    "    center=0\n",
    ")"
   ],
   "metadata": {
    "collapsed": false
   }
  },
  {
   "cell_type": "code",
   "execution_count": null,
   "outputs": [],
   "source": [
    "import networkx as nx\n",
    "import matplotlib.pyplot as plt\n",
    "import matplotlib.patheffects as patheffects\n",
    "\n",
    "sns.set_style(\"whitegrid\")\n"
   ],
   "metadata": {
    "collapsed": false
   }
  },
  {
   "cell_type": "code",
   "execution_count": null,
   "outputs": [],
   "source": [
    "from netgraph import Graph, InteractiveGraph\n",
    "from networkx.algorithms.community import girvan_newman, modularity_max, louvain_communities\n",
    "\n",
    "def plot_com(df_in, weight_col = \"I(X->Y)/dim\", cmap=\"crest\", edge_cmap=\"flare\", min_alpha = 0.0,\n",
    "    max_alpha = 1.0, min_edge_width = 0.0, max_edge_width = 1, edge_pow=2, node_layout=\"community\", edge_layout=\"bundled\", com_resolution=1.1, figsize=10, clip_min_values_width = 0, clip_min_values_alpha = 0, com_pad_by = 0.001, fontsize = 15, undirected=False, sparsity=1,):\n",
    "\n",
    "    df = df_in[df_in.X != df_in.Y].copy()\n",
    "    weight_col_norm = f\"{weight_col}_norm\"\n",
    "\n",
    "    table = df.pivot_table(index=\"X\", columns=\"Y\", values=weight_col, aggfunc=\"mean\")\n",
    "    G= nx.from_pandas_adjacency(table, create_using=nx.DiGraph)\n",
    "    G.remove_edges_from(nx.selfloop_edges(G))\n",
    "\n",
    "    if sparsity<1:\n",
    "        df[weight_col_norm]  *= df[weight_col_norm] > df.groupby(\"X\")[weight_col_norm].transform(lambda x: np.percentile(x.unique(), sparsity*100))\n",
    "\n",
    "    table_un = df.pivot_table(index=\"X\", columns=\"Y\", values=weight_col_norm, aggfunc=\"mean\")\n",
    "    G_un= nx.from_pandas_adjacency(table_un, create_using=nx.DiGraph)\n",
    "\n",
    "    G_un.remove_edges_from(nx.selfloop_edges(G_un))\n",
    "    G_un.remove_edges_from([(u,v) for u,v,d in G_un.edges(data=True) if d[\"weight\"] == 0])\n",
    "\n",
    "    communities = louvain_communities(G, resolution=com_resolution)\n",
    "    communities = list(communities)\n",
    "    cmap = sns.color_palette(cmap, as_cmap=True)\n",
    "    edge_cmap = sns.color_palette(edge_cmap, as_cmap=True)\n",
    "\n",
    "    avg_weight = {n : np.median([d[2]['weight'] for d in G.out_edges(n, data=True)]) for n in G.nodes()}\n",
    "    avg_income = {n : np.median([d[2]['weight'] for d in G.in_edges(n, data=True)]) for n in G.nodes()}\n",
    "    node_to_community = {node: i for i, community in enumerate(communities) for node in community}\n",
    "\n",
    "    node_color = {node: cmap(avg_weight[node]) for node in G.nodes()}\n",
    "    node_edge_color = {node: cmap(avg_income[node]) for node in G.nodes()}\n",
    "    node_labels = {node: node for node in G.nodes()}\n",
    "    edge_color = {edge: edge_cmap(G_un.edges[edge]['weight']) for edge in G_un.edges()}\n",
    "\n",
    "    # normalize edge alpha\n",
    "    edge_alpha = {edge: G_un.edges[edge]['weight'] for edge in G_un.edges()}\n",
    "    min_edge = min(edge_alpha.values())\n",
    "    edge_alpha = {edge: ((edge_alpha[edge] - min_edge) / (max(edge_alpha.values()) - min_edge)) * (max_alpha - min_alpha) + min_alpha for edge in edge_alpha}\n",
    "\n",
    "    # edge width\n",
    "\n",
    "    edge_width = {edge: G_un.edges[edge]['weight'] for edge in G_un.edges()}\n",
    "    min_edge = np.quantile(list(edge_width.values()), clip_min_values_width)\n",
    "    edge_width = {edge: (edge_width[edge] -min_edge) / (max(edge_width.values()) - min_edge)**edge_pow * (max_edge_width - min_edge_width) + min_edge_width for edge in edge_width}\n",
    "\n",
    "\n",
    "\n",
    "    fig, ax = plt.subplots(figsize=(figsize, figsize))\n",
    "    if node_layout == \"community\":\n",
    "        node_layout_kwargs = dict(node_to_community=node_to_community, pad_by=com_pad_by)\n",
    "    else:\n",
    "        node_layout_kwargs = {}\n",
    "\n",
    "\n",
    "\n",
    "    graph = Graph(G_un, node_layout_kwargs=node_layout_kwargs, node_layout=node_layout, node_color=node_color, node_labels=node_labels, edge_color=edge_color, ax=ax, node_label_fontdict={'fontsize': fontsize, 'fontweight': 'bold'}, node_edge_color=node_edge_color, edge_layout=edge_layout, edge_alpha=edge_alpha, arrows=not undirected, prettify=True, edge_width=edge_width)\n",
    "\n",
    "\n",
    "    # add white contour to all texts in the figure\n",
    "    for text in plt.gca().texts:\n",
    "        text.set_path_effects([patheffects.Stroke(linewidth=4, foreground='white'), patheffects.Normal()])"
   ],
   "metadata": {
    "collapsed": false
   }
  },
  {
   "cell_type": "code",
   "execution_count": null,
   "outputs": [],
   "source": [
    "models_to_cons = [\n",
    "    \"ContextPred\",\n",
    "    \"GPT-GNN\",\n",
    "    \"GraphMVP\",\n",
    "    \"GROVER\",\n",
    "    \"AttributeMask\",\n",
    "    \"GraphLog\",\n",
    "    \"GraphCL\",\n",
    "    \"InfoGraph\",\n",
    "    \"MolBert\",\n",
    "    \"ChemBertMLM-10M\",\n",
    "    \"ChemBertMTR-77M\",\n",
    "    \"ChemGPT-1.2B\",\n",
    "    \"DenoisingPretrainingPQCMv4\",\n",
    "    \"FRAD_QM9\",\n",
    "    \"MolR_tag\",\n",
    "    \"MoleOOD_OGB_GCN\",\n",
    "    \"ThreeDInfomax\",\n",
    "]\n",
    "\n",
    "plot_com(\n",
    "    df[\n",
    "        (df.ff_layers == 2) & (df.X.isin(models_to_cons)) & (df.Y.isin(models_to_cons))\n",
    "     ],\n",
    "    figsize=10,\n",
    "    edge_layout=\"straight\",\n",
    "    com_resolution=1.2,\n",
    "    min_edge_width=0.5,\n",
    "    max_edge_width=1,\n",
    "    min_alpha=0.2,\n",
    "    max_alpha=1,\n",
    "    clip_min_values_alpha=0.3,\n",
    "    cmap=\"vlag\",\n",
    "    edge_cmap=\"flare\",\n",
    "    fontsize=5,\n",
    "    com_pad_by=0.001,\n",
    "    sparsity=0.9\n",
    ")\n",
    "\n",
    "#plt.savefig(\"fig/MI_graph.pdf\", format = \"pdf\", bbox_inches = 'tight')"
   ],
   "metadata": {
    "collapsed": false
   }
  },
  {
   "cell_type": "code",
   "execution_count": null,
   "outputs": [],
   "source": [
    "plot_com(\n",
    "    df[\n",
    "        (df.ff_layers == 3) & (df.X.isin(models_to_cons)) & (df.Y.isin(models_to_cons))\n",
    "     ],\n",
    "    figsize=10,\n",
    "    edge_layout=\"straight\",\n",
    "    com_resolution=1.2,\n",
    "    min_edge_width=0.5,\n",
    "    max_edge_width=1,\n",
    "    min_alpha=0.2,\n",
    "    max_alpha=1,\n",
    "    clip_min_values_alpha=0.3,\n",
    "    cmap=\"vlag\",\n",
    "    edge_cmap=\"flare\",\n",
    "    fontsize=5,\n",
    "    com_pad_by=0.001,\n",
    "    sparsity=0.9\n",
    ")\n",
    "\n",
    "#plt.savefig(\"fig/MI_graph.pdf\", format = \"pdf\", bbox_inches = 'tight')"
   ],
   "metadata": {
    "collapsed": false
   }
  },
  {
   "cell_type": "code",
   "execution_count": null,
   "outputs": [],
   "source": [
    "plot_com(\n",
    "    df[\n",
    "        (df.ff_layers == 4) & (df.X.isin(models_to_cons)) & (df.Y.isin(models_to_cons))\n",
    "     ],\n",
    "    figsize=10,\n",
    "    edge_layout=\"straight\",\n",
    "    com_resolution=1.2,\n",
    "    min_edge_width=0.5,\n",
    "    max_edge_width=1,\n",
    "    min_alpha=0.2,\n",
    "    max_alpha=1,\n",
    "    clip_min_values_alpha=0.3,\n",
    "    cmap=\"vlag\",\n",
    "    edge_cmap=\"flare\",\n",
    "    fontsize=5,\n",
    "    com_pad_by=0.001,\n",
    "    sparsity=0.9\n",
    ")\n",
    "\n",
    "#plt.savefig(\"fig/MI_graph.pdf\", format = \"pdf\", bbox_inches = 'tight')"
   ],
   "metadata": {
    "collapsed": false
   }
  },
  {
   "cell_type": "code",
   "execution_count": null,
   "outputs": [],
   "source": [
    "plot_com(\n",
    "    df,\n",
    "    figsize=10,\n",
    "    edge_layout=\"straight\",\n",
    "    com_resolution=0.99,\n",
    "    min_edge_width=1,\n",
    "    max_edge_width=2,\n",
    "    min_alpha=0.2,\n",
    "    max_alpha=1,\n",
    "    clip_min_values_alpha=0.5,\n",
    "    cmap=\"vlag\",\n",
    "    edge_cmap=\"flare\",\n",
    "    fontsize=5,\n",
    "    com_pad_by=0.001,\n",
    "    sparsity=0.9\n",
    ")"
   ],
   "metadata": {
    "collapsed": false
   }
  },
  {
   "cell_type": "code",
   "execution_count": null,
   "outputs": [],
   "source": [
    "df"
   ],
   "metadata": {
    "collapsed": false
   }
  },
  {
   "cell_type": "code",
   "execution_count": null,
   "outputs": [],
   "source": [
    "df_avg = df.groupby([\"X\", COLUMS_SPLIT]).median()\n",
    "df_avg[\"information\"] = df_avg[\"I(X->Y)/dim\"]\n",
    "fig, ax  = plt.subplots(figsize=(6,6))\n",
    "sns.barplot(df_avg.sort_values(\"information\") ,x=\"information\", hue=COLUMS_SPLIT, legend=False, ax = ax, y=\"X\")\n",
    "\n",
    "plt.title(\"Mean predictive mutual information of a model to predict the other models\")\n",
    "plt.ylabel(\"\")\n",
    "plt.xlabel(\"Mean predictive mutual information\")\n",
    "plt.savefig(\"fig/mean_information.pdf\", format = \"pdf\", bbox_inches = 'tight')"
   ],
   "metadata": {
    "collapsed": false
   }
  },
  {
   "cell_type": "code",
   "execution_count": null,
   "outputs": [],
   "source": [
    "df_downs = pd.read_csv(\"results/tmp.csv\")\n",
    "df_avg.rename(columns={\"X\":\"embedder\"}, inplace=True)\n"
   ],
   "metadata": {
    "collapsed": false
   }
  },
  {
   "cell_type": "code",
   "execution_count": null,
   "outputs": [],
   "source": [
    "df_downs = df_downs.join(df_avg.reset_index().set_index(\"X\")[[\"information\", COLUMS_SPLIT]], on=\"embedder\")\n",
    "df_downs"
   ],
   "metadata": {
    "collapsed": false
   }
  },
  {
   "cell_type": "code",
   "execution_count": null,
   "outputs": [],
   "source": [
    "df_downs[(df_downs.dataset == \"DILI\") & (df_downs.embedder == \"ChemBertMLM-10M\")]"
   ],
   "metadata": {
    "collapsed": false
   }
  },
  {
   "cell_type": "code",
   "execution_count": null,
   "outputs": [],
   "source": [
    "from autorank import autorank\n",
    "#rank each model on each task\n"
   ],
   "metadata": {
    "collapsed": false
   }
  },
  {
   "cell_type": "code",
   "execution_count": null,
   "outputs": [],
   "source": [
    "df_to_rank = df_downs.pivot_table(index=\"dataset\", columns=[\"embedder\"], values=\"metric\", aggfunc=\"mean\")\n",
    "res = autorank(df_to_rank, alpha=0.05, verbose=False, force_mode=\"nonparametric\").rankdf\n",
    "res.rename(columns={\"meanrank\":\"meanrank_metric\"}, inplace=True)\n",
    "res"
   ],
   "metadata": {
    "collapsed": false
   }
  },
  {
   "cell_type": "code",
   "execution_count": null,
   "outputs": [],
   "source": [
    "df_downs = df_downs.join(res[[\"meanrank_metric\"]], on=[\"embedder\"])"
   ],
   "metadata": {
    "collapsed": false
   }
  },
  {
   "cell_type": "code",
   "execution_count": null,
   "outputs": [],
   "source": [
    "df_downs[\"meanrank_information\"] = np.nan\n",
    "for x in df_downs[COLUMS_SPLIT].unique():\n",
    "    df_to_rank = df_downs[df_downs[COLUMS_SPLIT] == x].pivot_table(index=\"dataset\", columns=\"embedder\", values=\"information\", aggfunc=\"mean\")\n",
    "    res = autorank(df_to_rank, alpha=0.05, verbose=False, force_mode=\"nonparametric\").rankdf\n",
    "    res.rename(columns={\"meanrank\":\"meanrank_information\"}, inplace=True)\n",
    "    df_downs.loc[df_downs[COLUMS_SPLIT] == x, \"meanrank_information\"] = df_downs[df_downs[COLUMS_SPLIT] == x].embedder.map(res[\"meanrank_information\"])\n"
   ],
   "metadata": {
    "collapsed": false
   }
  },
  {
   "cell_type": "code",
   "execution_count": null,
   "outputs": [],
   "source": [
    "df_downs"
   ],
   "metadata": {
    "collapsed": false
   }
  },
  {
   "cell_type": "code",
   "execution_count": null,
   "outputs": [],
   "source": [
    "n_rows = 5\n",
    "n_cols = df_downs.dataset.nunique() // n_rows\n",
    "\n",
    "fig, axes = plt.subplots(n_rows,n_cols, figsize=(3*n_cols,3*n_rows), sharey=True)\n",
    "axes = axes.flatten()\n",
    "\n",
    "\n",
    "for i,dataset in enumerate(df_downs.dataset.unique()):\n",
    "    df_tmp = df_downs[df_downs.dataset == dataset]\n",
    "    # compute ranking for roc\n",
    "    sns.scatterplot(data=df_downs[df_downs.dataset == dataset], x=\"metric\", y=\"information\", hue=\"embedder\", ax=axes[i], legend=False)\n",
    "    # add linear regression\n",
    "    sns.regplot(data=df_tmp, x=\"metric\", y=\"information\", ax=axes[i], scatter=False, color=\"blue\", line_kws = {\"alpha\":0.2})\n",
    "    axes[i].set_title(dataset)\n",
    "\n",
    "fig.tight_layout()\n",
    "plt.savefig(\"fig/roc_vs_information.pdf\", format = \"pdf\", bbox_inches = 'tight')"
   ],
   "metadata": {
    "collapsed": false
   }
  },
  {
   "cell_type": "code",
   "execution_count": null,
   "outputs": [],
   "source": [
    "%matplotlib inline\n",
    "\n",
    "fig, axes = plt.subplots(1,df_downs[COLUMS_SPLIT].nunique(), figsize=(5*df_downs[COLUMS_SPLIT].nunique(),5))\n",
    "\n",
    "\n",
    "for i,ff_layers in enumerate(df_downs[COLUMS_SPLIT].unique()):\n",
    "    df_tmp = df_downs[df_downs[COLUMS_SPLIT] == ff_layers]\n",
    "    df_tmp = df_tmp.groupby(\"embedder\").mean()\n",
    "    sns.scatterplot(data=df_tmp, x=\"meanrank_metric\", y=\"meanrank_information\", hue=\"embedder\", ax=axes[i], legend=False)\n",
    "    sns.regplot(data=df_tmp, x=\"meanrank_metric\", y=\"meanrank_information\", ax=axes[i], scatter=False, color=\"blue\", line_kws = {\"alpha\":0.2})\n",
    "\n",
    "    # Display the correlation coefficient\n",
    "    corr = np.corrcoef(df_tmp[\"meanrank_metric\"], df_tmp[\"meanrank_information\"])[0,1]\n",
    "    axes[i].text(0.5, 0.5, f\"Correlation: {corr:.4f}\", horizontalalignment='center', verticalalignment='center', transform=axes[i].transAxes)\n",
    "\n",
    "    axes[i].set_title(f\"{COLUMS_SPLIT}: {ff_layers}\")\n",
    "    axes[i].set_ylabel(\"Mean rank of models' predictivity\")\n",
    "    axes[i].set_xlabel(\"Mean rank on downstream tasks\")\n",
    "\n",
    "\n",
    "plt.savefig(\"fig/meanrank.pdf\", format = \"pdf\", bbox_inches = 'tight')"
   ],
   "metadata": {
    "collapsed": false
   }
  },
  {
   "cell_type": "code",
   "execution_count": null,
   "outputs": [],
   "source": [
    "n_rows = 3\n",
    "n_cols = df_downs.dataset.nunique() // n_rows\n",
    "\n",
    "fig, axes = plt.subplots(n_rows,n_cols, figsize=(3*n_cols,3*n_rows), sharey=True)\n",
    "axes = axes.flatten()\n",
    "\n",
    "\n",
    "\n",
    "for i,dataset in enumerate(df_downs.dataset.unique()):\n",
    "    sns.scatterplot(data=df_downs.sort_values(\"information\")[df_downs.dataset == dataset], x=\"metric\", y=\"embedder\", hue=\"embedder\",  ax=axes[i], legend=False)\n",
    "    axes[i].set_title(dataset)\n",
    "    axes[i].set_xticklabels(axes[i].get_xticklabels(), rotation=90)\n",
    "\n",
    "fig.tight_layout()"
   ],
   "metadata": {
    "collapsed": false
   }
  },
  {
   "cell_type": "code",
   "execution_count": null,
   "outputs": [],
   "source": [
    "%matplotlib inline\n",
    "fig = plt.figure(figsize=(6,6))\n",
    "sns.scatterplot(data=df_downs.groupby(\"embedder\").mean().sort_values(\"information\"), y=\"embedder\", x=\"meanrank_metric\", hue=\"embedder\", legend=False)\n",
    "\n",
    "plt.savefig(\"fig/meanrank_roc.pdf\", format = \"pdf\", bbox_inches = 'tight')"
   ],
   "metadata": {
    "collapsed": false
   }
  },
  {
   "cell_type": "code",
   "execution_count": null,
   "outputs": [],
   "source": [],
   "metadata": {
    "collapsed": false
   }
  },
  {
   "cell_type": "code",
   "execution_count": null,
   "outputs": [],
   "source": [],
   "metadata": {
    "collapsed": false
   }
  },
  {
   "cell_type": "code",
   "execution_count": null,
   "outputs": [],
   "source": [],
   "metadata": {
    "collapsed": false
   }
  },
  {
   "cell_type": "code",
   "execution_count": null,
   "outputs": [],
   "source": [],
   "metadata": {
    "collapsed": false
   }
  },
  {
   "cell_type": "code",
   "execution_count": null,
   "outputs": [],
   "source": [],
   "metadata": {
    "collapsed": false
   }
  },
  {
   "cell_type": "code",
   "execution_count": null,
   "outputs": [],
   "source": [],
   "metadata": {
    "collapsed": false
   }
  },
  {
   "cell_type": "code",
   "execution_count": null,
   "outputs": [],
   "source": [],
   "metadata": {
    "collapsed": false
   }
  }
 ],
 "metadata": {
  "kernelspec": {
   "display_name": "Python 3",
   "language": "python",
   "name": "python3"
  },
  "language_info": {
   "codemirror_mode": {
    "name": "ipython",
    "version": 2
   },
   "file_extension": ".py",
   "mimetype": "text/x-python",
   "name": "python",
   "nbconvert_exporter": "python",
   "pygments_lexer": "ipython2",
   "version": "2.7.6"
  }
 },
 "nbformat": 4,
 "nbformat_minor": 0
}
