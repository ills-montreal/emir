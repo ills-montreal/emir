{
 "cells": [
  {
   "cell_type": "code",
   "execution_count": null,
   "outputs": [],
   "source": [
    "%cd .."
   ],
   "metadata": {
    "collapsed": false
   }
  },
  {
   "cell_type": "code",
   "execution_count": null,
   "outputs": [],
   "source": [
    "import os\n",
    "import numpy as np\n",
    "from molecule.utils.utils_notebook import get_MI_df, get_ranked_df, LATEX_FIG_PATH, get_DTI_rank_df, process_dataset_name, prerpocess_emb_name\n",
    "import matplotlib.pyplot as plt\n",
    "import seaborn as sns\n",
    "from IPython.display import clear_output\n",
    "\n",
    "DATASET = \"ZINC\"\n",
    "results_dir_list = [\"run_4\"]\n",
    "COLUMS_SPLIT = \"cond_modes\"\n",
    "METRIC = r\"$\\overline{\\mathcal{I}_S}$\"\n",
    "\n",
    "model_groups = {\n",
    "    'ChemBert-MLM': ['ChemBertMLM-10M', 'ChemBertMLM-5M', 'ChemBertMLM-77M'],\n",
    "    'ChemBert-MTR': ['ChemBertMTR-77M', 'ChemBertMTR-10M', 'ChemBertMTR-5M'],\n",
    "    '3D': ['DenoisingPretrainingPQCMv4', 'FRAD_QM9'],\n",
    "    'MolR': ['MolR_tag', 'MolR_gcn', 'MolR_gat'],\n",
    "    'MoleOOD': ['MoleOOD_OGB_GCN', 'MoleOOD_OGB_SAGE', 'MoleOOD_OGB_GIN']\n",
    "}\n",
    "for key in model_groups:\n",
    "    model_groups[key] = [prerpocess_emb_name(x) for x in model_groups[key]]\n",
    "\n",
    "\n",
    "df = get_MI_df(DATASET, results_dir_list)\n",
    "df_downs = get_ranked_df(df, path=\"results/TDC_ADMET_SCAFF.csv\")\n",
    "df_downs.embedder = df_downs.embedder.apply(prerpocess_emb_name)\n",
    "df_downs[\"models_group\"] = np.nan\n",
    "for key,value in model_groups.items():\n",
    "    df_downs.loc[df_downs.embedder.isin(value), \"models_group\"] = key\n",
    "df_downs = df_downs.dropna()\n",
    "clear_output()\n",
    "df_downs"
   ],
   "metadata": {
    "collapsed": false
   }
  },
  {
   "cell_type": "markdown",
   "source": [
    "# Comparison of the rankings of similar models"
   ],
   "metadata": {
    "collapsed": false
   }
  },
  {
   "cell_type": "code",
   "execution_count": null,
   "outputs": [],
   "source": [
    "cmap = sns.color_palette(\"husl\", n_colors=df_downs.embedder.nunique())\n",
    "cmap = {embedder:color for embedder,color in zip(df_downs.embedder.unique(),cmap)}\n",
    "\n",
    "lim_low = 0.7\n",
    "lim_high = 1.05"
   ],
   "metadata": {
    "collapsed": false
   }
  },
  {
   "cell_type": "code",
   "execution_count": null,
   "outputs": [],
   "source": [
    "fig,axes = plt.subplots(df_downs.models_group.nunique(),2, figsize=(2.2,7.3))\n",
    "\n",
    "for i,name in enumerate(model_groups.keys()):\n",
    "    df_tmp = df_downs[df_downs.models_group == name]\n",
    "\n",
    "    min_rank_downs = df_tmp.global_meanrank_metric.max()\n",
    "    max_rank_downs = df_tmp.global_meanrank_metric.min()\n",
    "    diff_rank_downs = max_rank_downs - min_rank_downs\n",
    "    min_rank_info = df_tmp.meanrank_information.max()\n",
    "    max_rank_info = df_tmp.meanrank_information.min()\n",
    "    diff_rank_info = max_rank_info - min_rank_info\n",
    "\n",
    "    #Barplot of the downstream task\n",
    "    sns.barplot(data=df_tmp, x=\"global_meanrank_metric\", y=\"models_group\", hue=\"embedder\", ax=axes[i,1], dodge=True, palette=cmap, legend=False, hue_order=model_groups[name], errorbar=None)\n",
    "    #remove y label and yticks\n",
    "    axes[i,1].set_ylabel(\"\")\n",
    "    axes[i,1].set_yticks([])\n",
    "    min_val = int(df_tmp[\"global_meanrank_metric\"].min() - 1)\n",
    "    max_val = int(df_tmp[\"global_meanrank_metric\"].max() + 1)\n",
    "\n",
    "    axes[i,1].set_xticks(list(range(min_val, max_val)))\n",
    "    axes[i,1].set_xticklabels([])\n",
    "    axes[i,1].set_xlabel(\"\")\n",
    "    axes[i,1].set_xlim(min_val, max_val)\n",
    "    #Add arrow from lowest barplot to highest labeled with the difference\n",
    "    axes[i,1].arrow(\n",
    "        max_rank_downs,\n",
    "        -0.2,\n",
    "        -diff_rank_downs,\n",
    "        0,\n",
    "        head_width=0.05,\n",
    "        head_length=0.1,\n",
    "        length_includes_head=True,\n",
    "        shape=\"full\",\n",
    "        color=\"black\",\n",
    "    )\n",
    "    axes[i,1].text(\n",
    "        (max_rank_downs + min_rank_downs) / 2 +0.5,\n",
    "        -0.3,\n",
    "        f\"{-diff_rank_downs:.1f}\",\n",
    "        horizontalalignment='center',\n",
    "        verticalalignment='center',\n",
    "    )\n",
    "\n",
    "    #Barplot of the predictivity\n",
    "    sns.barplot(data=df_tmp, x=\"meanrank_information\", y=\"models_group\", hue=\"embedder\", ax=axes[i,0], dodge=True, palette=cmap, legend=False, hue_order=model_groups[name], errorbar=None)\n",
    "\n",
    "\n",
    "    axes[i,0].set_ylabel(name)\n",
    "    #remove y label and yticks\n",
    "    axes[i,0].set_yticks([])\n",
    "    min_val = int(df_tmp[\"meanrank_information\"].min() - 1)\n",
    "    max_val = int(df_tmp[\"meanrank_information\"].max() + 1)\n",
    "    axes[i,0].set_xticks(list(range(min_val, max_val)))\n",
    "    axes[i,0].set_xticklabels([])\n",
    "    axes[i,0].set_xlabel(\"\")\n",
    "    #Invert x axis\n",
    "\n",
    "    axes[i,0].set_xlim(min_val, max_val)\n",
    "    axes[i,0].invert_xaxis()\n",
    "    #Add arrow from lowest barplot to highest labeled with the difference\n",
    "    axes[i,0].arrow(\n",
    "        max_rank_info,\n",
    "        -0.2,\n",
    "        -diff_rank_info,\n",
    "        0,\n",
    "        head_width=0.05,\n",
    "        head_length=0.1,\n",
    "        length_includes_head=True,\n",
    "        shape=\"full\",\n",
    "        color=\"black\",\n",
    "    )\n",
    "    axes[i,0].text(\n",
    "        (max_rank_info + min_rank_info) / 2 +0.0,\n",
    "        -0.3,\n",
    "        f\"{-diff_rank_info:.1f}\",\n",
    "        horizontalalignment='center',\n",
    "        verticalalignment='center',\n",
    "    )\n",
    "\n",
    "\n",
    "    #legend outside of the whole cmap with rounds\n",
    "    handles = [plt.Line2D([0], [0], marker='o', color='w', label=embedder, markerfacecolor=cmap[embedder], markersize=10) for embedder in model_groups[name]]\n",
    "    axes[i,1].legend(handles=handles, bbox_to_anchor=(1, 1), loc='upper left')\n",
    "\n",
    "axes[-1,1].set_xlabel(\"Task\\n rank \"+r\"($\\leftarrow$)\")\n",
    "axes[-1,0].set_xlabel(\"EMIR\\n rank \"+r\"($\\rightarrow$)\")\n",
    "plt.subplots_adjust(wspace=0.02, hspace=0.1)\n",
    "\n",
    "plt.savefig(f\"{LATEX_FIG_PATH}/molecule/meanrank_models_group_vert.pdf\", format = \"pdf\", bbox_inches = 'tight')"
   ],
   "metadata": {
    "collapsed": false
   }
  }
 ],
 "metadata": {
  "kernelspec": {
   "display_name": "Python 3",
   "language": "python",
   "name": "python3"
  },
  "language_info": {
   "codemirror_mode": {
    "name": "ipython",
    "version": 2
   },
   "file_extension": ".py",
   "mimetype": "text/x-python",
   "name": "python",
   "nbconvert_exporter": "python",
   "pygments_lexer": "ipython2",
   "version": "2.7.6"
  }
 },
 "nbformat": 4,
 "nbformat_minor": 0
}
