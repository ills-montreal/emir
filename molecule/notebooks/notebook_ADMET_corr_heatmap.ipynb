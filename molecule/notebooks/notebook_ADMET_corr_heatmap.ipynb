{
 "cells": [
  {
   "cell_type": "code",
   "execution_count": null,
   "outputs": [],
   "source": [
    "%cd .."
   ],
   "metadata": {
    "collapsed": false
   }
  },
  {
   "cell_type": "code",
   "execution_count": null,
   "outputs": [],
   "source": [
    "import os\n",
    "import numpy as np\n",
    "from molecule.utils.utils_notebook import get_MI_df, get_ranked_df, LATEX_FIG_PATH, get_DTI_rank_df, process_dataset_name, prerpocess_emb_name\n",
    "import matplotlib.pyplot as plt\n",
    "import seaborn as sns\n",
    "from IPython.display import clear_output\n",
    "\n",
    "METRIC = r\"$\\overline{\\mathcal{I}_S}$\"\n",
    "DATASET = \"ZINC\"\n",
    "results_dir_list = [\"run_4\"]\n",
    "COLUMS_SPLIT = \"cond_modes\"\n",
    "df = get_MI_df(DATASET, results_dir_list)\n",
    "df_downs = get_ranked_df(df, path=\"results/TDC_ADMET_SCAFF.csv\")\n",
    "df_downs_pre_task_type = get_ranked_df(df, split_on=\"task_type\", path=\"results/TDC_ADMET_SCAFF.csv\")\n",
    "clear_output()"
   ],
   "metadata": {
    "collapsed": false
   }
  },
  {
   "cell_type": "markdown",
   "source": [
    "# Heatmap of performances on downstream tasks in communities"
   ],
   "metadata": {
    "collapsed": false
   }
  },
  {
   "cell_type": "code",
   "execution_count": null,
   "outputs": [],
   "source": [
    "def plot_cmap_comm_tasks(\n",
    "        df,\n",
    "        df_downs,\n",
    "        res,\n",
    "        cols = \"dataset\",\n",
    "        row=\"metric normalized\",\n",
    "        method = \"ward\",\n",
    "        communities = [{'ChemBertMLM-77M', 'ChemBertMLM-5M', 'ChemGPT-1.2B', 'MolBert', 'ChemBertMLM-10M', 'ChemGPT-19M', 'ChemGPT-4.7M'}, {'MolR_gat', 'ChemBertMTR-5M', 'ChemBertMTR-10M', 'FRAD_QM9', 'MolR_gcn', 'ChemBertMTR-77M', 'DenoisingPretrainingPQCMv4', 'MolR_tag'}, {'GraphCL', 'GraphLog', 'GROVER', 'ThreeDInfomax', 'Not-trained', 'InfoGraph', 'AttributeMask', 'GraphMVP', 'ContextPred', 'GPT-GNN'}, {'MoleOOD_OGB_GCN', 'MoleOOD_OGB_GIN', 'MoleOOD_OGB_SAGE'}],\n",
    "        save=True\n",
    "    ):\n",
    "    df_downs[\"dataset_id\"] = df_downs[\"dataset\"] + df_downs[\"run_id\"].apply(str)\n",
    "    df_piv_min = df_downs.groupby([cols, \"embedder\"]).mean().reset_index().groupby(cols).metric.min()\n",
    "    df_piv_max = df_downs.groupby([cols, \"embedder\"]).mean().reset_index().groupby(cols).metric.max()\n",
    "    df_piv_mean = df_downs.groupby([cols, \"embedder\"]).mean().reset_index().groupby(cols).metric.mean()\n",
    "\n",
    "    df_piv =  df_downs.copy().groupby([cols, \"embedder\"]).metric.mean().to_frame()\n",
    "\n",
    "    df_piv[\"metric normalized\"] = (df_piv[\"metric\"] - df_piv_min) / (df_piv_max - df_piv_min)\n",
    "    df_piv[\"metric centered\"] = df_piv[\"metric normalized\"] - df_piv_mean\n",
    "    df_piv = df_piv.reset_index()\n",
    "\n",
    "\n",
    "    df_piv[\"community\"] = df_piv[\"embedder\"].apply(lambda x: [i for i, community in enumerate(communities) if x in community][0])\n",
    "\n",
    "    g = sns.clustermap(\n",
    "        df_piv.pivot_table(\n",
    "            index=\"embedder\",\n",
    "            columns=cols,\n",
    "            values=row,\n",
    "            aggfunc=\"mean\"\n",
    "        ),\n",
    "        cmap=\"coolwarm\",\n",
    "        figsize=(10,10),\n",
    "        center = 0.5 if row == \"metric normalized\" else 0 if row == \"metric centered\" else None,\n",
    "        method=method,\n",
    "    )\n",
    "    # name of embedders following the community\n",
    "    cmap_com = sns.color_palette(\"dark\", len(communities))\n",
    "    for i, label in enumerate(g.ax_heatmap.get_yticklabels()):\n",
    "        text= label.get_text()\n",
    "        com = df_piv[df_piv.embedder == text].community.values[0]\n",
    "        color = cmap_com[com]\n",
    "        label.set_color(color)\n",
    "        label.set_weight(\"bold\")\n",
    "\n",
    "\n",
    "    #remove row dendogran\n",
    "    g.ax_col_dendrogram.set_visible(False)\n",
    "    #remove colorbar\n",
    "    g.cax.set_visible(False)\n",
    "    #rotate x labels\n",
    "    plt.setp(g.ax_heatmap.get_xticklabels(), rotation=45, ha=\"right\", rotation_mode=\"anchor\")\n",
    "    #remove x and y labels\n",
    "    g.ax_heatmap.set_xlabel(\"\")\n",
    "    g.ax_heatmap.set_ylabel(\"\")\n",
    "    plt.xlabel(\"\")\n",
    "    plt.ylabel(\"\")\n",
    "    if save:\n",
    "        plt.savefig(\n",
    "            f\"{LATEX_FIG_PATH}/molecule/communities_task_{method}.pdf\",\n",
    "            format=\"pdf\",\n",
    "            bbox_inches=\"tight\",\n",
    "        )"
   ],
   "metadata": {
    "collapsed": false
   }
  },
  {
   "cell_type": "code",
   "execution_count": null,
   "outputs": [],
   "source": [
    "%matplotlib inline\n",
    "\n",
    "plot_cmap_comm_tasks(df, df_downs, 1, method=\"ward\")\n"
   ],
   "metadata": {
    "collapsed": false
   }
  },
  {
   "cell_type": "code",
   "execution_count": null,
   "outputs": [],
   "source": [
    "%matplotlib inline\n",
    "\n",
    "plot_cmap_comm_tasks(df, df_downs, 1, method=\"ward\", cols=\"dataset_id\", save=False)\n"
   ],
   "metadata": {
    "collapsed": false
   }
  },
  {
   "cell_type": "code",
   "execution_count": null,
   "outputs": [],
   "source": [],
   "metadata": {
    "collapsed": false
   }
  }
 ],
 "metadata": {
  "kernelspec": {
   "display_name": "Python 3",
   "language": "python",
   "name": "python3"
  },
  "language_info": {
   "codemirror_mode": {
    "name": "ipython",
    "version": 2
   },
   "file_extension": ".py",
   "mimetype": "text/x-python",
   "name": "python",
   "nbconvert_exporter": "python",
   "pygments_lexer": "ipython2",
   "version": "2.7.6"
  }
 },
 "nbformat": 4,
 "nbformat_minor": 0
}
