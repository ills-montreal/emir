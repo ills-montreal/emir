{
 "cells": [
  {
   "cell_type": "markdown",
   "source": [
    "## IS between descriptors and embeddings"
   ],
   "metadata": {
    "collapsed": false,
    "ExecuteTime": {
     "end_time": "2024-04-05T17:05:22.314638214Z",
     "start_time": "2024-04-05T17:05:22.313981421Z"
    }
   },
   "outputs": [],
   "execution_count": 22
  },
  {
   "cell_type": "code",
   "execution_count": null,
   "outputs": [],
   "source": [
    "%cd .."
   ],
   "metadata": {
    "collapsed": false
   }
  },
  {
   "cell_type": "code",
   "execution_count": null,
   "outputs": [],
   "source": [
    "\n",
    "import os\n",
    "import numpy as np\n",
    "from utils.utils_notebook import get_MI_df, plot_cmap, LATEX_FIG_PATH, prerpocess_emb_name\n",
    "import matplotlib.pyplot as plt\n",
    "import seaborn as sns\n",
    "from scipy.cluster.hierarchy import linkage\n",
    "\n",
    "\n",
    "DATASET = \"ZINC\"\n",
    "results_dir_list = [\"run_4\"]\n",
    "COLUMS_SPLIT = \"cond_modes\"\n",
    "METRIC = r\"$\\overline{\\mathcal{I}_S}$\"\n",
    "\n",
    "df = get_MI_df(DATASET, results_dir_list)\n",
    "\n",
    "df.X = df.X.apply(prerpocess_emb_name)\n",
    "df.Y = df.Y.apply(prerpocess_emb_name)"
   ],
   "metadata": {
    "collapsed": false
   }
  },
  {
   "cell_type": "code",
   "execution_count": null,
   "outputs": [],
   "source": [
    "dims = df.Y_dim.unique()\n",
    "dims.sort()"
   ],
   "metadata": {
    "collapsed": false
   }
  },
  {
   "cell_type": "code",
   "execution_count": null,
   "outputs": [],
   "source": [
    "from scipy.cluster.hierarchy import linkage\n",
    "%matplotlib inline\n",
    "\n",
    "df_plot = df\n",
    "\n",
    "fig,axes = plt.subplots(2, 2, figsize=(7, 4), sharex=True,)\n",
    "axes = axes.flatten()\n",
    "\n",
    "#Barplot of median incomint/outgoing emir\n",
    "order = df_plot.groupby(\"Y\").median().sort_values(\"Y_dim\").index\n",
    "df_plot.Y_dim = df_plot.Y_dim.astype(\"int\")\n",
    "\n",
    "\n",
    "sns.barplot(\n",
    "    data=df_plot,\n",
    "    x=\"Y_dim\",\n",
    "    y=\"I(Y)\",\n",
    "    hue=\"Y_dim\",\n",
    "    legend=False,\n",
    "    ax=axes[0],\n",
    "    native_scale=True,\n",
    "    errorbar=None\n",
    ")\n",
    "axes[0].set_ylabel(\"$\\phi(P_Z)$\")\n",
    "\n",
    "\n",
    "sns.barplot(\n",
    "    data=df_plot,\n",
    "    x=\"Y_dim\",\n",
    "    y=\"I(Y|X)\",\n",
    "    hue=\"Y_dim\",\n",
    "    legend=False,\n",
    "    ax=axes[1],\n",
    "    native_scale=True,\n",
    "    errorbar=None\n",
    ")\n",
    "axes[1].set_ylabel(r\"$\\mathbb{E}\\left[\\phi\\left( P_{Z|U}(U) \\right) | U\\right ]$\")\n",
    "\n",
    "sns.barplot(\n",
    "    data=df_plot,\n",
    "    x=\"Y_dim\",\n",
    "    y=\"I(X->Y)\",\n",
    "    hue=\"Y_dim\",\n",
    "    legend=False,\n",
    "    ax=axes[2],\n",
    "    native_scale=True,\n",
    "    errorbar=None\n",
    ")\n",
    "axes[2].set_ylabel(r\"$\\mathcal{I}_\\phi(Z\\rightarrow U)$\")\n",
    "\n",
    "sns.barplot(\n",
    "    data=df_plot,\n",
    "    x=\"Y_dim\",\n",
    "    y=\"I(X->Y)/dim\",\n",
    "    hue=\"Y_dim\",\n",
    "    legend=False,\n",
    "    ax=axes[3],\n",
    "    native_scale=True,\n",
    "    errorbar=None\n",
    ")\n",
    "axes[3].set_ylabel(r\"$\\mathcal{I}_\\phi(Z\\rightarrow U) / dim(Z)$\")\n",
    "\n",
    "axes[0].set_xlabel(\"\")\n",
    "axes[1].set_xlabel(\"\")\n",
    "axes[2].set_xlabel(\"\")\n",
    "axes[3].set_xlabel(\"\")\n",
    "\n",
    "fig.supxlabel(\"Dimension of $Z_2$\")\n",
    "\n",
    "\n",
    "fig.tight_layout()\n",
    "\n",
    "plt.savefig(\n",
    "    f\"{LATEX_FIG_PATH}/molecule/MI_est_analysis.pdf\",\n",
    "    format=\"pdf\",\n",
    "    bbox_inches=\"tight\",\n",
    ")"
   ],
   "metadata": {
    "collapsed": false
   }
  }
 ],
 "metadata": {
  "kernelspec": {
   "display_name": "Python 3",
   "language": "python",
   "name": "python3"
  },
  "language_info": {
   "codemirror_mode": {
    "name": "ipython",
    "version": 2
   },
   "file_extension": ".py",
   "mimetype": "text/x-python",
   "name": "python",
   "nbconvert_exporter": "python",
   "pygments_lexer": "ipython2",
   "version": "2.7.6"
  }
 },
 "nbformat": 4,
 "nbformat_minor": 0
}
