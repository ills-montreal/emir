{
 "cells": [
  {
   "cell_type": "code",
   "execution_count": null,
   "outputs": [],
   "source": [
    "%cd ..\n",
    "import os\n",
    "import numpy as np\n",
    "import pandas as pd\n",
    "\n",
    "from utils.utils_notebook import get_MI_df, get_DTI_rank_df, LATEX_FIG_PATH\n",
    "import matplotlib.pyplot as plt\n",
    "import seaborn as sns\n",
    "import warnings\n",
    "METRIC = r\"$\\overline{\\mathcal{I}_S}$\"\n",
    "warnings.filterwarnings(\"ignore\")"
   ],
   "metadata": {
    "collapsed": false
   }
  },
  {
   "cell_type": "markdown",
   "source": [
    "# Downstream Eval"
   ],
   "metadata": {
    "collapsed": false,
    "ExecuteTime": {
     "end_time": "2024-04-22T20:33:20.623447041Z",
     "start_time": "2024-04-22T20:32:54.194068509Z"
    }
   },
   "outputs": [],
   "execution_count": 4
  },
  {
   "cell_type": "code",
   "execution_count": null,
   "outputs": [],
   "source": [
    "df = get_MI_df(\"ZINC\", results_dir_list=[\"run_4\"])\n",
    "df_downs = get_DTI_rank_df(df, metric=f\"clustering_l2_4\",dataset=\"KIBA\",order=\"ascending\")\n",
    "df\n"
   ],
   "metadata": {
    "collapsed": false
   }
  },
  {
   "cell_type": "code",
   "execution_count": null,
   "outputs": [],
   "source": [
    "%matplotlib inline\n",
    "\n",
    "\n",
    "def plot_corr(df, REMOVE_MODELS=[], FIGSIZE = 3, title=\"\", DATASET=\"Kiba\"):\n",
    "    fig, axes = plt.subplots(2,2, figsize=(FIGSIZE*2,FIGSIZE*2), sharex=True, sharey=False)\n",
    "    axes = axes.flatten()\n",
    "    key = \"clustering_l2_\"\n",
    "\n",
    "\n",
    "    for i,n_clus in enumerate([1,2,4,8]):\n",
    "        if \"l2\" in key:\n",
    "            end = \"(reg)\"\n",
    "            df_downs = get_DTI_rank_df(df, metric=f\"{key}{n_clus}\",dataset=DATASET,order=\"ascending\")\n",
    "        else:\n",
    "            end = \"(clas)\"\n",
    "            df_downs = get_DTI_rank_df(df, metric=f\"{key}{n_clus}\")\n",
    "        df_downs = df_downs[~df_downs.embedder.isin(REMOVE_MODELS)]\n",
    "        df_tmp = df_downs.groupby(\"embedder\").mean()\n",
    "        sns.scatterplot(data=df_tmp, y=\"meanrank_metric\", x=\"meanrank_information\", hue=\"embedder\", ax=axes[i], legend=False, style=\"embedder\",)\n",
    "        sns.regplot(data=df_tmp, y=\"meanrank_metric\", x=\"meanrank_information\", ax=axes[i], scatter=False, color=\"blue\", line_kws = {\"alpha\":0.2})\n",
    "\n",
    "        # Display the correlation coefficient\n",
    "        corr = df_tmp[[\"meanrank_metric\", \"meanrank_information\"]].corr(\"spearman\").iloc[0,1]\n",
    "        corr_kendall = df_tmp[[\"meanrank_metric\", \"meanrank_information\"]].corr(\"kendall\").iloc[0,1]\n",
    "        corr_p = -df_tmp[[f\"{key}{n_clus}\", \"information\"]].corr(\"pearson\").iloc[0,1]\n",
    "        axes[i].text(\n",
    "            0.8,\n",
    "            0.2,\n",
    "             f\"\\nR: {corr_p:.2f}\\n\" + r\"$\\varrho_s $\" + f\": {corr:.2f}\\n \" +r\"$\\tau $: \"+f\"{corr_kendall:.2f}\",\n",
    "            horizontalalignment='center',\n",
    "            verticalalignment='center',\n",
    "            transform=axes[i].transAxes\n",
    "        )\n",
    "        axes[i].set_title(\"$n_{neighbors}$ = \"+f\"{n_clus}\")\n",
    "\n",
    "        axes[i].set_xlabel(\"\")\n",
    "        axes[i].set_ylabel(\"\")\n",
    "\n",
    "        #remove x/yticks\n",
    "        axes[i].set_xticks([])\n",
    "        axes[i].set_yticks([])\n",
    "    fig.supylabel(f\"Local agreement rank\")\n",
    "    fig.supxlabel(f\"{METRIC} rank\")\n",
    "    fig.suptitle(title)\n"
   ],
   "metadata": {
    "collapsed": false
   }
  },
  {
   "cell_type": "code",
   "execution_count": null,
   "outputs": [],
   "source": [
    "DATASET=\"KIBA\"\n",
    "for DATASET in [\"KIBA\", \"BindingDB_Kd\", \"BindingDB_Ki\", \"BindingDB_IC50\"]:\n",
    "    plot_corr(df, title=f\"{DATASET}\", FIGSIZE=2.3, DATASET=DATASET)\n",
    "    plt.savefig(f\"{LATEX_FIG_PATH}/molecule/DTI_all_res_{DATASET}.pdf\", format = \"pdf\", bbox_inches = 'tight')\n",
    "    plt.show()"
   ],
   "metadata": {
    "collapsed": false
   }
  },
  {
   "cell_type": "code",
   "execution_count": null,
   "outputs": [],
   "source": [
    "import pandas as pd\n",
    "import numpy as np\n",
    "from autorank import autorank\n",
    "\n",
    "def compute_ranking(df_downs, dataset=\"Overall\", type_metric=\"reg\", n_neighb=-1):\n",
    "    df_downs_linearized = []\n",
    "    for col in df_downs.columns:\n",
    "        if \"clustering\" in col:\n",
    "            df_tmp = df_downs[[\"embedder\", \"dataset\", \"target\", col]].rename(columns={col:\"metric\"})\n",
    "            df_tmp[\"n_neighb\"] = int(col.split(\"_\")[-1])\n",
    "            if \"l2\" in col:\n",
    "                df_tmp[\"type\"] = \"reg\"\n",
    "                df_tmp.metric = 1-df_tmp.metric\n",
    "            else:\n",
    "                df_tmp[\"type\"] = \"cls\"\n",
    "            df_downs_linearized.append(df_tmp)\n",
    "    df_downs_linearized = pd.concat(df_downs_linearized)\n",
    "\n",
    "    if type_metric!=\"all\":\n",
    "        df_downs_linearized = df_downs_linearized[df_downs_linearized[\"type\"] == type_metric]\n",
    "    if n_neighb != -1:\n",
    "        df_downs_linearized = df_downs_linearized[df_downs_linearized[\"n_neighb\"] == n_neighb]\n",
    "\n",
    "    df_to_rank = df_downs_linearized.pivot_table(index=[\"n_neighb\", \"type\",  \"dataset\", \"target\"], columns=\"embedder\", values=\"metric\")\n",
    "\n",
    "    res = autorank(\n",
    "        df_to_rank,\n",
    "        alpha=0.05,\n",
    "        verbose=False,\n",
    "        force_mode=\"nonparametric\"\n",
    "    ).rankdf.meanrank.to_frame()\n",
    "    res = res.rename(columns={\"meanrank\":dataset})\n",
    "    return res\n",
    "\n",
    "\n",
    "\n"
   ],
   "metadata": {
    "collapsed": false
   }
  },
  {
   "cell_type": "code",
   "execution_count": null,
   "outputs": [],
   "source": [
    "df_plot = None\n",
    "\n",
    "DATASETS = [\"BindingDB_IC50\",\"BindingDB_Ki\", \"BindingDB_Kd\",\"KIBA\"]\n",
    "\n",
    "for dataset in DATASETS:\n",
    "    df_downs = get_DTI_rank_df(df, order=\"ascending\", dataset=dataset)\n",
    "    res = compute_ranking(df_downs, dataset)\n",
    "    if df_plot is None:\n",
    "        df_plot = res\n",
    "    else:\n",
    "        df_plot = df_plot.join(res)\n",
    "\n",
    "\n",
    "df_downs =  pd.concat(\n",
    "    [\n",
    "        get_DTI_rank_df(\n",
    "            df, order=\"ascending\", dataset=dataset\n",
    "        ) for dataset in DATASETS\n",
    "    ]\n",
    ")\n",
    "res = compute_ranking(df_downs)\n",
    "df_plot = df_plot.join(res)\n",
    "\n",
    "df_plot = df_plot.join(df_downs.groupby(\"embedder\").mean().rename(columns={\"meanrank_information\":METRIC})[[METRIC]])\n",
    "df_plot"
   ],
   "metadata": {
    "collapsed": false
   }
  },
  {
   "cell_type": "code",
   "execution_count": null,
   "outputs": [],
   "source": [
    "avg_results = df_plot.reset_index().rename(columns={\"embedder\":\"model\"})\n",
    "\n",
    "def prerpocess_emb_name(x):\n",
    "    return x.replace(\n",
    "        \"DenoisingPretrainingPQCMv4\",\n",
    "        \"3D-denoising\"\n",
    "    ).replace(\n",
    "        \"Chem\",\n",
    "        \"\"\n",
    "    ).replace(\n",
    "        \"ThreeDInfomax\",\n",
    "        \"3D-Infomax\"\n",
    "    ).replace(\n",
    "        \"_OGB\",\n",
    "        \"\"\n",
    "    )\n",
    "\n",
    "avg_results.model = avg_results.model.apply(prerpocess_emb_name)\n",
    "avg_results"
   ],
   "metadata": {
    "collapsed": false
   }
  },
  {
   "cell_type": "code",
   "execution_count": null,
   "outputs": [],
   "source": [
    "df_downs"
   ],
   "metadata": {
    "collapsed": false
   }
  },
  {
   "cell_type": "code",
   "execution_count": null,
   "outputs": [],
   "source": [
    "df_downs_all_concat = pd.concat(\n",
    "    [\n",
    "        df_downs[[f\"clustering_l2_{n}\", \"dataset\", \"target\", \"information\"]].rename(columns={f\"clustering_l2_{n}\":f\"value\"}) for n in [1]\n",
    "    ], ignore_index=True\n",
    ")\n",
    "df_downs_all_concat"
   ],
   "metadata": {
    "collapsed": false
   }
  },
  {
   "cell_type": "code",
   "execution_count": null,
   "outputs": [],
   "source": [
    "# make mosaic map\n",
    "%matplotlib inline\n",
    "\n",
    "def plot_glob_mosaic(avg_results, METRIC=METRIC, MODEL_TO_ANNOATE = set([\"3D-Infomax\", \"InfoGraph\", \"MolBert\", \"BertMTR-5M\", \"GraphCL\", \"Not-trained\"]), MODEL_TO_ANNOATE_left = set(), FIGSIZE=5):\n",
    "    mosaic_map = [\n",
    "        ['A', 'A', 'B', 'C'],\n",
    "        ['A', 'A', 'D', 'E'],\n",
    "    ]\n",
    "\n",
    "    mosaic_to_task_map = {\n",
    "        'A': 'Overall',\n",
    "        'B': 'BindingDB_Kd',\n",
    "        'C': 'BindingDB_Ki',\n",
    "        'D': 'BindingDB_IC50',\n",
    "        'E': 'KIBA',\n",
    "    }\n",
    "\n",
    "    mosaic_map = np.array(mosaic_map)\n",
    "    mosaic_map = np.vectorize(lambda x: mosaic_to_task_map[x])(mosaic_map)\n",
    "\n",
    "\n",
    "\n",
    "    fig, ax = plt.subplot_mosaic(mosaic_map, figsize=(FIGSIZE, FIGSIZE * 1.7/3), gridspec_kw={\"width_ratios\": [1,1, 1, 1],})\n",
    "    METRICS = mosaic_to_task_map.values()\n",
    "    for i, metric in enumerate(METRICS):\n",
    "        if metric == \"Overall\":\n",
    "            s = 100\n",
    "        else:\n",
    "            s = 50\n",
    "        ax[metric] = sns.regplot(data=avg_results, y=METRIC, x=metric, ax=ax[metric], scatter=False)\n",
    "        ax[metric] = sns.scatterplot(data=avg_results, y=METRIC, x=metric, ax=ax[metric], legend=False, hue = 'model', style='model', s=s)\n",
    "\n",
    "\n",
    "        # annotate model names\n",
    "        if metric == 'Overall':\n",
    "            for i, row in avg_results.iterrows():\n",
    "                xy = (row[metric], row[METRIC])\n",
    "                if row['model'] in MODEL_TO_ANNOATE:\n",
    "                    xytext = (9.5,-9.5)\n",
    "                    ax[metric].annotate(\n",
    "                        row['model'],\n",
    "                        xy,\n",
    "                        fontsize=10,\n",
    "                        va='center',\n",
    "                        ha='left',\n",
    "                        textcoords='offset points',\n",
    "                        xytext=xytext,\n",
    "                        arrowprops=dict(\n",
    "                            facecolor='black',\n",
    "                            color='black',\n",
    "                            arrowstyle='->',\n",
    "                            connectionstyle='arc3,rad=0.2'\n",
    "                        )\n",
    "                    )\n",
    "                elif row[\"model\"] in MODEL_TO_ANNOATE_left:\n",
    "                    xytext = (-65.5,10.5)\n",
    "                    ax[metric].annotate(\n",
    "                        row['model'],\n",
    "                        xy,\n",
    "                        fontsize=10,\n",
    "                        va='center',\n",
    "                        ha='left',\n",
    "                        textcoords='offset points',\n",
    "                        xytext=xytext,\n",
    "                        arrowprops=dict(\n",
    "                            facecolor='black',\n",
    "                            color='black',\n",
    "                            arrowstyle='->',\n",
    "                            connectionstyle='arc3,rad=0.2'\n",
    "                        )\n",
    "                    )\n",
    "\n",
    "        # annotate correllation\n",
    "        corr = avg_results[[METRIC, metric]].corr(method=\"spearman\").iloc[0, 1]\n",
    "        kendall = avg_results[[METRIC, metric]].corr(method=\"kendall\").iloc[0, 1]\n",
    "        if metric != 'Overall':\n",
    "            pearson = df_downs_all_concat[df_downs_all_concat.dataset == metric][[\"value\", \"information\"]].corr(\"pearson\").iloc[0, 1]\n",
    "        else:\n",
    "            pearson = df_downs_all_concat[[\"value\", \"information\"]].corr(\"pearson\").iloc[0, 1]\n",
    "        if metric != 'Overall':\n",
    "            ax[metric].annotate(\n",
    "                r\"$\\varrho_s$\" + f\": {corr:.2f}\\n\" + r\" $\\tau$\" + f\": {kendall:.2f}\",\n",
    "                (0.55, 0.05),\n",
    "                xycoords='axes fraction',\n",
    "                fontsize=8,\n",
    "                bbox=dict(facecolor='white', edgecolor='black', boxstyle='round,pad=0.3'),\n",
    "            )\n",
    "        else:\n",
    "            ax[metric].annotate(\n",
    "                r\"$\\varrho_s$\" + f\": {corr:.2f}\\n\" + r\" $\\tau$\" + f\": {kendall:.2f}\",\n",
    "                (0.75, 0.1),\n",
    "                xycoords='axes fraction',\n",
    "                fontsize=12,\n",
    "                bbox=dict(facecolor='white', edgecolor='black', boxstyle='round,pad=0.5'),\n",
    "            )\n",
    "\n",
    "        if metric == 'Overall':\n",
    "            ax[metric].set_title(metric, fontweight='bold')\n",
    "            ax[metric].set_ylabel(METRIC + \"  \" + r\"$(rank\\downarrow)$\")\n",
    "            ax[metric].set_xlabel('Downstream tasks  $(rank\\downarrow)$')\n",
    "        else:\n",
    "            ax[metric].set_title(metric.replace('Average', '').replace(\"(\", \"\\n(\"), fontsize=10,)\n",
    "            ax[metric].set_xlabel('')\n",
    "            ax[metric].set_ylabel('')\n",
    "            ax[metric].set_xticks([])\n",
    "            ax[metric].set_yticks([])\n",
    "\n",
    "\n",
    "    fig.tight_layout()\n",
    "\n",
    "    plt.savefig(f\"{LATEX_FIG_PATH}/molecule/meanrank_DTI_all.pdf\", format = \"pdf\", bbox_inches = 'tight')\n"
   ],
   "metadata": {
    "collapsed": false
   }
  },
  {
   "cell_type": "code",
   "execution_count": null,
   "outputs": [],
   "source": [
    "\n",
    "plot_glob_mosaic(\n",
    "    avg_results,\n",
    "    METRIC=METRIC,\n",
    "    MODEL_TO_ANNOATE = set([\"3D-Infomax\", \"GPT-1.2B\", \"MolBert\", \"BertMTR-5M\",]),\n",
    "    MODEL_TO_ANNOATE_left = set([\"GraphCL\", \"Not-trained\", \"InfoGraph\"]),\n",
    "    FIGSIZE=7.5\n",
    ")"
   ],
   "metadata": {
    "collapsed": false
   }
  }
 ],
 "metadata": {
  "kernelspec": {
   "display_name": "Python 3",
   "language": "python",
   "name": "python3"
  },
  "language_info": {
   "codemirror_mode": {
    "name": "ipython",
    "version": 2
   },
   "file_extension": ".py",
   "mimetype": "text/x-python",
   "name": "python",
   "nbconvert_exporter": "python",
   "pygments_lexer": "ipython2",
   "version": "2.7.6"
  }
 },
 "nbformat": 4,
 "nbformat_minor": 0
}
