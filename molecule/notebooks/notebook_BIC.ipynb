{
 "cells": [
  {
   "cell_type": "markdown",
   "source": [
    "## MI between descriptors and embeddings"
   ],
   "metadata": {
    "collapsed": false,
    "ExecuteTime": {
     "end_time": "2024-04-05T17:05:22.314638214Z",
     "start_time": "2024-04-05T17:05:22.313981421Z"
    }
   },
   "outputs": [],
   "execution_count": 22
  },
  {
   "cell_type": "code",
   "execution_count": null,
   "outputs": [],
   "source": [
    "%cd .."
   ],
   "metadata": {
    "collapsed": false
   }
  },
  {
   "cell_type": "code",
   "execution_count": null,
   "outputs": [],
   "source": [
    "import os\n",
    "import sys\n",
    "\n",
    "#change working dir\n",
    "\n",
    "import numpy as np\n",
    "import pandas as pd\n",
    "import matplotlib.pyplot as plt\n",
    "import seaborn as sns\n",
    "\n",
    "from molecule.utils.utils_notebook import get_MI_df, plot_cmap, plot_com, get_ranked_df, LATEX_FIG_PATH,plot_embeddings\n",
    "\n",
    "DATASET = \"ZINC\"\n",
    "COLUMS_SPLIT = \"cond_modes\"\n",
    "\n",
    "import json\n",
    "with open(f\"data/ZINC/smiles.json\", \"r\") as f:\n",
    "    s = json.load(f)\n",
    "N = len(s)\n"
   ],
   "metadata": {
    "collapsed": false
   }
  },
  {
   "cell_type": "code",
   "execution_count": null,
   "outputs": [],
   "source": [
    "plot_embeddings(DATASET, figsize=10,alpha=0.05, desc=\"qed\", n_mols=10000, min_hue=0.5,)\n"
   ],
   "metadata": {
    "collapsed": false
   }
  },
  {
   "cell_type": "code",
   "execution_count": null,
   "outputs": [],
   "source": [
    "def add_BIC_AIC(df):\n",
    "    df[\"n_params_marg\"] = df[\"marg_modes\"] * df[\"Y_dim\"] * 2 + df[\"marg_modes\"]\n",
    "    df[\"n_params_cond\"] =df[\"ff_hidden_dim\"] * ( 2 * df[\"cond_modes\"] * df[\"Y_dim\"] + df[\"X_dim\"] + df[\"ff_hidden_dim\"] * df[\"ff_layers\"] + df[\"cond_modes\"])\n",
    "    df[\"n_params_cond_no_ff\"] = 2 * df[\"cond_modes\"] * df[\"Y_dim\"] + df[\"cond_modes\"]\n",
    "\n",
    "    df[\"BIC_marg\"] =np.log(N) * df[\"n_params_marg\"] + 2 * df[\"I(Y)\"] * N\n",
    "    df[\"BIC_cond\"] =np.log(N) * df[\"n_params_cond\"] + 2 * df[\"I(X->Y)\"] * N\n",
    "    df[\"BIC_cond_no_ff\"] =np.log(N) * df[\"n_params_cond_no_ff\"] + 2 * df[\"I(X->Y)\"] * N\n",
    "    df[\"BIC\"] = df[\"BIC_marg\"]  + df[\"BIC_cond\"]\n",
    "    df[\"BIC_no_ff\"] = df[\"BIC_marg\"]  + df[\"BIC_cond_no_ff\"]\n",
    "\n",
    "    df[\"Likelihood_marg\"] =  df[\"I(Y)\"] * N\n",
    "    df[\"Likelihood_cond\"] =  df[\"I(X->Y)\"] * N\n",
    "\n",
    "\n",
    "    df[\"AIC_marg\"] = 2 * df[\"n_params_marg\"] + 2 * df[\"Likelihood_marg\"]\n",
    "    df[\"AIC_cond\"] = 2 * df[\"n_params_cond\"] + 2 * df[\"Likelihood_cond\"]\n",
    "    df[\"AIC_cond_no_ff\"] = 2 * df[\"n_params_cond_no_ff\"] + 2 * df[\"Likelihood_cond\"]\n",
    "    df[\"AIC\"] = df[\"AIC_marg\"]  + df[\"AIC_cond\"]\n",
    "    df[\"AIC_no_ff\"] = df[\"AIC_marg\"]  + df[\"AIC_cond_no_ff\"]\n",
    "\n",
    "\n",
    "    return df\n",
    "\n"
   ],
   "metadata": {
    "collapsed": false
   }
  },
  {
   "cell_type": "code",
   "execution_count": null,
   "outputs": [],
   "source": [
    "results_dir_list = [\"run_1\", \"run_2\", \"run_4\", \"run_8\"]\n",
    "df = get_MI_df(DATASET, results_dir_list)\n",
    "df = add_BIC_AIC(df)\n",
    "\n",
    "df[[\"X\", \"X_dim\"]].drop_duplicates().set_index(\"X\")"
   ],
   "metadata": {
    "collapsed": false
   }
  },
  {
   "cell_type": "code",
   "execution_count": null,
   "outputs": [],
   "source": [
    "\n",
    "from sklearn.mixture import GaussianMixture\n",
    "from tqdm import tqdm\n",
    "import os\n",
    "import pandas as pd\n",
    "\n",
    "\n",
    "df_modes = pd.DataFrame(columns=[\"model\", \"log_likelihood\", \"n_clusters\", \"BIC\", \"AIC\"])\n",
    "\n",
    "CLUSTERS = list(range(1,9))\n",
    "models = df[\"X\"].unique()\n",
    "\n",
    "p_bar = tqdm(total=len(models) * len(CLUSTERS))\n",
    "try:\n",
    "    for m in models:\n",
    "        p_bar.desc = f\"[{m}]:\\t\"\n",
    "        if os.path.exists(f\"data/{DATASET}/{m}.npy\"):\n",
    "            emb = np.load(f\"data/{DATASET}/{m}.npy\", mmap_mode=\"r\")\n",
    "            random_idx = np.random.choice(emb.shape[0], 5000, replace=False)\n",
    "            emb = emb[random_idx]\n",
    "            emb = np.unique(emb, axis=0)\n",
    "            emb = (emb - emb.mean(axis=0)) / (emb.std(axis=0) + 1e-8)\n",
    "            for n_clusters in CLUSTERS:\n",
    "                g_mixt = GaussianMixture(n_components=n_clusters, random_state=0, covariance_type=\"full\", max_iter=100, verbose=0).fit(emb)\n",
    "                aic = g_mixt.aic(emb)\n",
    "                bic = g_mixt.bic(emb)\n",
    "                log_likelihood = g_mixt.score(emb)\n",
    "                df_modes.loc[len(df_modes)] = [m, log_likelihood, n_clusters, bic, aic]\n",
    "                p_bar.update(1)\n",
    "except Exception as e:\n",
    "    print(e)\n",
    "finally:\n",
    "    p_bar.close()\n",
    "del p_bar\n"
   ],
   "metadata": {
    "collapsed": false
   }
  },
  {
   "cell_type": "code",
   "execution_count": null,
   "outputs": [],
   "source": [
    "for k in [\"BIC\", \"AIC\", \"log_likelihood\"]:\n",
    "    df_modes[f\"{k}_norm\"] = (df_modes.set_index(\"model\")[k] / df_modes.groupby(\"model\")[k].max()).reset_index()[k]\n",
    "\n",
    "df_modes_joined = df_modes.join(df[[\"X\", \"X_dim\"]].drop_duplicates().set_index(\"X\"), on=\"model\")"
   ],
   "metadata": {
    "collapsed": false
   }
  },
  {
   "cell_type": "code",
   "execution_count": null,
   "outputs": [],
   "source": [
    "fig,axess = plt.subplots(2,2, figsize=(7,5))\n",
    "axes = axess[0]\n",
    "sns.lineplot(data=df_modes, x=\"n_clusters\", y=\"AIC_norm\", hue=\"model\", legend=False, ax=axes[0], alpha = 0.5)\n",
    "axes[0].set_ylim(0)\n",
    "sns.lineplot(data=df_modes, x=\"n_clusters\", y=\"BIC_norm\", hue=\"model\", legend=False, ax=axes[1], alpha= 0.5)\n",
    "\n",
    "axes = axess[1]\n",
    "sns.lineplot(data=df_modes, x=\"n_clusters\", y=\"AIC_norm\", legend=False, ax=axes[0])\n",
    "sns.lineplot(data=df_modes, x=\"n_clusters\", y=\"BIC_norm\", legend=False, ax=axes[1])\n",
    "\n",
    "fig.tight_layout()"
   ],
   "metadata": {
    "collapsed": false
   }
  },
  {
   "cell_type": "code",
   "execution_count": null,
   "outputs": [],
   "source": [
    "df_modes.loc[df_modes.groupby(\"model\")[\"BIC\"].idxmin()].n_clusters.value_counts().hist(bins=100)"
   ],
   "metadata": {
    "collapsed": false
   }
  },
  {
   "cell_type": "code",
   "execution_count": null,
   "outputs": [],
   "source": [
    "df_modes.loc[df_modes.groupby(\"model\")[\"AIC\"].idxmin()].n_clusters.value_counts().hist(bins=100)"
   ],
   "metadata": {
    "collapsed": false
   }
  },
  {
   "cell_type": "code",
   "execution_count": null,
   "outputs": [],
   "source": [
    "models = df[\"X\"].unique()\n",
    "from sklearn.cluster import MiniBatchKMeans\n",
    "from tqdm import tqdm\n",
    "import os\n",
    "import pandas as pd\n",
    "\n",
    "df_modes = pd.DataFrame(columns=[\"model\", \"d_inertia\", \"n_clusters\"])\n",
    "\n",
    "\n",
    "for m in tqdm(models):\n",
    "    if os.path.exists(f\"data/{DATASET}/{m}.npy\"):\n",
    "        emb = np.load(f\"data/{DATASET}/{m}.npy\", mmap_mode=\"r\")\n",
    "        lastinertia = None\n",
    "        for n_clusters in range(1, 9):\n",
    "\n",
    "            kmeans = MiniBatchKMeans(n_clusters=n_clusters, random_state=0).fit(emb)\n",
    "            if lastinertia is not None:\n",
    "                df_modes = df_modes.append({\"model\": m, \"d_inertia\": lastinertia - kmeans.inertia_, \"n_clusters\": n_clusters}, ignore_index=True)\n",
    "            lastinertia = kmeans.inertia_\n"
   ],
   "metadata": {
    "collapsed": false
   }
  },
  {
   "cell_type": "code",
   "execution_count": null,
   "outputs": [],
   "source": [
    "df_modes[\"d_inertia_norm\"] = (df_modes.set_index(\"model\").d_inertia  / df_modes.groupby(\"model\").d_inertia.min().abs()).reset_index().d_inertia\n",
    "\n",
    "\n",
    "sns.lineplot(data=df_modes, x=\"n_clusters\", y=\"d_inertia\", hue=\"model\", legend=False)"
   ],
   "metadata": {
    "collapsed": false
   }
  },
  {
   "cell_type": "code",
   "execution_count": null,
   "outputs": [],
   "source": [
    "sns.lineplot(data=df_modes, x=\"n_clusters\", y=\"d_inertia_norm\", hue=\"model\", legend=False)"
   ],
   "metadata": {
    "collapsed": false
   }
  },
  {
   "cell_type": "code",
   "execution_count": null,
   "outputs": [],
   "source": [],
   "metadata": {
    "collapsed": false
   }
  }
 ],
 "metadata": {
  "kernelspec": {
   "display_name": "Python 3",
   "language": "python",
   "name": "python3"
  },
  "language_info": {
   "codemirror_mode": {
    "name": "ipython",
    "version": 2
   },
   "file_extension": ".py",
   "mimetype": "text/x-python",
   "name": "python",
   "nbconvert_exporter": "python",
   "pygments_lexer": "ipython2",
   "version": "2.7.6"
  }
 },
 "nbformat": 4,
 "nbformat_minor": 0
}
