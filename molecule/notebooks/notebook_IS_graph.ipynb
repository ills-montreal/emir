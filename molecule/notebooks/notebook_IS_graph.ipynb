{
 "cells": [
  {
   "cell_type": "markdown",
   "source": [
    "## IS between descriptors and embeddings"
   ],
   "metadata": {
    "collapsed": false,
    "ExecuteTime": {
     "end_time": "2024-04-05T17:05:22.314638214Z",
     "start_time": "2024-04-05T17:05:22.313981421Z"
    }
   },
   "outputs": [],
   "execution_count": 22
  },
  {
   "cell_type": "code",
   "execution_count": null,
   "outputs": [],
   "source": [
    "%cd .."
   ],
   "metadata": {
    "collapsed": false
   }
  },
  {
   "cell_type": "code",
   "execution_count": null,
   "outputs": [],
   "source": [
    "import os\n",
    "import numpy as np\n",
    "from utils.utils_notebook import get_MI_df, plot_com, LATEX_FIG_PATH\n",
    "import matplotlib.pyplot as plt\n",
    "import seaborn as sns\n",
    "\n",
    "DATASET = \"ZINC\"\n",
    "results_dir_list = [\"run_4\"]\n",
    "COLUMS_SPLIT = \"cond_modes\"\n",
    "\n",
    "\n",
    "def prerpocess_emb_name(x):\n",
    "    return x.replace(\n",
    "        \"DenoisingPretrainingPQCMv4\",\n",
    "        \"3D-denoising\"\n",
    "    ).replace(\n",
    "        \"Chem\",\n",
    "        \"\"\n",
    "    ).replace(\n",
    "        \"ThreeDInfomax\",\n",
    "        \"3D-Infomax\"\n",
    "    ).replace(\n",
    "        \"_OGB\",\n",
    "        \"\"\n",
    "    )\n",
    "\n",
    "df = get_MI_df(DATASET, results_dir_list)\n",
    "\n",
    "\n",
    "df.X = df.X.apply(prerpocess_emb_name)\n",
    "df.Y = df.Y.apply(prerpocess_emb_name)"
   ],
   "metadata": {
    "collapsed": false
   }
  },
  {
   "cell_type": "code",
   "execution_count": null,
   "outputs": [],
   "source": [
    "plot_com(\n",
    "    df,\n",
    "    figsize=7,\n",
    "    com_resolution=1,\n",
    "    min_edge_width=0.5,\n",
    "    max_edge_width=1,\n",
    "    min_alpha=0.05,\n",
    "    max_alpha=0.3,\n",
    "    clip_min_values_alpha=0.0,\n",
    "    node_cmap_offset=0,\n",
    "    edge_cmap_offset=0,\n",
    "    fontsize=14,\n",
    "    com_pad_by=1,\n",
    "    sparsity=0,\n",
    "    node_size=4,\n",
    "    scale=(1,0.7),\n",
    "    nodes_to_display=[ \"BertMLM-10M\", \"BertMLM-77M\", \"ContextPred\",  \"AttributeMask\", \"Not-trained\", \"InfoGraph\", \"BertMTR-5M\", \"BertMTR-77M\", \"MolR_gcn\", \"MolR_tag\", \"MolBert\", \"GPT-1.2B\", \"GPT-4.7M\", ],\n",
    ")"
   ],
   "metadata": {
    "collapsed": false
   }
  }
 ],
 "metadata": {
  "kernelspec": {
   "display_name": "Python 3",
   "language": "python",
   "name": "python3"
  },
  "language_info": {
   "codemirror_mode": {
    "name": "ipython",
    "version": 2
   },
   "file_extension": ".py",
   "mimetype": "text/x-python",
   "name": "python",
   "nbconvert_exporter": "python",
   "pygments_lexer": "ipython2",
   "version": "2.7.6"
  }
 },
 "nbformat": 4,
 "nbformat_minor": 0
}
