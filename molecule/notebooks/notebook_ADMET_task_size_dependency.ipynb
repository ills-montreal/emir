{
 "cells": [
  {
   "cell_type": "code",
   "execution_count": null,
   "outputs": [],
   "source": [
    "%cd .."
   ],
   "metadata": {
    "collapsed": false
   }
  },
  {
   "cell_type": "code",
   "execution_count": null,
   "outputs": [],
   "source": [
    "import os\n",
    "import numpy as np\n",
    "from molecule.utils.utils_notebook import get_MI_df, get_ranked_df, LATEX_FIG_PATH, get_DTI_rank_df, process_dataset_name, prerpocess_emb_name\n",
    "import matplotlib.pyplot as plt\n",
    "import seaborn as sns\n",
    "from IPython.display import clear_output\n",
    "import pandas as pd\n",
    "\n",
    "DATASET = \"ZINC\"\n",
    "results_dir_list = [\"run_4\"]\n",
    "COLUMS_SPLIT = \"cond_modes\"\n",
    "METRIC = r\"$\\overline{\\mathcal{I}_S}$\"\n",
    "\n",
    "model_groups = {\n",
    "    'ChemBert-MLM': ['ChemBertMLM-10M', 'ChemBertMLM-5M', 'ChemBertMLM-77M'],\n",
    "    'ChemBert-MTR': ['ChemBertMTR-77M', 'ChemBertMTR-10M', 'ChemBertMTR-5M'],\n",
    "    '3D': ['DenoisingPretrainingPQCMv4', 'FRAD_QM9'],\n",
    "    'MolR': ['MolR_tag', 'MolR_gcn', 'MolR_gat'],\n",
    "    'MoleOOD': ['MoleOOD_OGB_GCN', 'MoleOOD_OGB_SAGE', 'MoleOOD_OGB_GIN']\n",
    "}\n",
    "for key in model_groups:\n",
    "    model_groups[key] = [prerpocess_emb_name(x) for x in model_groups[key]]\n",
    "\n",
    "\n",
    "df = get_MI_df(DATASET, results_dir_list)\n",
    "\n",
    "df_downs = get_ranked_df(df, path=\"results/TDC_ADMET_SCAFF.csv\")\n",
    "\n",
    "df_downs.embedder = df_downs.embedder.apply(prerpocess_emb_name)\n",
    "df_downs[\"models_group\"] = np.nan\n",
    "for key,value in model_groups.items():\n",
    "    df_downs.loc[df_downs.embedder.isin(value), \"models_group\"] = key\n",
    "df_downs = df_downs.dropna()\n",
    "clear_output()\n",
    "df_downs"
   ],
   "metadata": {
    "collapsed": false
   }
  },
  {
   "cell_type": "markdown",
   "source": [
    "# Dependency to task size"
   ],
   "metadata": {
    "collapsed": false
   }
  },
  {
   "cell_type": "code",
   "execution_count": null,
   "outputs": [],
   "source": [
    "df_corr = pd.DataFrame(columns=[\"dataset\", \"kendall\", \"pearson\", \"spearman\"])\n",
    "\n",
    "for i,dataset in enumerate(df_downs.sort_values(\"task_size\").dataset.unique()):\n",
    "    df_tmp = df_downs[(df_downs.dataset == dataset)]\n",
    "    df_tmp.embedder = df_tmp.embedder.apply(prerpocess_emb_name)\n",
    "    df_tmp = df_tmp.groupby(\"embedder\").median()\n",
    "    pearson = df_tmp[[\"metric\",\"meanrank_information\"]].corr(\"pearson\").iloc[0,1]\n",
    "    corr = df_tmp[[\"metric\",\"meanrank_information\"]].corr(\"spearman\").iloc[0,1]\n",
    "    corr_kendall = df_tmp[[\"metric\",\"meanrank_information\"]].corr(\"kendall\").iloc[0,1]\n",
    "    df_corr = df_corr.append({\"dataset\":dataset, \"kendall\":-corr_kendall, \"pearson\":-pearson, \"spearman\":-corr}, ignore_index=True)\n",
    "\n",
    "df_downs = df_downs.join(df_corr.set_index(\"dataset\"), on=\"dataset\")"
   ],
   "metadata": {
    "collapsed": false
   }
  },
  {
   "cell_type": "code",
   "execution_count": null,
   "outputs": [],
   "source": [
    "fig, axes = plt.subplots(1,3, figsize=(7,2))\n",
    "df_plot = df_downs.drop_duplicates(subset=[\"dataset\"])\n",
    "\n",
    "sns.scatterplot(data=df_plot, x=\"task_size\", y=\"pearson\", hue=\"task_category\", style=\"task_type\", palette=\"husl\", legend=False, ax=axes[0])\n",
    "#sns.regplot(data=df_plot, x=\"task_size\", y=\"pearson\", ax=axes[0], scatter=False, color=\"blue\", line_kws = {\"alpha\":0.2},  logx=True, x_ci=\"ci\", ci=95,)\n",
    "\n",
    "sns.scatterplot(data=df_plot, x=\"task_size\", y=\"spearman\", hue=\"task_category\", style=\"task_type\", palette=\"husl\", legend=False, ax=axes[1])\n",
    "#sns.regplot(data=df_plot, x=\"task_size\", y=\"spearman\", ax=axes[1], scatter=False, color=\"blue\", line_kws = {\"alpha\":0.2},  logx=True, x_ci=\"ci\", ci=95)\n",
    "\n",
    "sns.scatterplot(data=df_plot, x=\"task_size\", y=\"kendall\", hue=\"task_category\", style=\"task_type\", palette=\"husl\", legend=False, ax=axes[2])\n",
    "#sns.regplot(data=df_plot, x=\"task_size\", y=\"kendall\", ax=axes[2], scatter=False, color=\"blue\", line_kws = {\"alpha\":0.2},  logx=True, x_ci=\"ci\", ci=95)\n",
    "\n",
    "# Put x in log scale\n",
    "axes[0].set_xscale(\"log\")\n",
    "axes[1].set_xscale(\"log\")\n",
    "axes[2].set_xscale(\"log\")\n",
    "\n",
    "\n",
    "axes[0].set_ylabel(r\"$\\varrho_p$\")\n",
    "axes[1].set_ylabel(r\"$\\varrho_s$\")\n",
    "axes[2].set_ylabel(r\"$\\tau$\")\n",
    "\n",
    "fig.tight_layout()\n",
    "\n",
    "plt.savefig(f\"{LATEX_FIG_PATH}/molecule/correlation_task_size_scaff.pdf\", format = \"pdf\", bbox_inches = 'tight')"
   ],
   "metadata": {
    "collapsed": false
   }
  }
 ],
 "metadata": {
  "kernelspec": {
   "display_name": "Python 3",
   "language": "python",
   "name": "python3"
  },
  "language_info": {
   "codemirror_mode": {
    "name": "ipython",
    "version": 2
   },
   "file_extension": ".py",
   "mimetype": "text/x-python",
   "name": "python",
   "nbconvert_exporter": "python",
   "pygments_lexer": "ipython2",
   "version": "2.7.6"
  }
 },
 "nbformat": 4,
 "nbformat_minor": 0
}
