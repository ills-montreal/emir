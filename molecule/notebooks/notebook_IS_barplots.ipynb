{
 "cells": [
  {
   "cell_type": "markdown",
   "source": [
    "## IS between descriptors and embeddings"
   ],
   "metadata": {
    "collapsed": false,
    "ExecuteTime": {
     "end_time": "2024-04-05T17:05:22.314638214Z",
     "start_time": "2024-04-05T17:05:22.313981421Z"
    }
   },
   "outputs": [],
   "execution_count": 22
  },
  {
   "cell_type": "code",
   "execution_count": null,
   "outputs": [],
   "source": [
    "%cd .."
   ],
   "metadata": {
    "collapsed": false,
    "is_executing": true
   }
  },
  {
   "cell_type": "code",
   "execution_count": null,
   "outputs": [],
   "source": [
    "\n",
    "import os\n",
    "import numpy as np\n",
    "from utils.utils_notebook import get_MI_df, plot_cmap, LATEX_FIG_PATH, prerpocess_emb_name\n",
    "import matplotlib.pyplot as plt\n",
    "import seaborn as sns\n",
    "\n",
    "DATASET = \"ZINC\"\n",
    "results_dir_list = [\"run_4\"]\n",
    "COLUMS_SPLIT = \"cond_modes\"\n",
    "METRIC = r\"$\\overline{\\mathcal{I}_S}$\"\n",
    "\n",
    "df = get_MI_df(DATASET, results_dir_list)\n",
    "\n",
    "df.X = df.X.apply(prerpocess_emb_name)\n",
    "df.Y = df.Y.apply(prerpocess_emb_name)"
   ],
   "metadata": {
    "collapsed": false
   }
  },
  {
   "cell_type": "code",
   "execution_count": null,
   "outputs": [],
   "source": [
    "\n",
    "def plot_barplot_mi(keys, df, COLUMS_SPLIT):\n",
    "    df_plot = df[df[COLUMS_SPLIT] == 4]\n",
    "    df_plot[\"to_highlight\"] = df_plot.X.isin([\"GraphMVP\", \"3D-Infomax\"])\n",
    "\n",
    "    fig, axes = plt.subplots(1, 2, figsize=(3.9, 5))\n",
    "\n",
    "    df_plot = df_plot[df_plot.Y.isin(keys) & ~df_plot.X.isin(keys)]\n",
    "    df_plot = df_plot.groupby(\"X\").mean().reset_index()\n",
    "\n",
    "    palette_no_highlight = sns.color_palette(\"hls\", df_plot.X.nunique(), desat = 0.15)\n",
    "    palette_highlight = sns.color_palette(\"hls\", df_plot.X.nunique(), desat = 1)\n",
    "    hue_order = df_plot.sort_values(\"I(X->Y)/dim\").X.unique()\n",
    "    cmap = {\n",
    "        model: palette_no_highlight[i] if not model in [\"GraphMVP\", \"3D-Infomax\"] else palette_highlight[i] for i, model in enumerate(hue_order)\n",
    "    }\n",
    "\n",
    "\n",
    "    sns.barplot(\n",
    "        data=df_plot.sort_values(\"I(X->Y)/dim\"),\n",
    "        y=\"X\",\n",
    "        x=\"I(X->Y)/dim\",\n",
    "        hue=\"X\",\n",
    "        ax=axes[0],\n",
    "        legend=False,\n",
    "        palette=cmap,\n",
    "    )\n",
    "\n",
    "    hue_order = df_plot.sort_values(\"I(Y->X)/dim\").X.unique()\n",
    "    cmap = {\n",
    "        model: palette_no_highlight[i] if not model in [\"GraphMVP\", \"3D-Infomax\"] else palette_highlight[i] for i, model in enumerate(hue_order)\n",
    "    }\n",
    "    sns.barplot(\n",
    "        data=df_plot.sort_values(\"I(Y->X)/dim\"),\n",
    "        y=\"X\",\n",
    "        x=\"I(Y->X)/dim\",\n",
    "        hue=\"X\",\n",
    "        ax=axes[1],\n",
    "        legend=False,\n",
    "        palette=cmap,\n",
    "    )\n",
    "\n",
    "    axes[0].set_ylabel(\"\")\n",
    "    axes[0].set_xlabel(\"Ability to predict denoising \\n3D models\")\n",
    "    axes[1].set_ylabel(\"\")\n",
    "    axes[1].set_xlabel(\"Ability to be predicted \\nby denoising 3D models\")\n",
    "    axes[1].set_xticklabels([])\n",
    "    axes[0].set_xticklabels([])\n",
    "    fig.tight_layout()"
   ],
   "metadata": {
    "collapsed": false
   }
  },
  {
   "cell_type": "code",
   "execution_count": null,
   "outputs": [],
   "source": [
    "keys = [\"3D-denoising\", \"FRAD_QM9\"]\n",
    "plot_barplot_mi(keys, df, COLUMS_SPLIT)\n",
    "\n",
    "plt.savefig(\n",
    "    f\"{LATEX_FIG_PATH}/molecule/denoising_3D_MI.pdf\",\n",
    "    format=\"pdf\",\n",
    "    bbox_inches=\"tight\",\n",
    ")"
   ],
   "metadata": {
    "collapsed": false
   }
  },
  {
   "cell_type": "code",
   "execution_count": null,
   "outputs": [],
   "source": [
    "from scipy.cluster.hierarchy import linkage\n",
    "%matplotlib inline\n",
    "df_plot = df\n",
    "\n",
    "fig,axes = plt.subplots(1, 2, figsize=(2.8, 5.5), sharey=True)\n",
    "\n",
    "#Barplot of median incomint/outgoing emir\n",
    "order = df_plot.groupby(\"X\").median().sort_values(\"I(X->Y)/dim\").index\n",
    "sns.barplot(\n",
    "    data=df_plot,\n",
    "    y=\"X\",\n",
    "    x=\"I(X->Y)/dim\",\n",
    "    hue=\"X\",\n",
    "    ax=axes[0],\n",
    "    palette=\"coolwarm\",\n",
    "    order=order,\n",
    "    hue_order=order,\n",
    "    capsize=.2,\n",
    "    err_kws={\"linewidth\": 0.5},\n",
    "    estimator=np.median\n",
    ")\n",
    "\n",
    "sns.barplot(\n",
    "    data=df_plot.sort_values(\"I(X->Y)/dim\"),\n",
    "    y=\"X\",\n",
    "    x=\"I(Y->X)/dim\",\n",
    "    hue=\"X\",\n",
    "    ax=axes[1],\n",
    "    palette=\"coolwarm\",\n",
    "    order=order,\n",
    "    hue_order=order,\n",
    "    capsize=.2,\n",
    "    err_kws={\"linewidth\": 0.5},\n",
    "    estimator=np.median\n",
    ")\n",
    "\n",
    "axes[0].set_ylabel(\"Models Z\")\n",
    "\n",
    "axes[0].set_xlabel(r\"$\\overline{\\mathcal{I}_S}}$\" + r\"$(Z\\rightarrow U)$\")\n",
    "axes[1].set_xlabel(r\"$\\overline{\\mathcal{I}_S}}$\"+ r\"$(U\\rightarrow Z)$\")\n",
    "plt.draw()\n",
    "# Put 3D models in bold red\n",
    "for i, label in enumerate(axes[0].get_yticklabels()):\n",
    "    if label.get_text() == 'FRAD_QM9' or label.get_text() == '3D-denoising':\n",
    "        label.set_weight(\"bold\")\n",
    "        label.set_color(\"red\")\n",
    "\n",
    "\n",
    "plt.savefig(\n",
    "    f\"{LATEX_FIG_PATH}/molecule/barplot_MI-3D.pdf\",\n",
    "    format=\"pdf\",\n",
    "    bbox_inches=\"tight\",\n",
    ")"
   ],
   "metadata": {
    "collapsed": false
   }
  }
 ],
 "metadata": {
  "kernelspec": {
   "display_name": "Python 3",
   "language": "python",
   "name": "python3"
  },
  "language_info": {
   "codemirror_mode": {
    "name": "ipython",
    "version": 2
   },
   "file_extension": ".py",
   "mimetype": "text/x-python",
   "name": "python",
   "nbconvert_exporter": "python",
   "pygments_lexer": "ipython2",
   "version": "2.7.6"
  }
 },
 "nbformat": 4,
 "nbformat_minor": 0
}
