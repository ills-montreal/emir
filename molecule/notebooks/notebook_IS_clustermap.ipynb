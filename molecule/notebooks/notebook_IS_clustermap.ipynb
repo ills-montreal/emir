{
 "cells": [
  {
   "cell_type": "markdown",
   "source": [
    "## IS between descriptors and embeddings"
   ],
   "metadata": {
    "collapsed": false,
    "ExecuteTime": {
     "end_time": "2024-04-05T17:05:22.314638214Z",
     "start_time": "2024-04-05T17:05:22.313981421Z"
    }
   },
   "outputs": [],
   "execution_count": 22
  },
  {
   "cell_type": "code",
   "execution_count": null,
   "outputs": [],
   "source": [
    "%cd .."
   ],
   "metadata": {
    "collapsed": false
   }
  },
  {
   "cell_type": "code",
   "execution_count": null,
   "outputs": [],
   "source": [
    "\n",
    "import os\n",
    "import numpy as np\n",
    "from utils.utils_notebook import get_MI_df, plot_cmap, LATEX_FIG_PATH, prerpocess_emb_name\n",
    "import matplotlib.pyplot as plt\n",
    "import seaborn as sns\n",
    "from scipy.cluster.hierarchy import linkage\n",
    "\n",
    "\n",
    "DATASET = \"ZINC\"\n",
    "results_dir_list = [\"run_4\"]\n",
    "COLUMS_SPLIT = \"cond_modes\"\n",
    "METRIC = r\"$\\overline{\\mathcal{I}_S}$\"\n",
    "\n",
    "df = get_MI_df(DATASET, results_dir_list)\n",
    "\n",
    "df.X = df.X.apply(prerpocess_emb_name)\n",
    "df.Y = df.Y.apply(prerpocess_emb_name)"
   ],
   "metadata": {
    "collapsed": false
   }
  },
  {
   "cell_type": "markdown",
   "source": [
    "\n",
    "## Clustermap"
   ],
   "metadata": {
    "collapsed": false,
    "ExecuteTime": {
     "end_time": "2024-04-05T17:05:22.462690124Z",
     "start_time": "2024-04-05T17:05:22.328599172Z"
    }
   },
   "outputs": [
    {
     "data": {
      "text/plain": "            X                 Y         I(Y)      I(Y|X)     I(X->Y)  X_dim  \\\n0   InfoGraph       ContextPred   129.383273   52.092004   77.291269    300   \n1   InfoGraph           GPT-GNN   281.251829  226.528228   54.723602    300   \n2   InfoGraph          GraphMVP   387.807348  263.611114  124.196234    300   \n3   InfoGraph            GROVER   384.679020  293.621788   91.057233    300   \n4   InfoGraph     AttributeMask   342.801693  224.687316  118.114377    300   \n..        ...               ...          ...         ...         ...    ...   \n23     GROVER          MolR_gcn  1315.184164  913.647300  401.536864    300   \n24     GROVER          MolR_tag  1311.471265  956.676064  354.795200    300   \n25     GROVER   MoleOOD_OGB_GIN   262.078067  187.992294   74.085774    300   \n26     GROVER   MoleOOD_OGB_GCN   272.791677  191.660158   81.131519    300   \n27     GROVER  MoleOOD_OGB_SAGE   271.850275  194.040153   77.810123    300   \n\n    Y_dim        I(X)      I(X|Y)     I(Y->X)  \n0     300  363.295102  312.802439   50.492663  \n1     300  363.295102  318.301537   44.993565  \n2     300  363.295102  212.427149  150.867953  \n3     300  363.295102  247.326301  115.968801  \n4     300  363.295102  307.576783   55.718319  \n..    ...         ...         ...         ...  \n23   1024         NaN         NaN         NaN  \n24   1024         NaN         NaN         NaN  \n25    256         NaN         NaN         NaN  \n26    256         NaN         NaN         NaN  \n27    256         NaN         NaN         NaN  \n\n[252 rows x 10 columns]",
      "text/html": "<div>\n<style scoped>\n    .dataframe tbody tr th:only-of-type {\n        vertical-align: middle;\n    }\n\n    .dataframe tbody tr th {\n        vertical-align: top;\n    }\n\n    .dataframe thead th {\n        text-align: right;\n    }\n</style>\n<table border=\"1\" class=\"dataframe\">\n  <thead>\n    <tr style=\"text-align: right;\">\n      <th></th>\n      <th>X</th>\n      <th>Y</th>\n      <th>I(Y)</th>\n      <th>I(Y|X)</th>\n      <th>I(X-&gt;Y)</th>\n      <th>X_dim</th>\n      <th>Y_dim</th>\n      <th>I(X)</th>\n      <th>I(X|Y)</th>\n      <th>I(Y-&gt;X)</th>\n    </tr>\n  </thead>\n  <tbody>\n    <tr>\n      <th>0</th>\n      <td>InfoGraph</td>\n      <td>ContextPred</td>\n      <td>129.383273</td>\n      <td>52.092004</td>\n      <td>77.291269</td>\n      <td>300</td>\n      <td>300</td>\n      <td>363.295102</td>\n      <td>312.802439</td>\n      <td>50.492663</td>\n    </tr>\n    <tr>\n      <th>1</th>\n      <td>InfoGraph</td>\n      <td>GPT-GNN</td>\n      <td>281.251829</td>\n      <td>226.528228</td>\n      <td>54.723602</td>\n      <td>300</td>\n      <td>300</td>\n      <td>363.295102</td>\n      <td>318.301537</td>\n      <td>44.993565</td>\n    </tr>\n    <tr>\n      <th>2</th>\n      <td>InfoGraph</td>\n      <td>GraphMVP</td>\n      <td>387.807348</td>\n      <td>263.611114</td>\n      <td>124.196234</td>\n      <td>300</td>\n      <td>300</td>\n      <td>363.295102</td>\n      <td>212.427149</td>\n      <td>150.867953</td>\n    </tr>\n    <tr>\n      <th>3</th>\n      <td>InfoGraph</td>\n      <td>GROVER</td>\n      <td>384.679020</td>\n      <td>293.621788</td>\n      <td>91.057233</td>\n      <td>300</td>\n      <td>300</td>\n      <td>363.295102</td>\n      <td>247.326301</td>\n      <td>115.968801</td>\n    </tr>\n    <tr>\n      <th>4</th>\n      <td>InfoGraph</td>\n      <td>AttributeMask</td>\n      <td>342.801693</td>\n      <td>224.687316</td>\n      <td>118.114377</td>\n      <td>300</td>\n      <td>300</td>\n      <td>363.295102</td>\n      <td>307.576783</td>\n      <td>55.718319</td>\n    </tr>\n    <tr>\n      <th>...</th>\n      <td>...</td>\n      <td>...</td>\n      <td>...</td>\n      <td>...</td>\n      <td>...</td>\n      <td>...</td>\n      <td>...</td>\n      <td>...</td>\n      <td>...</td>\n      <td>...</td>\n    </tr>\n    <tr>\n      <th>23</th>\n      <td>GROVER</td>\n      <td>MolR_gcn</td>\n      <td>1315.184164</td>\n      <td>913.647300</td>\n      <td>401.536864</td>\n      <td>300</td>\n      <td>1024</td>\n      <td>NaN</td>\n      <td>NaN</td>\n      <td>NaN</td>\n    </tr>\n    <tr>\n      <th>24</th>\n      <td>GROVER</td>\n      <td>MolR_tag</td>\n      <td>1311.471265</td>\n      <td>956.676064</td>\n      <td>354.795200</td>\n      <td>300</td>\n      <td>1024</td>\n      <td>NaN</td>\n      <td>NaN</td>\n      <td>NaN</td>\n    </tr>\n    <tr>\n      <th>25</th>\n      <td>GROVER</td>\n      <td>MoleOOD_OGB_GIN</td>\n      <td>262.078067</td>\n      <td>187.992294</td>\n      <td>74.085774</td>\n      <td>300</td>\n      <td>256</td>\n      <td>NaN</td>\n      <td>NaN</td>\n      <td>NaN</td>\n    </tr>\n    <tr>\n      <th>26</th>\n      <td>GROVER</td>\n      <td>MoleOOD_OGB_GCN</td>\n      <td>272.791677</td>\n      <td>191.660158</td>\n      <td>81.131519</td>\n      <td>300</td>\n      <td>256</td>\n      <td>NaN</td>\n      <td>NaN</td>\n      <td>NaN</td>\n    </tr>\n    <tr>\n      <th>27</th>\n      <td>GROVER</td>\n      <td>MoleOOD_OGB_SAGE</td>\n      <td>271.850275</td>\n      <td>194.040153</td>\n      <td>77.810123</td>\n      <td>300</td>\n      <td>256</td>\n      <td>NaN</td>\n      <td>NaN</td>\n      <td>NaN</td>\n    </tr>\n  </tbody>\n</table>\n<p>252 rows × 10 columns</p>\n</div>"
     },
     "execution_count": 24,
     "metadata": {},
     "output_type": "execute_result"
    }
   ],
   "execution_count": 24
  },
  {
   "cell_type": "code",
   "execution_count": null,
   "outputs": [],
   "source": [
    "%matplotlib inline\n",
    "\n",
    "df.loc[df.X == df.Y, \"I(X->Y)/dim\"] = df[\"I(X->Y)/dim\"].max()\n",
    "\n",
    "df_pivot = df.pivot_table(index=\"X\", columns=\"Y\", values=\"I(X->Y)/dim\", aggfunc=\"mean\")\n",
    "link = linkage(df_pivot, method=\"median\")\n",
    "\n",
    "\n",
    "cg = sns.clustermap(\n",
    "    df_pivot,\n",
    "    row_linkage=link,\n",
    "    col_linkage=link,\n",
    "    cmap=\"coolwarm\",\n",
    "    figsize=(5.7, 7.2),\n",
    "    robust=True,\n",
    "    cbar_kws={\"label\": \"I(X->Y)/dim\"},\n",
    "    vmin=0.25,\n",
    "    vmax = 1.3,\n",
    ")\n",
    "\n",
    "cg.ax_row_dendrogram.set_visible(False)\n",
    "cg.ax_col_dendrogram.set_visible(False)\n",
    "# move legend\n",
    "cg.cax.set_visible(True)\n",
    "#move legend\n",
    "cg.cax.set_position([1, 0.3, 0.02, 0.45])\n",
    "\n",
    "# Replace ylabel to Z and ylabel to X\n",
    "cg.ax_heatmap.set_ylabel(\"Models Z\")\n",
    "cg.ax_heatmap.set_xlabel(\"Models U\")\n",
    "# Put the BertMTR models in bold red\n",
    "for i, label in enumerate(cg.ax_heatmap.get_yticklabels()):\n",
    "    if label.get_text().startswith(\"BertMTR\") or label.get_text().startswith(\"MolR\"):\n",
    "        label.set_weight(\"bold\")\n",
    "        label.set_color(\"red\")\n",
    "\n",
    "#remove x ticks\n",
    "cg.ax_heatmap.set_xticks([])\n",
    "\n",
    "plt.savefig(\n",
    "    f\"{LATEX_FIG_PATH}/molecule/clustermap_MI.pdf\",\n",
    "    format=\"pdf\",\n",
    "    bbox_inches=\"tight\",\n",
    ")"
   ],
   "metadata": {
    "collapsed": false
   }
  }
 ],
 "metadata": {
  "kernelspec": {
   "display_name": "Python 3",
   "language": "python",
   "name": "python3"
  },
  "language_info": {
   "codemirror_mode": {
    "name": "ipython",
    "version": 2
   },
   "file_extension": ".py",
   "mimetype": "text/x-python",
   "name": "python",
   "nbconvert_exporter": "python",
   "pygments_lexer": "ipython2",
   "version": "2.7.6"
  }
 },
 "nbformat": 4,
 "nbformat_minor": 0
}
