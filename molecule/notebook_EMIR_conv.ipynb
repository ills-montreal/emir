{
 "cells": [
  {
   "cell_type": "markdown",
   "source": [
    "# Knife MI analysis"
   ],
   "metadata": {
    "collapsed": false
   }
  },
  {
   "cell_type": "code",
   "execution_count": null,
   "outputs": [],
   "source": [
    "import os\n",
    "\n",
    "import seaborn as sns\n",
    "import matplotlib.pyplot as plt\n",
    "import pandas as pd\n",
    "from tqdm import tqdm as tqdm\n",
    "import numpy as np\n",
    "import json\n",
    "import sklearn\n",
    "from sklearn.decomposition import PCA\n",
    "\n",
    "from utils import MolecularFeatureExtractor\n",
    "from models.model_paths import get_model_path\n",
    "\n",
    "from main import GROUPED_MODELS\n",
    "\n",
    "from utils_notebook import plot_embeddings, MODELS, MODELS_PATH, get_loss_df,get_MI_df"
   ],
   "metadata": {
    "collapsed": false
   }
  },
  {
   "cell_type": "code",
   "execution_count": null,
   "outputs": [],
   "source": [
    "# plot_embeddings(\"ClinTox\")"
   ],
   "metadata": {
    "collapsed": false
   }
  },
  {
   "cell_type": "code",
   "execution_count": null,
   "outputs": [],
   "source": [
    "full_df_loss_marg, full_df_loss_cond = get_loss_df(DATASET, results_dir_list)"
   ],
   "metadata": {
    "collapsed": false
   }
  },
  {
   "cell_type": "code",
   "execution_count": null,
   "outputs": [],
   "source": [
    "n_rows = np.ceil(full_df_loss_marg.X.nunique()/5).astype(int)+1\n",
    "n_cols = 5\n",
    "fig, axes = plt.subplots(n_rows,n_cols,figsize=(n_cols*4,4*n_rows))\n",
    "axes = axes.flatten()\n",
    "for i, model in enumerate(tqdm(full_df_loss_marg.X.unique())):\n",
    "    df_tmp = full_df_loss_marg[full_df_loss_marg.X == model]\n",
    "    sns.lineplot(data=df_tmp, x=\"epoch\", y=\"marg_ent\", hue=COLUMS_SPLIT, ax=axes[i], estimator=None, errorbar= None, n_boot=0, legend=False)\n",
    "    axes[i].set_title(model)\n",
    "    axes[i].set_xlabel(\"\")\n",
    "    axes[i].set_ylabel(\"Marginal entropy\")"
   ],
   "metadata": {
    "collapsed": false
   }
  },
  {
   "cell_type": "code",
   "execution_count": null,
   "outputs": [],
   "source": [
    "full_df_loss_cond.epoch = full_df_loss_cond.epoch.astype(int)\n",
    "full_df_loss_cond = full_df_loss_cond.groupby([\"X\", \"Y\", \"cond_modes\", \"marg_modes\", \"ff_hidden_dim\", \"ff_layers\", \"epoch\"]).mean().reset_index()"
   ],
   "metadata": {
    "collapsed": false
   }
  },
  {
   "cell_type": "code",
   "execution_count": null,
   "outputs": [],
   "source": [],
   "metadata": {
    "collapsed": false
   }
  }
 ],
 "metadata": {
  "kernelspec": {
   "display_name": "Python 3",
   "language": "python",
   "name": "python3"
  },
  "language_info": {
   "codemirror_mode": {
    "name": "ipython",
    "version": 2
   },
   "file_extension": ".py",
   "mimetype": "text/x-python",
   "name": "python",
   "nbconvert_exporter": "python",
   "pygments_lexer": "ipython2",
   "version": "2.7.6"
  }
 },
 "nbformat": 4,
 "nbformat_minor": 0
}
