{
 "cells": [
  {
   "cell_type": "code",
   "execution_count": null,
   "metadata": {
    "collapsed": true
   },
   "outputs": [],
   "source": [
    "from emir.estimators import KNIFEEstimator, KnifeArgs"
   ]
  },
  {
   "cell_type": "code",
   "execution_count": 2,
   "outputs": [],
   "source": [
    "import os\n",
    "from collections import namedtuple\n",
    "\n",
    "from models.moleculenet_models import GNN, GNN_graphpred\n",
    "from data.moleculenet_encoding import mol_to_graph_data_obj_simple\n",
    "import datamol as dm\n",
    "import torch\n",
    "from torch_geometric.data import DataLoader\n",
    "import torch_geometric.nn.pool as tgp\n",
    "\n",
    "MODEL_PARAMS = {\n",
    "    \"num_layer\": 5,\n",
    "    \"emb_dim\": 300,\n",
    "    \"JK\": \"last\",\n",
    "    \"drop_ratio\": 0.5,\n",
    "    \"gnn_type\": \"gin\",\n",
    "}"
   ],
   "metadata": {
    "collapsed": false,
    "ExecuteTime": {
     "end_time": "2023-10-27T20:46:16.976865776Z",
     "start_time": "2023-10-27T20:46:15.859806274Z"
    }
   }
  },
  {
   "cell_type": "code",
   "execution_count": 3,
   "outputs": [
    {
     "name": "stderr",
     "output_type": "stream",
     "text": [
      "/home/philippe/.conda/envs/fsl/lib/python3.10/site-packages/torch_geometric/deprecation.py:22: UserWarning: 'data.DataLoader' is deprecated, use 'loader.DataLoader' instead\n",
      "  warnings.warn(out)\n"
     ]
    }
   ],
   "source": [
    "df = dm.data.freesolv()\n",
    "dataloader = DataLoader(\n",
    "    [mol_to_graph_data_obj_simple(dm.to_mol(smiles))for smiles in df[\"smiles\"]],\n",
    "    batch_size=32,\n",
    "    shuffle=False\n",
    ")"
   ],
   "metadata": {
    "collapsed": false,
    "ExecuteTime": {
     "end_time": "2023-10-27T20:46:17.646256214Z",
     "start_time": "2023-10-27T20:46:16.978975474Z"
    }
   }
  },
  {
   "cell_type": "code",
   "execution_count": 4,
   "outputs": [],
   "source": [
    "@torch.no_grad()\n",
    "def get_embeddings_from_model(\n",
    "        path:str = \"backbone_pretrained_models/GROVER/grover.pth\",\n",
    "        pooling_method = tgp.global_mean_pool\n",
    "):\n",
    "    embeddings = []\n",
    "    molecule_model = GNN(**MODEL_PARAMS)\n",
    "    molecule_model.load_state_dict(torch.load(path))\n",
    "    for b in dataloader:\n",
    "        embeddings.append(\n",
    "            pooling_method(molecule_model(b.x, b.edge_index, b.edge_attr), b.batch)\n",
    "        )\n",
    "    embeddings = torch.cat(embeddings, dim=0)\n",
    "    return embeddings"
   ],
   "metadata": {
    "collapsed": false,
    "ExecuteTime": {
     "end_time": "2023-10-27T20:46:17.743986005Z",
     "start_time": "2023-10-27T20:46:17.742075382Z"
    }
   }
  },
  {
   "cell_type": "code",
   "execution_count": 5,
   "outputs": [],
   "source": [
    "MODEL_PATH = \"backbone_pretrained_models\"\n",
    "MODELS = {}\n",
    "# For every directory in the folder\n",
    "for model_name in os.listdir(MODEL_PATH):\n",
    "    # For every file in the directory\n",
    "    for file_name in os.listdir(os.path.join(MODEL_PATH, model_name)):\n",
    "        # If the file is a .pth file\n",
    "        if file_name.endswith(\".pth\"):\n",
    "            MODELS[model_name] = os.path.join(MODEL_PATH, model_name, file_name)"
   ],
   "metadata": {
    "collapsed": false,
    "ExecuteTime": {
     "end_time": "2023-10-27T20:46:17.749526238Z",
     "start_time": "2023-10-27T20:46:17.745127453Z"
    }
   }
  },
  {
   "cell_type": "code",
   "execution_count": 6,
   "outputs": [],
   "source": [
    "embeddings = {}\n",
    "for model_name, model_path in MODELS.items():\n",
    "    embeddings[model_name] = get_embeddings_from_model(model_path)"
   ],
   "metadata": {
    "collapsed": false,
    "ExecuteTime": {
     "end_time": "2023-10-27T20:46:20.768383367Z",
     "start_time": "2023-10-27T20:46:17.750674510Z"
    }
   }
  },
  {
   "cell_type": "code",
   "execution_count": 7,
   "outputs": [],
   "source": [
    "from molfeat.trans.fp import FPVecTransformer\n",
    "from molfeat.trans import MoleculeTransformer\n",
    "threeD_method_fpvec = [\"usrcat\", \"electroshape\", \"usr\"]\n",
    "threeD_method_moleculetransf = [\"cats3d\",]\n",
    "fpvec_method = [\"ecfp-count\", \"ecfp\",  \"estate\", \"erg\", \"rdkit\", \"topological\", \"avalon\", \"maccs\"]\n",
    "moleculetransf_method = [\"scaffoldkeys\", \"cats2d\", ]\n",
    "pharmac_method = [\"cats\", \"default\", \"gobbi\", \"pmapper\"]\n",
    "\n",
    "for name in fpvec_method:\n",
    "    transformer = FPVecTransformer(kind=name, dtype=float)\n",
    "    embeddings[name] = torch.tensor(transformer(df[\"smiles\"]))\n",
    "\n",
    "for name in moleculetransf_method:\n",
    "    transformer = MoleculeTransformer(featurizer=name, dtype=float)\n",
    "    embeddings[name] = torch.tensor(transformer(df[\"smiles\"]))\n",
    "\n",
    "for name in pharmac_method:\n",
    "    transformer = MoleculeTransformer(featurizer=Pharmacophore2D(factory=name), dtype=float)\n",
    "    embeddings[name] = torch.tensor(transformer(df[\"smiles\"]))\n",
    "\n"
   ],
   "metadata": {
    "collapsed": false,
    "ExecuteTime": {
     "end_time": "2023-10-27T20:46:22.670882909Z",
     "start_time": "2023-10-27T20:46:20.767528906Z"
    }
   }
  },
  {
   "cell_type": "code",
   "execution_count": 9,
   "outputs": [],
   "source": [
    "\n",
    "\n",
    "def get_knife_loss(key1, key2):\n",
    "    x1 = embeddings[key1]\n",
    "    x2 = embeddings[key2]\n",
    "    knife_estimator = KNIFEEstimator(KNIFEArgs,x1.shape[1], x2.shape[1])\n",
    "    mi,m,c = knife_estimator.eval(x1, x2)\n",
    "    return mi, m, c\n"
   ],
   "metadata": {
    "collapsed": false,
    "ExecuteTime": {
     "end_time": "2023-10-27T20:46:22.690256129Z",
     "start_time": "2023-10-27T20:46:22.687297739Z"
    }
   }
  },
  {
   "cell_type": "code",
   "execution_count": null,
   "outputs": [],
   "source": [
    "get_knife_loss(\"ecfp-count\", \"GROVER\")"
   ],
   "metadata": {
    "collapsed": false
   }
  },
  {
   "cell_type": "code",
   "execution_count": null,
   "outputs": [],
   "source": [],
   "metadata": {
    "collapsed": false
   }
  }
 ],
 "metadata": {
  "kernelspec": {
   "display_name": "Python 3",
   "language": "python",
   "name": "python3"
  },
  "language_info": {
   "codemirror_mode": {
    "name": "ipython",
    "version": 2
   },
   "file_extension": ".py",
   "mimetype": "text/x-python",
   "name": "python",
   "nbconvert_exporter": "python",
   "pygments_lexer": "ipython2",
   "version": "2.7.6"
  }
 },
 "nbformat": 4,
 "nbformat_minor": 0
}
