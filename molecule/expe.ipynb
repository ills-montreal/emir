{
 "cells": [
  {
   "cell_type": "code",
   "execution_count": 25,
   "metadata": {
    "collapsed": true,
    "ExecuteTime": {
     "end_time": "2023-10-27T20:31:59.727964722Z",
     "start_time": "2023-10-27T20:31:59.646871552Z"
    }
   },
   "outputs": [
    {
     "ename": "ModuleNotFoundError",
     "evalue": "No module named 'knife_estimator'",
     "output_type": "error",
     "traceback": [
      "\u001B[0;31m---------------------------------------------------------------------------\u001B[0m",
      "\u001B[0;31mModuleNotFoundError\u001B[0m                       Traceback (most recent call last)",
      "Cell \u001B[0;32mIn[25], line 1\u001B[0m\n\u001B[0;32m----> 1\u001B[0m \u001B[38;5;28;01mfrom\u001B[39;00m \u001B[38;5;21;01memir\u001B[39;00m\u001B[38;5;21;01m.\u001B[39;00m\u001B[38;5;21;01memir\u001B[39;00m\u001B[38;5;21;01m.\u001B[39;00m\u001B[38;5;21;01mestimators\u001B[39;00m \u001B[38;5;28;01mimport\u001B[39;00m KNIFEEstimator\n",
      "File \u001B[0;32m~/InfEmb/emir/emir/estimators/__init__.py:1\u001B[0m\n\u001B[0;32m----> 1\u001B[0m \u001B[38;5;28;01mfrom\u001B[39;00m \u001B[38;5;21;01mknife_estimator\u001B[39;00m \u001B[38;5;28;01mimport\u001B[39;00m KNIFEEstimator, KNIFEArgs\n",
      "\u001B[0;31mModuleNotFoundError\u001B[0m: No module named 'knife_estimator'"
     ]
    }
   ],
   "source": [
    "from emir.emir.estimators import KNIFEEstimator"
   ]
  },
  {
   "cell_type": "code",
   "execution_count": 12,
   "outputs": [],
   "source": [
    "import os\n",
    "\n",
    "from models.moleculenet_models import GNN, GNN_graphpred\n",
    "from data.moleculenet_encoding import mol_to_graph_data_obj_simple\n",
    "import datamol as dm\n",
    "import torch\n",
    "from torch_geometric.data import DataLoader\n",
    "import torch_geometric.nn.pool as tgp\n",
    "\n",
    "MODEL_PARAMS = {\n",
    "    \"num_layer\": 5,\n",
    "    \"emb_dim\": 300,\n",
    "    \"JK\": \"last\",\n",
    "    \"drop_ratio\": 0.5,\n",
    "    \"gnn_type\": \"gin\",\n",
    "}"
   ],
   "metadata": {
    "collapsed": false,
    "ExecuteTime": {
     "end_time": "2023-10-27T20:21:43.766656941Z",
     "start_time": "2023-10-27T20:21:43.724039346Z"
    }
   }
  },
  {
   "cell_type": "code",
   "execution_count": 13,
   "outputs": [
    {
     "name": "stderr",
     "output_type": "stream",
     "text": [
      "/home/philippe/.conda/envs/fsl/lib/python3.10/site-packages/torch_geometric/deprecation.py:22: UserWarning: 'data.DataLoader' is deprecated, use 'loader.DataLoader' instead\n",
      "  warnings.warn(out)\n"
     ]
    }
   ],
   "source": [
    "df = dm.data.freesolv()\n",
    "dataloader = DataLoader(\n",
    "    [mol_to_graph_data_obj_simple(dm.to_mol(smiles))for smiles in df[\"smiles\"]],\n",
    "    batch_size=32,\n",
    "    shuffle=False\n",
    ")"
   ],
   "metadata": {
    "collapsed": false,
    "ExecuteTime": {
     "end_time": "2023-10-27T20:21:44.923560163Z",
     "start_time": "2023-10-27T20:21:44.117708842Z"
    }
   }
  },
  {
   "cell_type": "code",
   "execution_count": 19,
   "outputs": [],
   "source": [
    "@torch.no_grad()\n",
    "def get_embeddings_from_model(\n",
    "        path:str = \"backbone_pretrained_models/GROVER/grover.pth\",\n",
    "        pooling_method = tgp.global_mean_pool\n",
    "):\n",
    "    embeddings = []\n",
    "    molecule_model = GNN(**MODEL_PARAMS)\n",
    "    molecule_model.load_state_dict(torch.load(path))\n",
    "    for b in dataloader:\n",
    "        embeddings.append(\n",
    "            pooling_method(molecule_model(b.x, b.edge_index, b.edge_attr), b.batch)\n",
    "        )\n",
    "    embeddings = torch.cat(embeddings, dim=0)\n",
    "    return embeddings"
   ],
   "metadata": {
    "collapsed": false,
    "ExecuteTime": {
     "end_time": "2023-10-27T20:22:14.945136172Z",
     "start_time": "2023-10-27T20:22:14.943267233Z"
    }
   }
  },
  {
   "cell_type": "code",
   "execution_count": 20,
   "outputs": [],
   "source": [
    "MODEL_PATH = \"backbone_pretrained_models\"\n",
    "MODELS = {}\n",
    "# For every directory in the folder\n",
    "for model_name in os.listdir(MODEL_PATH):\n",
    "    # For every file in the directory\n",
    "    for file_name in os.listdir(os.path.join(MODEL_PATH, model_name)):\n",
    "        # If the file is a .pth file\n",
    "        if file_name.endswith(\".pth\"):\n",
    "            MODELS[model_name] = os.path.join(MODEL_PATH, model_name, file_name)"
   ],
   "metadata": {
    "collapsed": false,
    "ExecuteTime": {
     "end_time": "2023-10-27T20:22:15.102045271Z",
     "start_time": "2023-10-27T20:22:15.098633421Z"
    }
   }
  },
  {
   "cell_type": "code",
   "execution_count": 21,
   "outputs": [],
   "source": [
    "embeddings = {}\n",
    "for model_name, model_path in MODELS.items():\n",
    "    embeddings[model_name] = get_embeddings_from_model(model_path)"
   ],
   "metadata": {
    "collapsed": false,
    "ExecuteTime": {
     "end_time": "2023-10-27T20:22:17.246625977Z",
     "start_time": "2023-10-27T20:22:15.241296709Z"
    }
   }
  },
  {
   "cell_type": "code",
   "execution_count": 23,
   "outputs": [],
   "source": [
    "from molfeat.trans.fp import FPVecTransformer\n",
    "from molfeat.trans import MoleculeTransformer\n",
    "threeD_method_fpvec = [\"usrcat\", \"electroshape\", \"usr\"]\n",
    "threeD_method_moleculetransf = [\"cats3d\",]\n",
    "fpvec_method = [\"ecfp-count\", \"ecfp\",  \"estate\", \"erg\", \"rdkit\", \"topological\", \"avalon\", \"maccs\"]\n",
    "moleculetransf_method = [\"scaffoldkeys\", \"cats2d\", ]\n",
    "pharmac_method = [\"cats\", \"default\", \"gobbi\", \"pmapper\"]\n",
    "\n",
    "for name in fpvec_method:\n",
    "    transformer = FPVecTransformer(kind=name, dtype=float)\n",
    "    embeddings[name] = transformer(df[\"smiles\"])"
   ],
   "metadata": {
    "collapsed": false,
    "ExecuteTime": {
     "end_time": "2023-10-27T20:31:11.953787277Z",
     "start_time": "2023-10-27T20:31:09.634361142Z"
    }
   }
  },
  {
   "cell_type": "code",
   "execution_count": 24,
   "outputs": [
    {
     "data": {
      "text/plain": "{'ContextPred': tensor([[ 0.0992, -0.0972,  0.0474,  ..., -0.0591, -0.1079, -0.0863],\n         [ 0.0373, -0.1306,  0.0129,  ..., -0.1211, -0.0520,  0.0513],\n         [ 0.0000, -0.0608, -0.0546,  ...,  0.3204,  0.1716,  0.0168],\n         ...,\n         [ 0.1591, -0.2408,  0.1733,  ..., -0.1686, -0.3030, -0.2356],\n         [-0.4808,  0.4689, -0.4982,  ...,  0.6292,  0.4905,  0.1037],\n         [ 0.1403, -0.2114,  0.1815,  ..., -0.7472, -0.1426, -0.7459]]),\n 'GPT-GNN': tensor([[ 2.8532e-03,  1.9947e-03, -1.9738e-03,  ...,  2.8086e-03,\n          -2.5471e-01, -4.1803e-03],\n         [-5.4672e-03,  3.8277e-03,  3.3451e-03,  ...,  1.9955e-04,\n           2.0333e-01, -1.4783e-03],\n         [-4.0884e-03,  5.5009e-03, -1.0612e-03,  ...,  2.1441e-04,\n           1.2011e+00, -3.7273e-03],\n         ...,\n         [-4.3468e-03, -3.5937e-03, -1.7544e-03,  ...,  6.6943e-04,\n          -1.6718e+00, -1.8010e-03],\n         [ 9.2165e-03,  5.3083e-03,  0.0000e+00,  ..., -1.7212e-03,\n           3.8953e-01, -2.2919e-04],\n         [-4.2740e-03, -9.5084e-04,  2.5872e-03,  ...,  2.7643e-03,\n          -1.0957e+00, -1.6431e-03]]),\n 'GraphMVP': tensor([[ 0.0596, -0.0511,  0.2996,  ...,  0.5149,  0.3039,  0.8331],\n         [ 0.8590, -0.0374,  1.0312,  ...,  0.0000, -0.7894,  0.1605],\n         [ 0.4463, -0.2530,  0.0000,  ..., -0.9973, -0.9049,  0.3270],\n         ...,\n         [ 0.1499, -0.0302, -0.0567,  ..., -0.0712, -0.0085, -0.4365],\n         [-0.3881,  0.1140,  0.5459,  ...,  0.5595, -0.3779, -0.0944],\n         [ 0.1587, -0.9123,  0.1195,  ..., -0.1132, -0.5185,  0.3651]]),\n 'GROVER': tensor([[ 2.5477, -0.7536,  1.7192,  ..., -1.0400, -2.1947,  1.7051],\n         [-2.0054, -1.2209,  2.7712,  ...,  1.1140,  2.4043, -0.2995],\n         [-0.4967,  1.1472,  2.1130,  ..., -5.7904, -4.1815, -7.3273],\n         ...,\n         [ 0.7949,  0.3236,  1.6447,  ..., -0.2005,  0.5625,  2.5592],\n         [-1.1328,  1.3842,  1.7369,  ..., -2.4048, -2.2457,  0.5192],\n         [ 1.1986, -1.1729,  0.3482,  ..., -0.0525,  2.7956, -0.8993]]),\n 'EdgePred': tensor([[-9.3742e-02, -2.8596e-01, -1.4634e-01,  ..., -2.6386e-01,\n          -6.8095e-01, -3.8226e-01],\n         [-3.4553e+00,  6.8216e-01, -4.1714e-01,  ..., -7.0235e-01,\n          -6.1001e-01,  8.9101e-01],\n         [ 5.4621e-02, -5.9081e-02,  1.3908e-01,  ...,  8.5807e-02,\n           2.0096e-01, -3.1341e-03],\n         ...,\n         [ 1.4857e-02, -1.4056e-01,  4.1483e-02,  ...,  6.9327e-02,\n          -5.8322e-02, -1.3341e-01],\n         [ 2.7792e-01,  3.2450e-01,  2.6937e-01,  ..., -1.2956e-01,\n          -3.9732e-01,  3.2418e-01],\n         [-4.8154e-02,  6.2002e-02, -8.8672e-02,  ...,  4.0460e-02,\n           2.0606e-01,  1.4702e-01]]),\n 'AttributeMask': tensor([[ 0.6012,  0.1521, -0.2675,  ..., -0.0347,  0.1734,  0.2018],\n         [-0.3921, -0.4845,  0.3074,  ...,  0.1562, -1.0144, -1.5314],\n         [ 0.1148,  0.2828,  0.1014,  ..., -0.0448, -0.1003, -0.1159],\n         ...,\n         [-0.0971, -0.5139,  0.2561,  ...,  0.2653, -0.1174,  0.1076],\n         [ 0.7735,  0.2352,  0.0539,  ..., -0.4746, -0.3255,  0.2682],\n         [-0.0887, -0.5242,  0.4969,  ...,  0.1063, -0.0815,  0.4630]]),\n 'GraphLog': tensor([[ 0.1089,  0.0138,  0.5291,  ...,  0.8448, -0.4161, -0.1135],\n         [-3.1792,  1.9692, -0.0119,  ...,  1.4067,  0.2847, -0.3194],\n         [-0.0668,  1.1090, -0.1218,  ..., -0.4417, -0.5006, -0.1119],\n         ...,\n         [-1.5628,  0.4430, -0.5469,  ...,  0.6068, -0.5038,  0.2713],\n         [-1.4094,  0.2528, -0.6292,  ...,  1.6011, -0.7858,  1.0483],\n         [ 0.5131, -0.2283,  0.2234,  ..., -0.7964,  0.2943, -0.9094]]),\n 'GraphCL': tensor([[-0.3475, -0.1973,  0.2061,  ...,  0.2266, -0.3637,  0.8621],\n         [ 0.0091,  1.7364, -0.6077,  ...,  3.1271, -0.5356, -0.2654],\n         [ 0.9592, -0.3840, -0.2195,  ..., -0.1987,  0.5496, -0.0556],\n         ...,\n         [-0.1289, -0.1925,  0.1812,  ..., -0.1588,  0.1302,  0.2766],\n         [ 0.3322, -0.8717, -1.0157,  ..., -0.3165,  0.3722, -0.5345],\n         [ 0.1500,  1.1448,  1.1370,  ..., -0.2609, -0.9229,  0.7845]]),\n 'InfoGraph': tensor([[ 0.0797, -0.7711, -0.6661,  ..., -1.4084, -0.5818, -0.1794],\n         [-0.0427,  0.0000, -0.4286,  ...,  0.0000, -0.2648, -0.1634],\n         [-0.0162,  1.4079, -0.3634,  ..., -3.4150,  0.1493,  0.0471],\n         ...,\n         [-0.2500,  0.3589, -0.5425,  ..., -1.3260, -0.8197, -0.2605],\n         [-0.1363,  2.8463, -0.3557,  ...,  0.0179, -0.3897, -0.2661],\n         [-0.0107, -0.6838,  0.0913,  ..., -2.0295,  0.0000, -0.0058]]),\n 'ecfp-count': array([[0., 0., 0., ..., 0., 0., 0.],\n        [0., 0., 0., ..., 0., 0., 0.],\n        [0., 0., 0., ..., 0., 0., 0.],\n        ...,\n        [0., 0., 0., ..., 0., 0., 0.],\n        [0., 0., 0., ..., 0., 0., 0.],\n        [0., 0., 0., ..., 0., 0., 0.]]),\n 'ecfp': array([[0., 0., 0., ..., 0., 0., 0.],\n        [0., 0., 0., ..., 0., 0., 0.],\n        [0., 0., 0., ..., 0., 0., 0.],\n        ...,\n        [0., 0., 0., ..., 0., 0., 0.],\n        [0., 0., 0., ..., 0., 0., 0.],\n        [0., 0., 0., ..., 0., 0., 0.]]),\n 'estate': array([[0., 0., 0., ..., 0., 0., 0.],\n        [0., 0., 0., ..., 0., 0., 0.],\n        [0., 0., 0., ..., 0., 0., 0.],\n        ...,\n        [0., 0., 0., ..., 0., 0., 0.],\n        [0., 0., 0., ..., 0., 0., 0.],\n        [0., 0., 0., ..., 0., 0., 0.]]),\n 'erg': array([[0., 0., 0., ..., 0., 0., 0.],\n        [0., 0., 0., ..., 0., 0., 0.],\n        [0., 0., 0., ..., 0., 0., 0.],\n        ...,\n        [0., 0., 0., ..., 0., 0., 0.],\n        [0., 0., 0., ..., 0., 0., 0.],\n        [0., 0., 0., ..., 0., 0., 0.]]),\n 'rdkit': array([[0., 0., 0., ..., 0., 0., 0.],\n        [0., 0., 0., ..., 0., 0., 0.],\n        [0., 0., 0., ..., 0., 0., 0.],\n        ...,\n        [0., 0., 0., ..., 0., 0., 0.],\n        [0., 0., 0., ..., 0., 0., 0.],\n        [0., 0., 0., ..., 0., 0., 0.]]),\n 'topological': array([[0., 0., 0., ..., 0., 0., 0.],\n        [0., 0., 0., ..., 0., 0., 0.],\n        [0., 0., 0., ..., 0., 0., 0.],\n        ...,\n        [0., 0., 0., ..., 0., 0., 0.],\n        [0., 0., 0., ..., 0., 0., 0.],\n        [0., 0., 0., ..., 0., 0., 0.]]),\n 'avalon': array([[0., 0., 0., ..., 0., 0., 0.],\n        [0., 0., 0., ..., 0., 0., 0.],\n        [0., 0., 0., ..., 0., 0., 0.],\n        ...,\n        [0., 0., 0., ..., 0., 1., 0.],\n        [0., 0., 0., ..., 0., 0., 0.],\n        [0., 0., 0., ..., 0., 0., 0.]]),\n 'maccs': array([[0., 0., 0., ..., 1., 1., 0.],\n        [0., 0., 0., ..., 1., 0., 0.],\n        [0., 0., 0., ..., 0., 0., 0.],\n        ...,\n        [0., 0., 0., ..., 1., 1., 0.],\n        [0., 0., 0., ..., 0., 0., 0.],\n        [0., 0., 0., ..., 1., 1., 0.]])}"
     },
     "execution_count": 24,
     "metadata": {},
     "output_type": "execute_result"
    }
   ],
   "source": [
    "embeddings"
   ],
   "metadata": {
    "collapsed": false,
    "ExecuteTime": {
     "end_time": "2023-10-27T20:31:15.720445696Z",
     "start_time": "2023-10-27T20:31:15.684114240Z"
    }
   }
  },
  {
   "cell_type": "code",
   "execution_count": null,
   "outputs": [],
   "source": [],
   "metadata": {
    "collapsed": false
   }
  }
 ],
 "metadata": {
  "kernelspec": {
   "display_name": "Python 3",
   "language": "python",
   "name": "python3"
  },
  "language_info": {
   "codemirror_mode": {
    "name": "ipython",
    "version": 2
   },
   "file_extension": ".py",
   "mimetype": "text/x-python",
   "name": "python",
   "nbconvert_exporter": "python",
   "pygments_lexer": "ipython2",
   "version": "2.7.6"
  }
 },
 "nbformat": 4,
 "nbformat_minor": 0
}
