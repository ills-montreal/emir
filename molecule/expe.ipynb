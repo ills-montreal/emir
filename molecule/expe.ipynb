{
 "cells": [
  {
   "cell_type": "code",
   "execution_count": null,
   "outputs": [],
   "source": [
    "import os\n",
    "from collections import namedtuple\n",
    "from typing import Tuple, List\n",
    "from models.moleculenet_models import GNN, GNN_graphpred\n",
    "from data.moleculenet_encoding import mol_to_graph_data_obj_simple\n",
    "import datamol as dm\n",
    "import torch\n",
    "from torch_geometric.data import DataLoader\n",
    "import torch_geometric.nn.pool as tgp\n",
    "import matplotlib.pyplot as plt\n",
    "\n",
    "from emir.estimators import KNIFEEstimator, KNIFEArgs\n",
    "\n",
    "\n",
    "MODEL_PARAMS = {\n",
    "    \"num_layer\": 5,\n",
    "    \"emb_dim\": 300,\n",
    "    \"JK\": \"last\",\n",
    "    \"drop_ratio\": 0.5,\n",
    "    \"gnn_type\": \"gin\",\n",
    "}\n",
    "df = dm.data.freesolv()\n",
    "df"
   ],
   "metadata": {
    "collapsed": false,
    "is_executing": true,
    "ExecuteTime": {
     "start_time": "2023-10-30T18:38:00.416274240Z"
    }
   }
  },
  {
   "cell_type": "code",
   "execution_count": null,
   "outputs": [],
   "source": [
    "\n",
    "dataloader = DataLoader(\n",
    "    [mol_to_graph_data_obj_simple(dm.to_mol(smiles))for smiles in df[\"smiles\"]],\n",
    "    batch_size=32,\n",
    "    shuffle=False\n",
    ")"
   ],
   "metadata": {
    "collapsed": false,
    "is_executing": true
   }
  },
  {
   "cell_type": "code",
   "execution_count": null,
   "outputs": [],
   "source": [
    "@torch.no_grad()\n",
    "def get_embeddings_from_model(\n",
    "        path:str = \"backbone_pretrained_models/GROVER/grover.pth\",\n",
    "        pooling_method = tgp.global_mean_pool\n",
    "):\n",
    "    embeddings = []\n",
    "    molecule_model = GNN(**MODEL_PARAMS)\n",
    "    molecule_model.load_state_dict(torch.load(path))\n",
    "    for b in dataloader:\n",
    "        embeddings.append(\n",
    "            pooling_method(molecule_model(b.x, b.edge_index, b.edge_attr), b.batch)\n",
    "        )\n",
    "    embeddings = torch.cat(embeddings, dim=0)\n",
    "    return embeddings"
   ],
   "metadata": {
    "collapsed": false,
    "is_executing": true
   }
  },
  {
   "cell_type": "code",
   "execution_count": null,
   "outputs": [],
   "source": [
    "MODEL_PATH = \"backbone_pretrained_models\"\n",
    "MODELS = {}\n",
    "# For every directory in the folder\n",
    "for model_name in os.listdir(MODEL_PATH):\n",
    "    # For every file in the directory\n",
    "    for file_name in os.listdir(os.path.join(MODEL_PATH, model_name)):\n",
    "        # If the file is a .pth file\n",
    "        if file_name.endswith(\".pth\"):\n",
    "            MODELS[model_name] = os.path.join(MODEL_PATH, model_name, file_name)"
   ],
   "metadata": {
    "collapsed": false,
    "is_executing": true
   }
  },
  {
   "cell_type": "code",
   "execution_count": null,
   "outputs": [],
   "source": [
    "embeddings = {}\n",
    "for model_name, model_path in MODELS.items():\n",
    "    embeddings[model_name] = get_embeddings_from_model(model_path)"
   ],
   "metadata": {
    "collapsed": false,
    "is_executing": true
   }
  },
  {
   "cell_type": "code",
   "execution_count": null,
   "outputs": [],
   "source": [
    "from molfeat.trans.fp import FPVecTransformer\n",
    "from molfeat.trans import MoleculeTransformer\n",
    "threeD_method_fpvec = [\"usrcat\", \"electroshape\", \"usr\"]\n",
    "threeD_method_moleculetransf = [\"cats3d\",]\n",
    "fpvec_method = [\"ecfp-count\", \"ecfp\",  \"estate\", \"erg\", \"rdkit\", \"topological\", \"avalon\", \"maccs\"]\n",
    "moleculetransf_method = [\"scaffoldkeys\", \"cats2d\", ]\n",
    "pharmac_method = [\"cats\", \"default\", \"gobbi\", \"pmapper\"]\n",
    "\n",
    "for name in fpvec_method:\n",
    "    transformer = FPVecTransformer(kind=name, dtype=float)\n",
    "    embeddings[name] = torch.tensor(transformer(df[\"smiles\"]))\n",
    "\n",
    "#for name in moleculetransf_method:\n",
    "#    transformer = MoleculeTransformer(featurizer=name, dtype=float)\n",
    "#    embeddings[name] = torch.tensor(transformer(df[\"smiles\"]))\n",
    "\n",
    "#for name in pharmac_method:\n",
    "#    transformer = MoleculeTransformer(featurizer=Pharmacophore2D(factory=name), dtype=float)\n",
    "#    embeddings[name] = torch.tensor(transformer(df[\"smiles\"]))\n",
    "\n"
   ],
   "metadata": {
    "collapsed": false,
    "is_executing": true
   }
  },
  {
   "cell_type": "code",
   "execution_count": null,
   "outputs": [],
   "source": [
    "embeddings"
   ],
   "metadata": {
    "collapsed": false,
    "is_executing": true
   }
  },
  {
   "cell_type": "code",
   "execution_count": null,
   "outputs": [],
   "source": [
    "Knige_config = KNIFEArgs(\n",
    "    cond_modes=16,\n",
    "    marg_modes=16,\n",
    "    lr=0.001,\n",
    "    batch_size=32,\n",
    "    device = \"cpu\",\n",
    "    n_epochs=100,\n",
    "    ff_layers=3,\n",
    ")"
   ],
   "metadata": {
    "collapsed": false,
    "is_executing": true
   }
  },
  {
   "cell_type": "code",
   "execution_count": null,
   "outputs": [],
   "source": [
    "def get_knife_preds(key1: str, key2:str) -> Tuple[float,float,float, List[float]]:\n",
    "    x1 = embeddings[key1]\n",
    "    x2 = embeddings[key2]\n",
    "    knife_estimator = KNIFEEstimator(Knige_config,x1.shape[1], x2.shape[1])\n",
    "    mi,m,c = knife_estimator.eval(x1, x2, record_loss = True)\n",
    "    return mi, m, c, knife_estimator.recorded_loss\n",
    "\n",
    "def get_knife_preds_plot_loss(key1:str, key2:str):\n",
    "    mi, m, c, recorded_loss = get_knife_preds(key1, key2)\n",
    "    plt.plot(recorded_loss)\n",
    "    plt.title(f\"{key1} vs {key2}\\nMI: {mi:.3f}, M: {m:.3f}, C: {c:.3f}\")\n",
    "    plt.ylim(0, 2000)\n",
    "    plt.show()\n"
   ],
   "metadata": {
    "collapsed": false,
    "is_executing": true
   }
  },
  {
   "cell_type": "code",
   "execution_count": null,
   "outputs": [],
   "source": [],
   "metadata": {
    "collapsed": false,
    "is_executing": true
   }
  },
  {
   "cell_type": "code",
   "execution_count": null,
   "outputs": [],
   "source": [
    "get_knife_preds_plot_loss( \"ecfp\",\"GROVER\",)\n"
   ],
   "metadata": {
    "collapsed": false,
    "is_executing": true
   }
  },
  {
   "cell_type": "code",
   "execution_count": null,
   "outputs": [],
   "source": [
    "get_knife_preds_plot_loss( \"ecfp\",\"AttributeMask\",)\n"
   ],
   "metadata": {
    "collapsed": false,
    "is_executing": true
   }
  },
  {
   "cell_type": "code",
   "execution_count": null,
   "outputs": [],
   "source": [
    "get_knife_preds_plot_loss( \"ecfp\",\"GraphMVP\",)\n"
   ],
   "metadata": {
    "collapsed": false,
    "is_executing": true
   }
  },
  {
   "cell_type": "code",
   "execution_count": null,
   "outputs": [],
   "source": [
    "get_knife_preds_plot_loss( \"topological\",\"GROVER\",)\n"
   ],
   "metadata": {
    "collapsed": false,
    "is_executing": true
   }
  },
  {
   "cell_type": "code",
   "execution_count": null,
   "outputs": [],
   "source": [
    "get_knife_preds_plot_loss( \"topological\",\"AttributeMask\",)\n"
   ],
   "metadata": {
    "collapsed": false,
    "is_executing": true
   }
  },
  {
   "cell_type": "code",
   "execution_count": null,
   "outputs": [],
   "source": [
    "get_knife_preds_plot_loss( \"topological\",\"GraphMVP\",)\n"
   ],
   "metadata": {
    "collapsed": false,
    "is_executing": true
   }
  },
  {
   "cell_type": "code",
   "execution_count": null,
   "outputs": [],
   "source": [
    "get_knife_preds_plot_loss( \"GROVER\",\"GraphMVP\",)\n"
   ],
   "metadata": {
    "collapsed": false,
    "is_executing": true
   }
  },
  {
   "cell_type": "code",
   "execution_count": null,
   "outputs": [],
   "source": [
    "get_knife_preds_plot_loss( \"AttributeMask\",\"GraphMVP\",)\n"
   ],
   "metadata": {
    "collapsed": false,
    "is_executing": true
   }
  },
  {
   "cell_type": "code",
   "execution_count": null,
   "outputs": [],
   "source": [],
   "metadata": {
    "collapsed": false,
    "is_executing": true
   }
  }
 ],
 "metadata": {
  "kernelspec": {
   "display_name": "Python 3",
   "language": "python",
   "name": "python3"
  },
  "language_info": {
   "codemirror_mode": {
    "name": "ipython",
    "version": 2
   },
   "file_extension": ".py",
   "mimetype": "text/x-python",
   "name": "python",
   "nbconvert_exporter": "python",
   "pygments_lexer": "ipython2",
   "version": "2.7.6"
  }
 },
 "nbformat": 4,
 "nbformat_minor": 0
}
