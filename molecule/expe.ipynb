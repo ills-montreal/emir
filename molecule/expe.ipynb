{
 "cells": [
  {
   "cell_type": "code",
   "execution_count": null,
   "outputs": [],
   "source": [
    "import os\n",
    "from functools import partial\n",
    "from collections import namedtuple\n",
    "from typing import Tuple, List\n",
    "\n",
    "import numpy as np\n",
    "\n",
    "import torch\n",
    "from torch_geometric.data import DataLoader\n",
    "import datamol as dm\n",
    "\n",
    "import matplotlib.pyplot as plt\n",
    "\n",
    "from emir.estimators import KNIFEEstimator, KNIFEArgs\n",
    "\n",
    "from models.moleculenet_models import GNN, GNN_graphpred\n",
    "from moleculenet_encoding import mol_to_graph_data_obj_simple\n",
    "from utils import get_embeddings_from_model, get_molfeat_descriptors,get_molfeat_transformer\n",
    "\n",
    "from tqdm import tqdm\n",
    "\n",
    "MODEL_PARAMS = {\n",
    "    \"num_layer\": 5,\n",
    "    \"emb_dim\": 300,\n",
    "    \"JK\": \"last\",\n",
    "    \"drop_ratio\": 0.5,\n",
    "    \"gnn_type\": \"gin\",\n",
    "}\n"
   ],
   "metadata": {
    "collapsed": false
   }
  },
  {
   "cell_type": "code",
   "execution_count": null,
   "outputs": [],
   "source": [
    "from tdc.utils import retrieve_label_name_list\n",
    "from tdc.single_pred import Tox\n",
    "df = Tox(name = 'hERG_Karim').get_data()\n",
    "df"
   ],
   "metadata": {
    "collapsed": false
   }
  },
  {
   "cell_type": "code",
   "execution_count": null,
   "outputs": [],
   "source": [
    "mols = None\n",
    "smiles = df[\"Drug\"].tolist()\n"
   ],
   "metadata": {
    "collapsed": false
   }
  },
  {
   "cell_type": "code",
   "execution_count": null,
   "outputs": [],
   "source": [
    "mols = [\n",
    "    dm.conformers.generate(dm.to_mol(s), align_conformers=True, n_confs=5) for s in tqdm(smiles, desc=\"Generating conformers\")\n",
    "]\n",
    "\n",
    "mols[0]"
   ],
   "metadata": {
    "collapsed": false
   }
  },
  {
   "cell_type": "code",
   "execution_count": null,
   "outputs": [],
   "source": [
    "transformer, thrD = get_molfeat_transformer(\"usr\")\n",
    "feat, valid_id = transformer(mols, ignore_errors=True)\n",
    "smiles = np.array(smiles)[valid_id]\n",
    "mols = np.array(mols)[valid_id]"
   ],
   "metadata": {
    "collapsed": false
   }
  },
  {
   "cell_type": "code",
   "execution_count": null,
   "outputs": [],
   "source": [
    "dataloader = DataLoader(\n",
    "    [mol_to_graph_data_obj_simple(dm.to_mol(s)) for s in tqdm(smiles)],\n",
    "    batch_size=32,\n",
    "    shuffle=False\n",
    ")"
   ],
   "metadata": {
    "collapsed": false
   }
  },
  {
   "cell_type": "code",
   "execution_count": null,
   "outputs": [],
   "source": [
    "MODEL_PATH = \"backbone_pretrained_models\"\n",
    "MODELS = {}\n",
    "# For every directory in the folder\n",
    "for model_name in os.listdir(MODEL_PATH):\n",
    "    # For every file in the directory\n",
    "    for file_name in os.listdir(os.path.join(MODEL_PATH, model_name)):\n",
    "        # If the file is a .pth file\n",
    "        if file_name.endswith(\".pth\"):\n",
    "            MODELS[model_name] = os.path.join(MODEL_PATH, model_name, file_name)"
   ],
   "metadata": {
    "collapsed": false
   }
  },
  {
   "cell_type": "code",
   "execution_count": null,
   "outputs": [],
   "source": [
    "descriptors = [\"ecfp\", \"rdkit\", \"topological\", \"scaffoldkeys\",]\n",
    "\n",
    "embeddings_fn = {}\n",
    "for model_name, model_path in MODELS.items():\n",
    "    embeddings_fn[model_name] = partial(\n",
    "        get_embeddings_from_model,\n",
    "        path=model_path\n",
    "    )\n",
    "for method in descriptors:\n",
    "    embeddings_fn[method] = partial(\n",
    "        get_molfeat_descriptors,\n",
    "        transformer_names=[method]\n",
    "    )"
   ],
   "metadata": {
    "collapsed": false
   }
  },
  {
   "cell_type": "code",
   "execution_count": null,
   "outputs": [],
   "source": [],
   "metadata": {
    "collapsed": false
   }
  },
  {
   "cell_type": "code",
   "execution_count": null,
   "outputs": [],
   "source": [
    "Knige_config = KNIFEArgs(\n",
    "    cond_modes=3,\n",
    "    marg_modes=3,\n",
    "    lr=0.01,\n",
    "    batch_size=128,\n",
    "    device = \"cpu\",\n",
    "    n_epochs=30,\n",
    "    ff_layers=2,\n",
    "    cov_diagonal = \"var\",\n",
    "    cov_off_diagonal=\"\"\n",
    ")"
   ],
   "metadata": {
    "collapsed": false
   }
  },
  {
   "cell_type": "code",
   "execution_count": null,
   "outputs": [],
   "source": [
    "def get_knife_preds(key1: str, key2:str) -> Tuple[float,float,float, List[float]]:\n",
    "    if key1 in MODELS.keys():\n",
    "         x1 = embeddings_fn[key1](dataloader)\n",
    "    else:\n",
    "        x1 = embeddings_fn[key1](smiles, mols = mols)[0]\n",
    "    if key2 in MODELS.keys():\n",
    "        x2 = embeddings_fn[key2](dataloader)\n",
    "    else:\n",
    "        x2 = embeddings_fn[key2](smiles, mols = mols)[0]\n",
    "    print(x1.shape[1], x2.shape[1])\n",
    "    knife_estimator = KNIFEEstimator(Knige_config,x1.shape[1], x2.shape[1])\n",
    "    mi,m,c = knife_estimator.eval(x1.float(), x2.float(), record_loss = True)\n",
    "    return mi, m, c, knife_estimator.recorded_loss\n",
    "\n",
    "def get_knife_preds_plot_loss(key1:str, key2:str):\n",
    "    mi, m, c, recorded_loss = get_knife_preds(key1, key2)\n",
    "    plt.plot(recorded_loss)\n",
    "    plt.title(f\"{key1} vs {key2}\\nMI: {mi:.3f}, M: {m:.3f}, C: {c:.3f}\")\n",
    "    plt.show()\n"
   ],
   "metadata": {
    "collapsed": false
   }
  },
  {
   "cell_type": "code",
   "execution_count": null,
   "outputs": [],
   "source": [
    "get_knife_preds_plot_loss(\"GROVER\",\"ecfp\",)"
   ],
   "metadata": {
    "collapsed": false
   }
  },
  {
   "cell_type": "code",
   "execution_count": null,
   "outputs": [],
   "source": [
    "get_knife_preds_plot_loss(\"ecfp\",\"GROVER\",)"
   ],
   "metadata": {
    "collapsed": false
   }
  },
  {
   "cell_type": "code",
   "execution_count": null,
   "outputs": [],
   "source": [
    "get_knife_preds_plot_loss(\"scaffoldkeys\",\"GROVER\",)"
   ],
   "metadata": {
    "collapsed": false
   }
  },
  {
   "cell_type": "code",
   "execution_count": null,
   "outputs": [],
   "source": [],
   "metadata": {
    "collapsed": false
   }
  },
  {
   "cell_type": "code",
   "execution_count": null,
   "outputs": [],
   "source": [
    "from itertools import product\n",
    "import pandas as pd\n",
    "\n",
    "def model_profile(model_name):\n",
    "    results = {\n",
    "        \"desc1\": [],\n",
    "        \"desc2\": [],\n",
    "        \"mi\": [],\n",
    "    }\n",
    "    for desc in descriptors:\n",
    "        mi ,_,_,_ = get_knife_preds(model_name, desc)\n",
    "        print(f\"{model_name} vs {desc}: {mi:.3f}\")\n",
    "        results[\"desc1\"].append(model_name)\n",
    "        results[\"desc2\"].append(desc)\n",
    "        results[\"mi\"].append(mi)\n",
    "    return pd.DataFrame(results)"
   ],
   "metadata": {
    "collapsed": false
   }
  },
  {
   "cell_type": "code",
   "execution_count": null,
   "outputs": [],
   "source": [
    "MODELS.keys()"
   ],
   "metadata": {
    "collapsed": false
   }
  },
  {
   "cell_type": "code",
   "execution_count": null,
   "outputs": [],
   "source": [
    "results_GROVER = model_profile(\"GROVER\")"
   ],
   "metadata": {
    "collapsed": false
   }
  },
  {
   "cell_type": "code",
   "execution_count": null,
   "outputs": [],
   "source": [
    "results_GRAPHMVP = model_profile(\"GraphMVP\")"
   ],
   "metadata": {
    "collapsed": false
   }
  },
  {
   "cell_type": "code",
   "execution_count": null,
   "outputs": [],
   "source": [
    "results_attm = model_profile(\"AttributeMask\")"
   ],
   "metadata": {
    "collapsed": false
   }
  },
  {
   "cell_type": "code",
   "execution_count": null,
   "outputs": [],
   "source": [
    "full_df = pd.concat([results_GRAPHMVP, results_attm,])"
   ],
   "metadata": {
    "collapsed": false
   }
  },
  {
   "cell_type": "code",
   "execution_count": null,
   "outputs": [],
   "source": [
    "import seaborn as sns"
   ],
   "metadata": {
    "collapsed": false
   }
  },
  {
   "cell_type": "code",
   "execution_count": null,
   "outputs": [],
   "source": [
    "sns.barplot(data=full_df, x=\"desc2\", y=\"mi\", hue=\"desc1\")"
   ],
   "metadata": {
    "collapsed": false
   }
  },
  {
   "cell_type": "code",
   "execution_count": null,
   "outputs": [],
   "source": [],
   "metadata": {
    "collapsed": false
   }
  }
 ],
 "metadata": {
  "kernelspec": {
   "display_name": "Python 3",
   "language": "python",
   "name": "python3"
  },
  "language_info": {
   "codemirror_mode": {
    "name": "ipython",
    "version": 2
   },
   "file_extension": ".py",
   "mimetype": "text/x-python",
   "name": "python",
   "nbconvert_exporter": "python",
   "pygments_lexer": "ipython2",
   "version": "2.7.6"
  }
 },
 "nbformat": 4,
 "nbformat_minor": 0
}
