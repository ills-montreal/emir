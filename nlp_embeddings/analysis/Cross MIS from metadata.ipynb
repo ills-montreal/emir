{
 "cells": [
  {
   "cell_type": "code",
   "execution_count": null,
   "id": "initial_id",
   "metadata": {
    "collapsed": true
   },
   "outputs": [],
   "source": [
    "import pandas as pd\n",
    "import numpy as np\n",
    "import matplotlib.pyplot as plt\n",
    "import seaborn as sns\n",
    "\n",
    "import networkx as nx"
   ]
  },
  {
   "cell_type": "code",
   "outputs": [],
   "source": [
    "df = pd.read_csv('exported_data/normalized_3.df')"
   ],
   "metadata": {
    "collapsed": false
   },
   "id": "f201064ec4dbb62c",
   "execution_count": null
  },
  {
   "cell_type": "code",
   "outputs": [],
   "source": [
    "df.head()"
   ],
   "metadata": {
    "collapsed": false
   },
   "id": "a866f2d5ec29253d",
   "execution_count": null
  },
  {
   "cell_type": "code",
   "outputs": [],
   "source": [
    "df['I(X_1->X_2)/H(X_2)'] = df['I(X_1->X_2)'] / df['H(X_2)']\n",
    "df['I(X_1->X_2)/d_1'] = df['I(X_1->X_2)'] / df['d_1']\n",
    "df['I(X_1->X_2)/d_2'] = df['I(X_1->X_2)'] / df['d_2']\n",
    "\n",
    "df['model_1'] = df['model_1'].apply(lambda x: \"/\".join(x.split('/')[-2:]))\n",
    "df['model_2'] = df['model_2'].apply(lambda x: \"/\".join(x.split('/')[-2:]))\n",
    "\n",
    "\n"
   ],
   "metadata": {
    "collapsed": false
   },
   "id": "5acdcf4072e53d0",
   "execution_count": null
  },
  {
   "cell_type": "code",
   "outputs": [],
   "source": [
    "df = df.groupby(['model_1', 'model_2']).first().reset_index()"
   ],
   "metadata": {
    "collapsed": false
   },
   "id": "10014d147c13ebea",
   "execution_count": null
  },
  {
   "cell_type": "code",
   "outputs": [],
   "source": [
    "\n",
    "df = df[~(df['model_1'] == \"jinaai/jina-embedding-s-en-v1\")]\n",
    "df = df[~(df['model_2'] == \"jinaai/jina-embedding-s-en-v1\")]"
   ],
   "metadata": {
    "collapsed": false
   },
   "id": "fb19898f47dc657e",
   "execution_count": null
  },
  {
   "cell_type": "code",
   "outputs": [],
   "source": [
    "sns.set_style(\"whitegrid\")\n",
    "metric = 'I(X_1->X_2)/d_2'\n",
    "from matplotlib import patheffects\n",
    "\n",
    "cmap =sns.color_palette(\"coolwarm\", as_cmap=True)\n",
    "\n",
    "\n",
    "table = df\n",
    "table = table[[\"model_1\", \"model_2\", metric]].pivot(\"model_1\", \"model_2\",metric).fillna(-0.0)\n",
    "\n",
    "display(table)\n",
    "# remove lines and columns containing xsum in index and columns\n",
    "\n",
    "# compute 1/x for each value\n",
    "\n",
    "G= nx.from_pandas_adjacency(table, create_using=nx.DiGraph)\n",
    "G.remove_edges_from(nx.selfloop_edges(G))\n",
    "\n",
    "\n",
    "\n",
    "\n",
    "avg_weight = {n : np.mean([d[2]['weight'] for d in G.out_edges(n, data=True)]) for n in G.nodes()}\n",
    "avg_income = {n : np.mean([d[2]['weight'] for d in G.in_edges(n, data=True)]) for n in G.nodes()}\n",
    "# remove edge with weighht <= 50\n",
    "# for edge in list(G.edges(data=True)):\n",
    "#     if edge[2]['weight'] >= 1/55:\n",
    "#         G.remove_edge(edge[0], edge[1])\n",
    "\n",
    "\n",
    "layout = nx.spring_layout(G, k=0.1, iterations=100)\n",
    "fig, ax = plt.subplots(figsize=(30, 30))\n",
    "\n",
    "def make_border_color(strength, cmap, vmin, vmax):\n",
    "    return cmap((strength - vmin) / (vmax - vmin))\n",
    "    \n",
    "\n",
    "# draw nodes with border color based on avg_income\n",
    "nx.draw_networkx_nodes(G, layout, node_size=1000, node_color=list(avg_weight.values()), cmap=cmap, vmin=min(avg_weight.values()), vmax=max(avg_weight.values()), ax=ax, linewidths=4, edgecolors=[make_border_color(avg_income[n], cmap, min(avg_income.values()), max(avg_income.values())) for n in G.nodes()])\n",
    "\n",
    "\n",
    "nx.draw_networkx_edges(G, layout, width=2, alpha=0.6, edge_color=[d[2]['weight'] for d in G.edges(data=True)], edge_cmap=cmap, edge_vmin=min(avg_weight.values()), edge_vmax=max(avg_weight.values()), ax=ax, arrowsize=30, arrowstyle='-|>', connectionstyle='arc3, rad = 0.4', min_source_margin=20, min_target_margin=20)\n",
    "\n",
    "nx.draw_networkx_labels(G, layout, font_size=14, font_color='black', font_weight='bold', ax=ax)\n",
    "\n",
    "\n",
    "\n",
    "\n",
    "# add cmap legend\n",
    "sm = plt.cm.ScalarMappable(cmap=cmap, norm=plt.Normalize(vmin=min(avg_weight.values()), vmax=max(avg_weight.values())))\n",
    "sm._A = []\n",
    "plt.colorbar(sm, ax=plt.gca())\n",
    "\n",
    "\n",
    "# add white contour to all texts in the figure\n",
    "for text in plt.gca().texts:\n",
    "    text.set_path_effects([patheffects.Stroke(linewidth=4, foreground='white'), patheffects.Normal()])\n",
    "    \n",
    "plt.tight_layout()\n",
    "axis = plt.gca()\n",
    "axis.set_xlim([1.2*x for x in axis.get_xlim()])\n",
    "axis.set_ylim([1.2*y for y in axis.get_ylim()])\n",
    "plt.tight_layout()"
   ],
   "metadata": {
    "collapsed": false
   },
   "id": "c804d779e31333d5",
   "execution_count": null
  },
  {
   "cell_type": "code",
   "outputs": [],
   "source": [
    "\n"
   ],
   "metadata": {
    "collapsed": false
   },
   "id": "2f86f33a56ca09c3",
   "execution_count": null
  },
  {
   "cell_type": "code",
   "outputs": [],
   "source": [
    "\n",
    "sns.clustermap(table, cmap='viridis', annot=True, fmt=\".2f\", figsize=(20, 20), vmax=1)\n"
   ],
   "metadata": {
    "collapsed": false
   },
   "id": "f31c08b12366ba15",
   "execution_count": null
  },
  {
   "cell_type": "code",
   "outputs": [],
   "source": [
    "from scipy.cluster.hierarchy import linkage\n",
    "link = linkage(table, method=\"ward\")\n",
    "cluster = sns.clustermap(table, row_linkage=link, col_linkage=link, figsize=(20, 20), cmap='viridis', annot=True, fmt=\".2f\", vmax=1)"
   ],
   "metadata": {
    "collapsed": false
   },
   "id": "e9de21d7d8151fe0",
   "execution_count": null
  },
  {
   "cell_type": "code",
   "outputs": [],
   "source": [
    ",# Community detection\n",
    "\n",
    "from networkx.algorithms.community import greedy_modularity_communities\n",
    "\n",
    "communities = list(greedy_modularity_communities(G))\n",
    "\n",
    "\n",
    "    \n",
    "    \n"
   ],
   "metadata": {
    "collapsed": false
   },
   "id": "af9abd03a454273e",
   "execution_count": null
  },
  {
   "cell_type": "code",
   "outputs": [],
   "source": [
    "# find communities\n",
    "\n",
    "\n",
    "\n",
    "\n"
   ],
   "metadata": {
    "collapsed": false
   },
   "id": "6b72ab68521c09da",
   "execution_count": null
  },
  {
   "cell_type": "code",
   "outputs": [],
   "source": [
    "from netgraph import Graph, InteractiveGraph\n",
    "\n",
    "from networkx.algorithms.community import girvan_newman, modularity_max, louvain_communities\n",
    "\n",
    "communities = louvain_communities(G, resolution=1.1)\n",
    "communities = list(communities)\n",
    "# get a discrete color map\n",
    "\n",
    "cmap = sns.color_palette(\"coolwarm\", as_cmap=True)\n",
    "\n",
    "\n",
    "G= nx.from_pandas_adjacency(table, create_using=nx.DiGraph)\n",
    "G.remove_edges_from(nx.selfloop_edges(G))\n",
    "\n",
    "avg_weight = {n : np.median([d[2]['weight'] for d in G.out_edges(n, data=True)]) for n in G.nodes()}\n",
    "avg_income = {n : np.median([d[2]['weight'] for d in G.in_edges(n, data=True)]) for n in G.nodes()}\n",
    "\n",
    "\n",
    "node_to_community = {node: i for i, community in enumerate(communities) for node in community}\n",
    "\n",
    "# node color using a color map\n",
    "# node_color = {node: cmap(i) for i, community in enumerate(communities) for node in community}\n",
    "\n",
    "# make average out going weight the node color\n",
    "node_color = {node: cmap(avg_weight[node]) for node in G.nodes()}\n",
    "node_edge_color = {node: cmap(avg_income[node]) for node in G.nodes()}\n",
    "\n",
    "\n",
    "node_labels = {node: node for node in G.nodes()}\n",
    "\n",
    "edge_color = {edge: cmap(G.edges[edge]['weight']) for edge in G.edges()}\n",
    "\n",
    "# normalize edge alpha\n",
    "min_alpha = 0.1\n",
    "max_alpha = 0.9\n",
    "edge_alpha = {edge: G.edges[edge]['weight'] for edge in G.edges()}\n",
    "edge_alpha = {edge: (edge_alpha[edge] - min(edge_alpha.values())) / (max(edge_alpha.values()) - min(edge_alpha.values())) * (max_alpha - min_alpha) + min_alpha for edge in edge_alpha}\n",
    "\n",
    "# edge width\n",
    "min_edge_width = 0.3\n",
    "max_edge_width = 1\n",
    "edge_width = {edge: G.edges[edge]['weight'] for edge in G.edges()}\n",
    "edge_width = {edge: (edge_width[edge] - min(edge_width.values())) / (max(edge_width.values()) - min(edge_width.values())) * (max_edge_width - min_edge_width) + min_edge_width for edge in edge_width}\n",
    "\n",
    "\n",
    "\n",
    "fig, ax = plt.subplots(figsize=(20, 20))\n",
    "\n",
    "graph = Graph(G, node_layout_kwargs=dict(node_to_community=node_to_community), node_layout=\"community\", node_color=node_color, node_labels=node_labels, edge_color=edge_color, ax=ax, node_label_fontdict={'fontsize': 15, 'fontweight': 'bold'}, node_edge_color=node_edge_color, edge_layout=\"curved\", edge_alpha=edge_alpha, arrows=True)\n",
    "\n",
    "\n",
    "# add white contour to all texts in the figure\n",
    "for text in plt.gca().texts:\n",
    "    text.set_path_effects([patheffects.Stroke(linewidth=4, foreground='white'), patheffects.Normal()])\n",
    "\n",
    "\n",
    "\n",
    "\n"
   ],
   "metadata": {
    "collapsed": false
   },
   "id": "aac793fb93d5417",
   "execution_count": null
  },
  {
   "cell_type": "code",
   "outputs": [],
   "source": [],
   "metadata": {
    "collapsed": false
   },
   "id": "fb78a4848e291c64"
  }
 ],
 "metadata": {
  "kernelspec": {
   "display_name": "Python 3",
   "language": "python",
   "name": "python3"
  },
  "language_info": {
   "codemirror_mode": {
    "name": "ipython",
    "version": 2
   },
   "file_extension": ".py",
   "mimetype": "text/x-python",
   "name": "python",
   "nbconvert_exporter": "python",
   "pygments_lexer": "ipython2",
   "version": "2.7.6"
  }
 },
 "nbformat": 4,
 "nbformat_minor": 5
}
