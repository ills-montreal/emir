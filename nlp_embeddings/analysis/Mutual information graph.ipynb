{
 "cells": [
  {
   "cell_type": "code",
   "execution_count": null,
   "id": "initial_id",
   "metadata": {
    "collapsed": true
   },
   "outputs": [],
   "source": [
    "\n",
    "import pandas as pd\n",
    "import numpy as np\n",
    "import matplotlib.pyplot as plt\n",
    "import seaborn as sns\n",
    "\n",
    "from pathlib import Path\n",
    "import networkx as nx\n",
    "\n",
    "from netgraph import Graph, InteractiveGraph\n",
    "\n",
    "from networkx.algorithms.community import girvan_newman, modularity_max, louvain_communities\n",
    "\n",
    "from visu_utils import *\n"
   ]
  },
  {
   "cell_type": "code",
   "outputs": [],
   "source": [
    "%load_ext autoreload\n",
    "%autoreload 2"
   ],
   "metadata": {
    "collapsed": false
   },
   "id": "39c7892d0dc86578",
   "execution_count": null
  },
  {
   "cell_type": "code",
   "outputs": [],
   "source": [
    "\n",
    "PREFIX = \"mteb_ds\"\n",
    "df = pd.read_csv('exported_data/normalized_13.df')\n",
    "\n",
    "# white grid\n",
    "sns.set_style(\"whitegrid\")\n"
   ],
   "metadata": {
    "collapsed": false
   },
   "id": "9cb501fd8b11c98c",
   "execution_count": null
  },
  {
   "cell_type": "code",
   "outputs": [],
   "source": [
    "# MODELS_MAIN_EXPES"
   ],
   "metadata": {
    "collapsed": false
   },
   "id": "a0d8c53735e0b8a1",
   "execution_count": null
  },
  {
   "cell_type": "code",
   "outputs": [],
   "source": [],
   "metadata": {
    "collapsed": false
   },
   "id": "8cc557169355e188",
   "execution_count": null
  },
  {
   "cell_type": "code",
   "outputs": [],
   "source": [
    "\n",
    "\n",
    "df = text_embeddings_metadata_results_preprocessing(df, short_names=True, models=ALL_BUT_RANDOM)"
   ],
   "metadata": {
    "collapsed": false
   },
   "id": "f53f58eeb7fef331",
   "execution_count": null
  },
  {
   "cell_type": "code",
   "outputs": [],
   "source": [
    "\n"
   ],
   "metadata": {
    "collapsed": false
   },
   "id": "af221ef49dba06e4",
   "execution_count": null
  },
  {
   "cell_type": "code",
   "outputs": [],
   "source": [
    "METRIC = \"I(X_1->X_2)/d_2\"\n",
    "table = make_table_pivot(metric=METRIC, df=df)\n"
   ],
   "metadata": {
    "collapsed": false
   },
   "id": "38b486cd98cf77de",
   "execution_count": null
  },
  {
   "cell_type": "code",
   "outputs": [],
   "source": [
    "# Filter \n"
   ],
   "metadata": {
    "collapsed": false
   },
   "id": "221c50e89a0693ba",
   "execution_count": null
  },
  {
   "cell_type": "code",
   "outputs": [],
   "source": [
    "\n",
    "\n",
    "edge_ratio = 0.3\n",
    "\n",
    "G = nx.from_pandas_adjacency(table, create_using=nx.DiGraph)\n",
    "G.remove_edges_from(nx.selfloop_edges(G))\n",
    "\n",
    "communities = louvain_communities(G, resolution=1.1)\n",
    "communities = list(communities)\n",
    "\n",
    "cmap = sns.color_palette(\"coolwarm\", as_cmap=True)\n",
    "\n",
    "avg_weight = {n: np.median([d[2]['weight'] for d in G.out_edges(n, data=True)]) for n in G.nodes()}\n",
    "avg_income = {n: np.median([d[2]['weight'] for d in G.in_edges(n, data=True)]) for n in G.nodes()}\n",
    "\n",
    "node_to_community = {node: i for i, community in enumerate(communities) for node in community}\n",
    "\n",
    "node_color = {node: avg_weight[node] for node in G.nodes()}\n",
    "node_color = {\n",
    "    node: (node_color[node] - min(node_color.values())) / (max(node_color.values()) - min(node_color.values())) for node\n",
    "    in node_color}\n",
    "node_color = {node: cmap(node_color[node]) for node in G.nodes()}\n",
    "\n",
    "node_edge_color = {node: avg_income[node] for node in G.nodes()}\n",
    "node_edge_color = {node: (node_edge_color[node] - min(node_edge_color.values())) / (\n",
    "            max(node_edge_color.values()) - min(node_edge_color.values())) for node in node_edge_color}\n",
    "node_edge_color = {node: cmap(node_edge_color[node]) for node in G.nodes()}\n",
    "\n",
    "# For each node only keep the top incoming edges\n",
    "# for node in G.nodes():\n",
    "#     in_edges = sorted(G.in_edges(node, data=True), key=lambda x: x[2]['weight'], reverse=True)\n",
    "#     for edge in in_edges[int(len(in_edges) * edge_ratio):]:\n",
    "#         G.remove_edge(*edge[:2])\n",
    "\n",
    "\n",
    "\n",
    "\n",
    "def shorten_more(text):\n",
    "    if len(text) > 20:\n",
    "        if len(text.split('_')) > 1:\n",
    "            text = \"_\".join(text.split('_')[:2])\n",
    "        elif len(text.split('/')) > 1:\n",
    "            text = \"/\".join(text.split('/')[:2])\n",
    "        elif len(text.split('-')) > 1:\n",
    "            text = \"-\".join(text.split('-')[:2])\n",
    "            \n",
    "    return text\n",
    "\n",
    "\n",
    "\n",
    "edge_color = {edge: G.edges[edge]['weight'] for edge in G.edges()}\n",
    "# normalize edge \n",
    "# edge_color = {edge: (edge_color[edge] - min(edge_color.values())) / (max(edge_color.values()) - min(edge_color.values())) for edge in edge_color}\n",
    "edge_color = {edge: cmap(edge_color[edge]) for edge in edge_color}\n",
    "max_edge = max(e[2]['weight'] for e in G.edges(data=True))\n",
    "\n",
    "# normalize edge alpha\n",
    "min_alpha = 0.1\n",
    "max_alpha = 0.3\n",
    "edge_alpha = {edge: G.edges[edge]['weight'] for edge in G.edges()}\n",
    "edge_alpha = {\n",
    "    edge: (edge_alpha[edge] - min(edge_alpha.values())) / (max(edge_alpha.values()) - min(edge_alpha.values())) * (\n",
    "                max_alpha - min_alpha) + min_alpha for edge in edge_alpha}\n",
    "\n",
    "# edge width\n",
    "min_edge_width = 0.05\n",
    "max_edge_width = 0.5\n",
    "edge_width = {edge: G.edges[edge]['weight'] for edge in G.edges()}\n",
    "edge_width = {\n",
    "    edge: (edge_width[edge] - min(edge_width.values())) / (max(edge_width.values()) - min(edge_width.values())) * (\n",
    "                max_edge_width - min_edge_width) + min_edge_width for edge in edge_width}\n",
    "\n",
    "fig, ax = plt.subplots(figsize=(20, 20))\n",
    "\n",
    "node_labels = {node : shorten_more(str(node)) for node in G.nodes()}\n",
    "graph = Graph(G, node_layout_kwargs=dict(node_to_community=node_to_community, pad_by=0.1), node_layout=\"community\",\n",
    "              node_color=node_color, node_labels=node_labels, edge_color=edge_color, ax=ax,\n",
    "              node_label_fontdict={'fontsize': 32, 'fontweight': 'bold'}, node_edge_color=node_edge_color,\n",
    "              edge_layout=\"straight\", edge_alpha=edge_alpha, arrows=True, scale=(1.3, 1.4))\n",
    "\n",
    "# add white contour to all texts in the figure\n",
    "for text in plt.gca().texts:\n",
    "    text.set_path_effects([patheffects.Stroke(linewidth=4, foreground='white'), patheffects.Normal()])\n",
    "\n",
    "# add color bar\n",
    "sm = plt.cm.ScalarMappable(cmap=cmap, norm=plt.Normalize(vmin=0, vmax=max_edge))\n",
    "sm._A = []\n",
    "# cbar = plt.colorbar(sm, ax=ax, orientation='horizontal', shrink=0.5, pad=0.05)\n",
    "\n",
    "path = Path(\n",
    "    f\"../../../papers/emir-embedding-comparison/fig/nlp/{PREFIX}_mis_graph_community_{sanitize_metric_name(METRIC)}.pdf\")\n",
    "# make sure the folder exists\n",
    "path.parent.mkdir(parents=True, exist_ok=True)\n",
    "fig.tight_layout()\n",
    "fig.savefig(path, bbox_inches='tight', dpi=300)\n"
   ],
   "metadata": {
    "collapsed": false
   },
   "id": "bf68e60a0e3275d0",
   "execution_count": null
  },
  {
   "cell_type": "code",
   "outputs": [],
   "source": [],
   "metadata": {
    "collapsed": false
   },
   "id": "23f60c161c41c83e",
   "execution_count": null
  },
  {
   "cell_type": "markdown",
   "source": [
    "# Make heatmap of the adjacency matrix"
   ],
   "metadata": {
    "collapsed": false
   },
   "id": "94ea8e40d4da1c9e"
  },
  {
   "cell_type": "code",
   "outputs": [],
   "source": [
    "\n",
    "from scipy.cluster.hierarchy import linkage\n",
    "\n",
    "link = linkage(table, method=\"ward\")\n",
    "\n",
    "cluster = sns.clustermap(table, row_linkage=link, col_linkage=link, figsize=(12, 12), cmap='coolwarm', annot=False,\n",
    "                         fmt=\".1f\", vmax=1, )\n",
    "cluster.ax_row_dendrogram.set_visible(False)\n",
    "cluster.ax_col_dendrogram.set_visible(False)\n",
    "cluster.cax.set_visible(False)\n",
    "# make labels bigger and bold and rename in model X and model Y\n",
    "cluster.ax_heatmap.set_xticklabels(cluster.ax_heatmap.get_xticklabels(), fontsize=15, fontweight='bold')\n",
    "cluster.ax_heatmap.set_yticklabels(cluster.ax_heatmap.get_yticklabels(), fontsize=15, fontweight='bold')\n",
    "cluster.ax_heatmap.set_xlabel(\"Model Y\", fontsize=20, fontweight='bold')\n",
    "cluster.ax_heatmap.set_ylabel(\"Model X\", fontsize=20, fontweight='bold')\n",
    "\n",
    "# Replace x ticks with M1, M2, ...\n",
    "yticks = cluster.ax_heatmap.get_yticklabels()\n",
    "yticks = [f\"M{i}\" for i in range(1, len(yticks) + 1)]\n",
    "cluster.ax_heatmap.set_xticklabels(yticks)\n",
    "cluster.ax_heatmap.set_yticklabels(yticks)\n",
    "\n",
    "path = Path(\n",
    "    f\"../../../papers/emir-embedding-comparison/fig/nlp/{PREFIX}_mis_graph_clustermap_{sanitize_metric_name(METRIC)}.pdf\")\n",
    "path.parent.mkdir(parents=True, exist_ok=True)\n",
    "cluster.savefig(path, bbox_inches='tight', dpi=300)\n"
   ],
   "metadata": {
    "collapsed": false
   },
   "id": "1a22937e09340d42",
   "execution_count": null
  },
  {
   "cell_type": "code",
   "outputs": [],
   "source": [],
   "metadata": {
    "collapsed": false
   },
   "id": "66c26749096a6294",
   "execution_count": null
  }
 ],
 "metadata": {
  "kernelspec": {
   "display_name": "Python 3",
   "language": "python",
   "name": "python3"
  },
  "language_info": {
   "codemirror_mode": {
    "name": "ipython",
    "version": 2
   },
   "file_extension": ".py",
   "mimetype": "text/x-python",
   "name": "python",
   "nbconvert_exporter": "python",
   "pygments_lexer": "ipython2",
   "version": "2.7.6"
  }
 },
 "nbformat": 4,
 "nbformat_minor": 5
}
