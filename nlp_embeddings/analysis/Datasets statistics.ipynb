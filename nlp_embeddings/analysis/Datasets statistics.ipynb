{
 "cells": [
  {
   "cell_type": "code",
   "execution_count": 14,
   "id": "initial_id",
   "metadata": {
    "collapsed": true,
    "ExecuteTime": {
     "end_time": "2024-04-23T20:46:37.028814599Z",
     "start_time": "2024-04-23T20:46:36.994733084Z"
    }
   },
   "outputs": [],
   "source": [
    "import pandas as pd\n",
    "from pathlib import Path\n"
   ]
  },
  {
   "cell_type": "code",
   "outputs": [
    {
     "data": {
      "text/plain": "                 Dataset       Split    Size\n0                   sst2        test    1821\n1        amazon_polarity        test  100000\n2              paws-x;en  validation    2000\n3                   sst2  validation     872\n4     tweet_eval;emotion       train    3257\n5       tweet_eval;emoji       train   45000\n6              banking77        test    3080\n7   tweet_eval;sentiment       train   45615\n8   tweet_eval;sentiment        test   12284\n9                ag_news        test    7600\n10             sts13-sts        test    2638\n11                  snli        test   13132\n12    tweet_eval;emotion        test    1421\n13               ag_news       train  120000\n14             sts12-sts        test    4946\n15             sts14-sts        test    6351\n16  tweet_eval;sentiment  validation    2000\n17    tweet_eval;emotion  validation     374\n18      tweet_eval;emoji  validation    5000\n19       rotten_tomatoes  validation    1066\n20             paws-x;en       train   49401\n21      tweet_eval;emoji        test   50000\n22      stsbenchmark-sts        test    2552\n23       rotten_tomatoes       train    8530\n24      stsbenchmark-sts  validation    2910\n25           biosses-sts        test     182\n26       rotten_tomatoes        test    1066\n27             sts15-sts        test    5170\n28             sickr-sts        test    6077\n29                  snli  validation   13134\n30             paws-x;en        test    2000\n31                  sst2       train   67349\n32       wiki-paragraphs  validation  100000",
      "text/html": "<div>\n<style scoped>\n    .dataframe tbody tr th:only-of-type {\n        vertical-align: middle;\n    }\n\n    .dataframe tbody tr th {\n        vertical-align: top;\n    }\n\n    .dataframe thead th {\n        text-align: right;\n    }\n</style>\n<table border=\"1\" class=\"dataframe\">\n  <thead>\n    <tr style=\"text-align: right;\">\n      <th></th>\n      <th>Dataset</th>\n      <th>Split</th>\n      <th>Size</th>\n    </tr>\n  </thead>\n  <tbody>\n    <tr>\n      <th>0</th>\n      <td>sst2</td>\n      <td>test</td>\n      <td>1821</td>\n    </tr>\n    <tr>\n      <th>1</th>\n      <td>amazon_polarity</td>\n      <td>test</td>\n      <td>100000</td>\n    </tr>\n    <tr>\n      <th>2</th>\n      <td>paws-x;en</td>\n      <td>validation</td>\n      <td>2000</td>\n    </tr>\n    <tr>\n      <th>3</th>\n      <td>sst2</td>\n      <td>validation</td>\n      <td>872</td>\n    </tr>\n    <tr>\n      <th>4</th>\n      <td>tweet_eval;emotion</td>\n      <td>train</td>\n      <td>3257</td>\n    </tr>\n    <tr>\n      <th>5</th>\n      <td>tweet_eval;emoji</td>\n      <td>train</td>\n      <td>45000</td>\n    </tr>\n    <tr>\n      <th>6</th>\n      <td>banking77</td>\n      <td>test</td>\n      <td>3080</td>\n    </tr>\n    <tr>\n      <th>7</th>\n      <td>tweet_eval;sentiment</td>\n      <td>train</td>\n      <td>45615</td>\n    </tr>\n    <tr>\n      <th>8</th>\n      <td>tweet_eval;sentiment</td>\n      <td>test</td>\n      <td>12284</td>\n    </tr>\n    <tr>\n      <th>9</th>\n      <td>ag_news</td>\n      <td>test</td>\n      <td>7600</td>\n    </tr>\n    <tr>\n      <th>10</th>\n      <td>sts13-sts</td>\n      <td>test</td>\n      <td>2638</td>\n    </tr>\n    <tr>\n      <th>11</th>\n      <td>snli</td>\n      <td>test</td>\n      <td>13132</td>\n    </tr>\n    <tr>\n      <th>12</th>\n      <td>tweet_eval;emotion</td>\n      <td>test</td>\n      <td>1421</td>\n    </tr>\n    <tr>\n      <th>13</th>\n      <td>ag_news</td>\n      <td>train</td>\n      <td>120000</td>\n    </tr>\n    <tr>\n      <th>14</th>\n      <td>sts12-sts</td>\n      <td>test</td>\n      <td>4946</td>\n    </tr>\n    <tr>\n      <th>15</th>\n      <td>sts14-sts</td>\n      <td>test</td>\n      <td>6351</td>\n    </tr>\n    <tr>\n      <th>16</th>\n      <td>tweet_eval;sentiment</td>\n      <td>validation</td>\n      <td>2000</td>\n    </tr>\n    <tr>\n      <th>17</th>\n      <td>tweet_eval;emotion</td>\n      <td>validation</td>\n      <td>374</td>\n    </tr>\n    <tr>\n      <th>18</th>\n      <td>tweet_eval;emoji</td>\n      <td>validation</td>\n      <td>5000</td>\n    </tr>\n    <tr>\n      <th>19</th>\n      <td>rotten_tomatoes</td>\n      <td>validation</td>\n      <td>1066</td>\n    </tr>\n    <tr>\n      <th>20</th>\n      <td>paws-x;en</td>\n      <td>train</td>\n      <td>49401</td>\n    </tr>\n    <tr>\n      <th>21</th>\n      <td>tweet_eval;emoji</td>\n      <td>test</td>\n      <td>50000</td>\n    </tr>\n    <tr>\n      <th>22</th>\n      <td>stsbenchmark-sts</td>\n      <td>test</td>\n      <td>2552</td>\n    </tr>\n    <tr>\n      <th>23</th>\n      <td>rotten_tomatoes</td>\n      <td>train</td>\n      <td>8530</td>\n    </tr>\n    <tr>\n      <th>24</th>\n      <td>stsbenchmark-sts</td>\n      <td>validation</td>\n      <td>2910</td>\n    </tr>\n    <tr>\n      <th>25</th>\n      <td>biosses-sts</td>\n      <td>test</td>\n      <td>182</td>\n    </tr>\n    <tr>\n      <th>26</th>\n      <td>rotten_tomatoes</td>\n      <td>test</td>\n      <td>1066</td>\n    </tr>\n    <tr>\n      <th>27</th>\n      <td>sts15-sts</td>\n      <td>test</td>\n      <td>5170</td>\n    </tr>\n    <tr>\n      <th>28</th>\n      <td>sickr-sts</td>\n      <td>test</td>\n      <td>6077</td>\n    </tr>\n    <tr>\n      <th>29</th>\n      <td>snli</td>\n      <td>validation</td>\n      <td>13134</td>\n    </tr>\n    <tr>\n      <th>30</th>\n      <td>paws-x;en</td>\n      <td>test</td>\n      <td>2000</td>\n    </tr>\n    <tr>\n      <th>31</th>\n      <td>sst2</td>\n      <td>train</td>\n      <td>67349</td>\n    </tr>\n    <tr>\n      <th>32</th>\n      <td>wiki-paragraphs</td>\n      <td>validation</td>\n      <td>100000</td>\n    </tr>\n  </tbody>\n</table>\n</div>"
     },
     "metadata": {},
     "output_type": "display_data"
    }
   ],
   "source": [
    "df = pd.read_csv('exported_data/dataset_stats.csv')\n",
    "\n",
    "# remove Unnamed\n",
    "df = df.drop([c for c in df.columns if \"Unnamed\" in c], axis=1)\n",
    "\n",
    "\n",
    "display(df)\n",
    "\n",
    "df['Dataset'] = df['Dataset'].apply(lambda x: x.replace('_', '\\\\_'))\n",
    "df = df.set_index(['Dataset', 'Split']).sort_index()\n"
   ],
   "metadata": {
    "collapsed": false,
    "ExecuteTime": {
     "end_time": "2024-04-23T21:23:30.894442065Z",
     "start_time": "2024-04-23T21:23:30.836979241Z"
    }
   },
   "id": "130305f28ac31610",
   "execution_count": 31
  },
  {
   "cell_type": "code",
   "outputs": [],
   "source": [],
   "metadata": {
    "collapsed": false,
    "ExecuteTime": {
     "end_time": "2024-04-23T20:54:16.258322802Z",
     "start_time": "2024-04-23T20:54:16.253434900Z"
    }
   },
   "id": "49175cbde2147330",
   "execution_count": 28
  },
  {
   "cell_type": "code",
   "outputs": [],
   "source": [
    "\n",
    "\n",
    "# escape to latex\n",
    "style = df.style.format(escape=\"latex\")\n",
    "\n",
    "latex = style.to_latex(clines=\"skip-last;data\", sparse_index=True, caption=\"Dataset statistics\", label=\"tab:nlp_datasets\", hrules=True)\n",
    "\n",
    "latex = latex.replace('\\\\begin{table}', '\\\\begin{table}\\\\centering')\n",
    "\n",
    "path = Path(f\"../../../papers/emir-embedding-comparison/tables/nlp/datasets_stats.tex\")\n",
    "path.parent.mkdir(parents=True, exist_ok=True)\n",
    "\n",
    "with path.open('w') as fd:\n",
    "    fd.write(latex)\n"
   ],
   "metadata": {
    "collapsed": false,
    "ExecuteTime": {
     "end_time": "2024-04-23T20:58:08.116120711Z",
     "start_time": "2024-04-23T20:58:08.072820791Z"
    }
   },
   "id": "9517d08cf1a29535",
   "execution_count": 30
  },
  {
   "cell_type": "code",
   "outputs": [],
   "source": [],
   "metadata": {
    "collapsed": false,
    "ExecuteTime": {
     "end_time": "2024-04-23T20:46:37.094945569Z",
     "start_time": "2024-04-23T20:46:37.079580080Z"
    }
   },
   "id": "391bba6eedfb9cfd",
   "execution_count": 17
  },
  {
   "cell_type": "code",
   "outputs": [],
   "source": [],
   "metadata": {
    "collapsed": false,
    "ExecuteTime": {
     "end_time": "2024-04-23T20:46:37.095137658Z",
     "start_time": "2024-04-23T20:46:37.079661326Z"
    }
   },
   "id": "982a85c82395b39d",
   "execution_count": 17
  }
 ],
 "metadata": {
  "kernelspec": {
   "display_name": "Python 3",
   "language": "python",
   "name": "python3"
  },
  "language_info": {
   "codemirror_mode": {
    "name": "ipython",
    "version": 2
   },
   "file_extension": ".py",
   "mimetype": "text/x-python",
   "name": "python",
   "nbconvert_exporter": "python",
   "pygments_lexer": "ipython2",
   "version": "2.7.6"
  }
 },
 "nbformat": 4,
 "nbformat_minor": 5
}
