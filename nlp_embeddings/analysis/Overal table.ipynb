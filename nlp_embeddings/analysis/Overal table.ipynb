{
 "cells": [
  {
   "cell_type": "code",
   "execution_count": null,
   "id": "initial_id",
   "metadata": {
    "collapsed": true
   },
   "outputs": [],
   "source": []
  },
  {
   "cell_type": "code",
   "outputs": [],
   "source": [
    "import pandas as pd\n",
    "import numpy as np\n",
    "import matplotlib.pyplot as plt\n",
    "import seaborn as sns\n",
    "\n",
    "from pathlib import Path\n",
    "import networkx as nx\n",
    "\n",
    "\n",
    "from netgraph import Graph, InteractiveGraph\n",
    "\n",
    "from networkx.algorithms.community import girvan_newman, modularity_max, louvain_communities\n",
    "\n",
    "from visu_utils import *\n",
    "\n",
    "# white grid\n",
    "sns.set_style(\"whitegrid\")\n",
    "\n",
    "%load_ext autoreload\n",
    "%autoreload 2\n",
    "\n"
   ],
   "metadata": {
    "collapsed": false,
    "ExecuteTime": {
     "end_time": "2024-04-27T22:52:33.379021955Z",
     "start_time": "2024-04-27T22:52:33.013897004Z"
    }
   },
   "id": "bec6a32b141aeb1f",
   "execution_count": 1
  },
  {
   "cell_type": "code",
   "outputs": [
    {
     "name": "stderr",
     "output_type": "stream",
     "text": [
      "/home/mdarrin/Documents/phd/transformers/EMIRR/EMIR/nlp_embeddings/analysis/visu_utils.py:57: FutureWarning: In a future version of pandas all arguments of DataFrame.pivot will be keyword-only.\n",
      "  .pivot(\"model_1\", \"model_2\", metric)\n"
     ]
    }
   ],
   "source": [
    "\n",
    "\n",
    "PREFIX = \"mteb_ds\"\n",
    "df = pd.read_csv('exported_data/normalized_13.df')\n",
    "\n",
    "df = text_embeddings_metadata_results_preprocessing(df, models=MODELS_MAIN_EXPES)\n",
    "METRIC = \"I(X_1->X_2)/d_2\"\n",
    "\n",
    "table = make_table_pivot(METRIC, df)\n",
    "\n",
    "METRICS = ['Average (56 datasets)', 'Classification Average (12 datasets)', 'Clustering Average (11 datasets)', 'Retrieval Average (15 datasets)', 'STS Average (10 datasets)', 'Reranking Average (4 datasets)']\n",
    "\n",
    "mteb = pd.read_csv('exported_data/df_mteb_avg.csv')\n",
    "\n",
    "import re\n",
    "\n",
    "def extract_url_from_html_link(html):\n",
    "    return re.findall(r'href=[\\'\"]?([^\\'\" >]+)', html)[0]\n",
    "\n",
    "mteb['model'] = mteb['Model'].apply(extract_url_from_html_link).apply(lambda x: \"/\".join(x.split('/')[-2:]))\n",
    "\n",
    "avg_results = table.median(axis=1).sort_values(ascending=False).to_frame().reset_index().rename(columns={0: METRIC, 'model_1': 'model'}).merge(mteb, on='model', how='left').sort_values(METRIC, ascending=False)\n",
    "\n",
    "# make model shorter\n",
    "avg_results['model'] = avg_results['model'].apply(lambda x: x.split('/')[-1])\n",
    "\n"
   ],
   "metadata": {
    "collapsed": false,
    "ExecuteTime": {
     "end_time": "2024-04-27T22:55:37.836070338Z",
     "start_time": "2024-04-27T22:55:37.706142689Z"
    }
   },
   "id": "3de24f555f07e350",
   "execution_count": 3
  },
  {
   "cell_type": "code",
   "outputs": [],
   "source": [],
   "metadata": {
    "collapsed": false,
    "ExecuteTime": {
     "end_time": "2024-04-27T22:57:49.392477690Z",
     "start_time": "2024-04-27T22:57:49.384537209Z"
    }
   },
   "id": "4e6f5540b3bc78b0",
   "execution_count": 10
  },
  {
   "cell_type": "code",
   "outputs": [],
   "source": [
    "mteb_info = avg_results[['model', METRIC]+METRICS].set_index('model')"
   ],
   "metadata": {
    "collapsed": false,
    "ExecuteTime": {
     "end_time": "2024-04-27T23:01:27.333637527Z",
     "start_time": "2024-04-27T23:01:27.295449039Z"
    }
   },
   "id": "bdf91e27afd927b1",
   "execution_count": 17
  },
  {
   "cell_type": "code",
   "outputs": [
    {
     "name": "stdout",
     "output_type": "stream",
     "text": [
      "8\n"
     ]
    },
    {
     "name": "stderr",
     "output_type": "stream",
     "text": [
      "/tmp/ipykernel_320940/3502221976.py:7: FutureWarning: The default value of numeric_only in DataFrameGroupBy.mean is deprecated. In a future version, numeric_only will default to False. Either specify numeric_only or select only columns which should be valid for the function.\n",
      "  classifcation_df = classifcation_df.groupby('model').mean().reset_index()\n"
     ]
    }
   ],
   "source": [
    "\n",
    "classifcation_df = pd.read_csv('exported_data/classification_many_2.csv')\n",
    "\n",
    "classifcation_df['model'] = classifcation_df['model'].apply(lambda x: eval(x)[0])\n",
    "\n",
    "print(len(classifcation_df['dataset'].unique()))\n",
    "\n",
    "classifcation_df = classifcation_df.groupby('model').mean().reset_index()\n",
    "\n",
    "pivoted_classif = classifcation_df[['model','success']].set_index('model') # .pivot_table(index='model', columns='dataset', values='success')\n",
    "\n",
    "pivoted_classif = pivoted_classif.rename(columns={'success': 'Classification 2 (8 datasets)'})\n",
    "pivoted_classif.index = pivoted_classif.index.map(lambda x: x.split('/')[-1])"
   ],
   "metadata": {
    "collapsed": false,
    "ExecuteTime": {
     "end_time": "2024-04-27T23:25:46.584330654Z",
     "start_time": "2024-04-27T23:25:46.526225820Z"
    }
   },
   "id": "20069544e284e954",
   "execution_count": 75
  },
  {
   "cell_type": "code",
   "outputs": [],
   "source": [
    "\n",
    "\n",
    "pearson = pd.merge(mteb_info, pivoted_classif, left_index=True, right_index=True).corr(method=\"pearson\").loc[METRIC, :].sort_values(ascending=False)\n",
    "spearman = pd.merge(mteb_info, pivoted_classif, left_index=True, right_index=True).corr(method=\"spearman\").loc[METRIC, :].sort_values(ascending=False)\n",
    "kendall = pd.merge(mteb_info, pivoted_classif, left_index=True, right_index=True).corr(method=\"kendall\").loc[METRIC, :].sort_values(ascending=False)\n",
    "\n",
    "correlations = pd.concat([pearson, spearman, kendall], axis=1, keys=['$\\\\rho_p$', '$\\\\rho_s$', '$\\\\tau$']).sort_values('$\\\\rho_s$', ascending=False)\n",
    "\n",
    "\n",
    "correlations = correlations.drop(index=METRIC)\n",
    "\n",
    "import re\n",
    "# Remove \"Average\" from the names\n",
    "correlations.index = correlations.index.map(lambda x: re.sub(r'\\sAverage', '', x))\n",
    "\n",
    "# correlations.index = correlations.index.map(lambda x: re.sub(r'\\s\\(\\d+ datasets\\)', '', x))\n"
   ],
   "metadata": {
    "collapsed": false,
    "ExecuteTime": {
     "end_time": "2024-04-27T23:25:47.815223160Z",
     "start_time": "2024-04-27T23:25:47.777516474Z"
    }
   },
   "id": "1efa12c486134f56",
   "execution_count": 76
  },
  {
   "cell_type": "code",
   "outputs": [],
   "source": [
    "style = correlations.style.format(precision=2)"
   ],
   "metadata": {
    "collapsed": false,
    "ExecuteTime": {
     "end_time": "2024-04-27T23:25:48.064058918Z",
     "start_time": "2024-04-27T23:25:48.031646841Z"
    }
   },
   "id": "f1aa781c651350e",
   "execution_count": 77
  },
  {
   "cell_type": "code",
   "outputs": [
    {
     "name": "stdout",
     "output_type": "stream",
     "text": [
      "\\begin{tabular}{lrrr}\n",
      "\\toprule\n",
      " & $\\rho_p$ & $\\rho_s$ & $\\tau$ \\\\\n",
      "\\midrule\n",
      "Average (56 datasets) & 0.94 & 0.90 & 0.74 \\\\\n",
      "Retrieval (15 datasets) & 0.89 & 0.89 & 0.70 \\\\\n",
      "Classification (12 datasets) & 0.92 & 0.88 & 0.73 \\\\\n",
      "Clustering (11 datasets) & 0.86 & 0.85 & 0.67 \\\\\n",
      "STS (10 datasets) & 0.92 & 0.82 & 0.62 \\\\\n",
      "Reranking (4 datasets) & 0.84 & 0.79 & 0.64 \\\\\n",
      "Classification 2 (8 datasets) & 0.85 & 0.77 & 0.57 \\\\\n",
      "\\bottomrule\n",
      "\\end{tabular}\n"
     ]
    },
    {
     "data": {
      "text/plain": "440"
     },
     "execution_count": 78,
     "metadata": {},
     "output_type": "execute_result"
    }
   ],
   "source": [
    "\n",
    "\n",
    "\n",
    "path = Path(f\"../../../papers/emir-embedding-comparison/tables/nlp/{PREFIX}_overall_correlation_table_{sanitize_metric_name(METRIC)}.tex\")\n",
    "path.parent.mkdir(parents=True, exist_ok=True)\n",
    "latex = style.to_latex(clines=\"skip-last;data\", sparse_index=True, hrules=True)\n",
    "\n",
    "print(latex)\n",
    "\n",
    "\n",
    "# save the latex\n",
    "path.write_text(latex)\n"
   ],
   "metadata": {
    "collapsed": false,
    "ExecuteTime": {
     "end_time": "2024-04-27T23:25:48.329699257Z",
     "start_time": "2024-04-27T23:25:48.307286913Z"
    }
   },
   "id": "37197c7668db1202",
   "execution_count": 78
  },
  {
   "cell_type": "code",
   "outputs": [],
   "source": [],
   "metadata": {
    "collapsed": false
   },
   "id": "984e35211f234e92"
  }
 ],
 "metadata": {
  "kernelspec": {
   "display_name": "Python 3",
   "language": "python",
   "name": "python3"
  },
  "language_info": {
   "codemirror_mode": {
    "name": "ipython",
    "version": 2
   },
   "file_extension": ".py",
   "mimetype": "text/x-python",
   "name": "python",
   "nbconvert_exporter": "python",
   "pygments_lexer": "ipython2",
   "version": "2.7.6"
  }
 },
 "nbformat": 4,
 "nbformat_minor": 5
}
