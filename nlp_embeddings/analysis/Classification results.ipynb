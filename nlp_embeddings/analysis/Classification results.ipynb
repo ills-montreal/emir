{
 "cells": [
  {
   "cell_type": "code",
   "execution_count": 1,
   "id": "initial_id",
   "metadata": {
    "collapsed": true,
    "ExecuteTime": {
     "end_time": "2024-03-30T03:44:12.612208454Z",
     "start_time": "2024-03-30T03:44:12.593252565Z"
    }
   },
   "outputs": [],
   "source": [
    "import pandas as pd\n",
    "import seaborn as sns\n",
    "import matplotlib.pyplot as plt\n",
    "import numpy as np\n"
   ]
  },
  {
   "cell_type": "code",
   "outputs": [],
   "source": [
    "classifcation_df = pd.read_csv('exported_data/classification_2.csv')"
   ],
   "metadata": {
    "collapsed": false,
    "ExecuteTime": {
     "end_time": "2024-03-30T03:44:12.614397051Z",
     "start_time": "2024-03-30T03:44:12.596206626Z"
    }
   },
   "id": "349238244ad4b5c7",
   "execution_count": 2
  },
  {
   "cell_type": "code",
   "outputs": [
    {
     "data": {
      "text/plain": "   Unnamed: 0             dataset  \\\n0           0     dair-ai/emotion   \n1           0     dair-ai/emotion   \n2           0     dair-ai/emotion   \n3           0     rotten_tomatoes   \n4           0  tweet_eval;emotion   \n\n                                               model  \\\n0                     intfloat/multilingual-e5-small   \n1                             izhx/udever-bloom-560m   \n2                        sentence-transformers/LaBSE   \n3                             izhx/udever-bloom-560m   \n4  sentence-transformers/average_word_embeddings_...   \n\n                  embeddings_dir               output_dir  \\\n0  ../classification_embeddings/  ../tasks_perfs/output_2   \n1  ../classification_embeddings/  ../tasks_perfs/output_2   \n2  ../classification_embeddings/  ../tasks_perfs/output_2   \n3  ../classification_embeddings/  ../tasks_perfs/output_2   \n4  ../classification_embeddings/  ../tasks_perfs/output_2   \n\n   training_batch_size  eval_batch_size  n_epochs     lr  hidden_dim  \\\n0                   32              512         2  0.001         256   \n1                   32              512         2  0.001         256   \n2                   32              512         2  0.001         256   \n3                   32              512         2  0.001         256   \n4                   32              512         2  0.001         256   \n\n   num_layers   test device        id   success  \n0           2  False   cuda  7k269phq  0.608344  \n1           2  False   cuda  muss2a1a  0.631761  \n2           2  False   cuda  eh7gj5q3  0.621372  \n3           2  False   cuda  axsze6vn  0.806560  \n4           2  False   cuda  19q4oxub  0.591062  ",
      "text/html": "<div>\n<style scoped>\n    .dataframe tbody tr th:only-of-type {\n        vertical-align: middle;\n    }\n\n    .dataframe tbody tr th {\n        vertical-align: top;\n    }\n\n    .dataframe thead th {\n        text-align: right;\n    }\n</style>\n<table border=\"1\" class=\"dataframe\">\n  <thead>\n    <tr style=\"text-align: right;\">\n      <th></th>\n      <th>Unnamed: 0</th>\n      <th>dataset</th>\n      <th>model</th>\n      <th>embeddings_dir</th>\n      <th>output_dir</th>\n      <th>training_batch_size</th>\n      <th>eval_batch_size</th>\n      <th>n_epochs</th>\n      <th>lr</th>\n      <th>hidden_dim</th>\n      <th>num_layers</th>\n      <th>test</th>\n      <th>device</th>\n      <th>id</th>\n      <th>success</th>\n    </tr>\n  </thead>\n  <tbody>\n    <tr>\n      <th>0</th>\n      <td>0</td>\n      <td>dair-ai/emotion</td>\n      <td>intfloat/multilingual-e5-small</td>\n      <td>../classification_embeddings/</td>\n      <td>../tasks_perfs/output_2</td>\n      <td>32</td>\n      <td>512</td>\n      <td>2</td>\n      <td>0.001</td>\n      <td>256</td>\n      <td>2</td>\n      <td>False</td>\n      <td>cuda</td>\n      <td>7k269phq</td>\n      <td>0.608344</td>\n    </tr>\n    <tr>\n      <th>1</th>\n      <td>0</td>\n      <td>dair-ai/emotion</td>\n      <td>izhx/udever-bloom-560m</td>\n      <td>../classification_embeddings/</td>\n      <td>../tasks_perfs/output_2</td>\n      <td>32</td>\n      <td>512</td>\n      <td>2</td>\n      <td>0.001</td>\n      <td>256</td>\n      <td>2</td>\n      <td>False</td>\n      <td>cuda</td>\n      <td>muss2a1a</td>\n      <td>0.631761</td>\n    </tr>\n    <tr>\n      <th>2</th>\n      <td>0</td>\n      <td>dair-ai/emotion</td>\n      <td>sentence-transformers/LaBSE</td>\n      <td>../classification_embeddings/</td>\n      <td>../tasks_perfs/output_2</td>\n      <td>32</td>\n      <td>512</td>\n      <td>2</td>\n      <td>0.001</td>\n      <td>256</td>\n      <td>2</td>\n      <td>False</td>\n      <td>cuda</td>\n      <td>eh7gj5q3</td>\n      <td>0.621372</td>\n    </tr>\n    <tr>\n      <th>3</th>\n      <td>0</td>\n      <td>rotten_tomatoes</td>\n      <td>izhx/udever-bloom-560m</td>\n      <td>../classification_embeddings/</td>\n      <td>../tasks_perfs/output_2</td>\n      <td>32</td>\n      <td>512</td>\n      <td>2</td>\n      <td>0.001</td>\n      <td>256</td>\n      <td>2</td>\n      <td>False</td>\n      <td>cuda</td>\n      <td>axsze6vn</td>\n      <td>0.806560</td>\n    </tr>\n    <tr>\n      <th>4</th>\n      <td>0</td>\n      <td>tweet_eval;emotion</td>\n      <td>sentence-transformers/average_word_embeddings_...</td>\n      <td>../classification_embeddings/</td>\n      <td>../tasks_perfs/output_2</td>\n      <td>32</td>\n      <td>512</td>\n      <td>2</td>\n      <td>0.001</td>\n      <td>256</td>\n      <td>2</td>\n      <td>False</td>\n      <td>cuda</td>\n      <td>19q4oxub</td>\n      <td>0.591062</td>\n    </tr>\n  </tbody>\n</table>\n</div>"
     },
     "execution_count": 3,
     "metadata": {},
     "output_type": "execute_result"
    }
   ],
   "source": [
    "classifcation_df.head()"
   ],
   "metadata": {
    "collapsed": false,
    "ExecuteTime": {
     "end_time": "2024-03-30T03:44:12.638447784Z",
     "start_time": "2024-03-30T03:44:12.612583660Z"
    }
   },
   "id": "bfb24164ea110f8b",
   "execution_count": 3
  },
  {
   "cell_type": "code",
   "outputs": [
    {
     "data": {
      "text/plain": "<Axes: xlabel='success', ylabel='model'>"
     },
     "execution_count": 4,
     "metadata": {},
     "output_type": "execute_result"
    }
   ],
   "source": [
    "sns.barplot(data=classifcation_df, y='model', x='success', orient='h', hue=\"dataset\")\n",
    "# rotate x labels"
   ],
   "metadata": {
    "collapsed": false,
    "is_executing": true,
    "ExecuteTime": {
     "start_time": "2024-03-30T03:44:12.634263871Z"
    }
   },
   "id": "409434f706ca5851",
   "execution_count": null
  },
  {
   "cell_type": "code",
   "outputs": [],
   "source": [
    "# pivot to make a table model / dataset / success\n",
    "dedup = classifcation_df.groupby(['dataset', 'model']).first().reset_index()\n",
    "dedup = dedup[['dataset', 'model', 'success']].dropna()\n",
    "dedup = dedup[~dedup['dataset'].str.contains('clinc')]\n",
    "pivot_df = dedup.pivot(index='model', columns='dataset', values='success')"
   ],
   "metadata": {
    "collapsed": false,
    "is_executing": true
   },
   "id": "239ce225d5c8a8a",
   "execution_count": null
  },
  {
   "cell_type": "code",
   "outputs": [],
   "source": [
    "sns.clustermap(pivot_df, annot=True, cmap=\"YlGnBu\")"
   ],
   "metadata": {
    "collapsed": false,
    "is_executing": true
   },
   "id": "68226d504d1bb496",
   "execution_count": null
  },
  {
   "cell_type": "code",
   "outputs": [],
   "source": [
    "classifcation_df.groupby('model')['success'].mean().sort_values(ascending=False)"
   ],
   "metadata": {
    "collapsed": false,
    "is_executing": true
   },
   "id": "132d6b8d33ac72f8",
   "execution_count": null
  },
  {
   "cell_type": "code",
   "outputs": [],
   "source": [],
   "metadata": {
    "collapsed": false,
    "is_executing": true
   },
   "id": "ae6419d01c91bd09"
  }
 ],
 "metadata": {
  "kernelspec": {
   "display_name": "Python 3",
   "language": "python",
   "name": "python3"
  },
  "language_info": {
   "codemirror_mode": {
    "name": "ipython",
    "version": 2
   },
   "file_extension": ".py",
   "mimetype": "text/x-python",
   "name": "python",
   "nbconvert_exporter": "python",
   "pygments_lexer": "ipython2",
   "version": "2.7.6"
  }
 },
 "nbformat": 4,
 "nbformat_minor": 5
}
