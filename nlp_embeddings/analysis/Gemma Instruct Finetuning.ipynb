{
 "cells": [
  {
   "cell_type": "code",
   "execution_count": 128,
   "id": "initial_id",
   "metadata": {
    "collapsed": true,
    "ExecuteTime": {
     "end_time": "2024-04-18T20:21:01.957974337Z",
     "start_time": "2024-04-18T20:21:01.782800781Z"
    }
   },
   "outputs": [],
   "source": [
    "import pandas as pd\n",
    "import numpy as np\n",
    "import matplotlib.pyplot as plt\n",
    "import seaborn as sns\n",
    "\n",
    "from pathlib import Path\n",
    "import networkx as nx\n",
    "\n",
    "\n",
    "from netgraph import Graph, InteractiveGraph\n",
    "\n",
    "from networkx.algorithms.community import girvan_newman, modularity_max, louvain_communities\n",
    "\n",
    "from visu_utils import *\n"
   ]
  },
  {
   "cell_type": "code",
   "outputs": [
    {
     "name": "stdout",
     "output_type": "stream",
     "text": [
      "The autoreload extension is already loaded. To reload it, use:\n",
      "  %reload_ext autoreload\n"
     ]
    }
   ],
   "source": [
    "%load_ext autoreload\n",
    "%autoreload 2"
   ],
   "metadata": {
    "collapsed": false,
    "ExecuteTime": {
     "end_time": "2024-04-18T20:21:02.070482024Z",
     "start_time": "2024-04-18T20:21:01.940687851Z"
    }
   },
   "id": "bf1f1b776a3f9c82",
   "execution_count": 129
  },
  {
   "cell_type": "code",
   "outputs": [],
   "source": [
    "PREFIX = \"mteb_ds\"\n",
    "df = pd.read_csv('exported_data/normalized_13.df')\n",
    "df = text_embeddings_metadata_results_preprocessing(df, short_names=True, models=ALL_MODELS)\n",
    "\n",
    "METRIC = \"I(X_1->X_2)/d_2\"\n",
    "\n",
    "\n",
    "MODELS_OF_INTEREST = GEMMA_MODELS"
   ],
   "metadata": {
    "collapsed": false,
    "ExecuteTime": {
     "end_time": "2024-04-18T20:21:02.285196381Z",
     "start_time": "2024-04-18T20:21:02.032252792Z"
    }
   },
   "id": "603a8709b3ee9e9b",
   "execution_count": 130
  },
  {
   "cell_type": "code",
   "outputs": [
    {
     "name": "stderr",
     "output_type": "stream",
     "text": [
      "/home/mdarrin/Documents/phd/transformers/EMIRR/EMIR/nlp_embeddings/analysis/visu_utils.py:55: FutureWarning: In a future version of pandas all arguments of DataFrame.pivot will be keyword-only.\n",
      "  .pivot(\"model_1\", \"model_2\", metric)\n",
      "/home/mdarrin/Documents/phd/transformers/EMIRR/EMIR/nlp_embeddings/analysis/visu_utils.py:55: FutureWarning: In a future version of pandas all arguments of DataFrame.pivot will be keyword-only.\n",
      "  .pivot(\"model_1\", \"model_2\", metric)\n",
      "/home/mdarrin/Documents/phd/transformers/EMIRR/EMIR/nlp_embeddings/analysis/visu_utils.py:55: FutureWarning: In a future version of pandas all arguments of DataFrame.pivot will be keyword-only.\n",
      "  .pivot(\"model_1\", \"model_2\", metric)\n",
      "/home/mdarrin/Documents/phd/transformers/EMIRR/EMIR/nlp_embeddings/analysis/visu_utils.py:55: FutureWarning: In a future version of pandas all arguments of DataFrame.pivot will be keyword-only.\n",
      "  .pivot(\"model_1\", \"model_2\", metric)\n"
     ]
    },
    {
     "data": {
      "text/plain": "([0, 1, 2, 3],\n [Text(0, 0, 'gemma-2b'),\n  Text(1, 0, 'gemma-2b-it'),\n  Text(2, 0, 'gemma-7b'),\n  Text(3, 0, 'gemma-7b-it')])"
     },
     "execution_count": 131,
     "metadata": {},
     "output_type": "execute_result"
    },
    {
     "data": {
      "text/plain": "<Figure size 640x480 with 1 Axes>",
      "image/png": "[encoded data removed]"
     },
     "metadata": {},
     "output_type": "display_data"
    }
   ],
   "source": [
    "\n",
    "\n",
    "def compute_one_against_all(df, all_models, models, short_names):\n",
    "    results = []\n",
    "    for model in models:\n",
    "        all_models_ = list((set(all_models) - set(models)))\n",
    "        all_models_.append(model)\n",
    "                           \n",
    "        ddf = text_embeddings_metadata_results_preprocessing(df, short_names=True, models=map_short(all_models_))\n",
    "        table = make_table_pivot(METRIC, ddf)\n",
    "        \n",
    "        \n",
    "        model = map_short([model])[0]\n",
    "        informativeness = table.median(axis=1).loc[model]\n",
    "        results.append({'model': model, 'informativeness': informativeness})\n",
    "            \n",
    "    return pd.DataFrame(results)\n",
    "\n",
    "\n",
    "informativeness = compute_one_against_all(df, ALL_MODELS, MODELS_OF_INTEREST, short_names=True)\n",
    "\n",
    "sns.barplot(data=informativeness, x='model', y='informativeness')\n",
    "plt.xticks(rotation=45)\n",
    "            \n",
    "\n"
   ],
   "metadata": {
    "collapsed": false,
    "ExecuteTime": {
     "end_time": "2024-04-18T20:21:03.108803373Z",
     "start_time": "2024-04-18T20:21:02.216991951Z"
    }
   },
   "id": "fbc835670f72a5ea",
   "execution_count": 131
  },
  {
   "cell_type": "code",
   "outputs": [
    {
     "name": "stderr",
     "output_type": "stream",
     "text": [
      "/home/mdarrin/Documents/phd/transformers/EMIRR/EMIR/nlp_embeddings/analysis/visu_utils.py:55: FutureWarning: In a future version of pandas all arguments of DataFrame.pivot will be keyword-only.\n",
      "  .pivot(\"model_1\", \"model_2\", metric)\n"
     ]
    }
   ],
   "source": [
    "table = make_table_pivot(METRIC, df) "
   ],
   "metadata": {
    "collapsed": false,
    "ExecuteTime": {
     "end_time": "2024-04-18T20:21:03.163789377Z",
     "start_time": "2024-04-18T20:21:03.106526306Z"
    }
   },
   "id": "f64c67246825bae8",
   "execution_count": 132
  },
  {
   "cell_type": "code",
   "outputs": [],
   "source": [],
   "metadata": {
    "collapsed": false,
    "ExecuteTime": {
     "end_time": "2024-04-18T20:21:03.164154657Z",
     "start_time": "2024-04-18T20:21:03.133600469Z"
    }
   },
   "id": "3a33db2b4e152792",
   "execution_count": 132
  },
  {
   "cell_type": "code",
   "outputs": [
    {
     "name": "stderr",
     "output_type": "stream",
     "text": [
      "/home/mdarrin/Documents/phd/transformers/EMIRR/EMIR/nlp_embeddings/analysis/visu_utils.py:55: FutureWarning: In a future version of pandas all arguments of DataFrame.pivot will be keyword-only.\n",
      "  .pivot(\"model_1\", \"model_2\", metric)\n"
     ]
    }
   ],
   "source": [
    "\n",
    "classifcation_df = pd.read_csv('exported_data/classification_many.csv')\n",
    "\n",
    "classifcation_df['model'] = classifcation_df['model'].apply(lambda x: eval(x)[0])\n",
    "\n",
    "rankings = make_rankings_table(classifcation_df, df, METRIC)\n"
   ],
   "metadata": {
    "collapsed": false,
    "ExecuteTime": {
     "end_time": "2024-04-18T20:21:03.492747825Z",
     "start_time": "2024-04-18T20:21:03.137669470Z"
    }
   },
   "id": "e25107ecee47fc61",
   "execution_count": 133
  },
  {
   "cell_type": "code",
   "outputs": [],
   "source": [
    "classifcation_df['rank'] = classifcation_df.groupby('dataset')['success'].rank(ascending=False)"
   ],
   "metadata": {
    "collapsed": false,
    "ExecuteTime": {
     "end_time": "2024-04-18T20:21:03.507120099Z",
     "start_time": "2024-04-18T20:21:03.490883326Z"
    }
   },
   "id": "e28a4e052904d374",
   "execution_count": 134
  },
  {
   "cell_type": "code",
   "outputs": [],
   "source": [
    "\n",
    "\n",
    "classif = classifcation_df.set_index(['model'])['success'].loc[MODELS_OF_INTEREST]\n",
    "classif.index = map_short(classif.index)\n",
    "\n",
    "\n",
    "informativeness_classif = informativeness.set_index('model').merge(classif, left_index=True, right_index=True)\n",
    "\n",
    "\n",
    "informativeness_classif =informativeness_classif.reset_index().rename(columns={'index': 'model'})\n",
    "informativeness_classif['informativeness'] = informativeness_classif['informativeness'].apply(lambda x: round(x, 2)).astype(float)\n",
    "\n",
    "informativeness_classif['Version'] = informativeness_classif['model'].apply(lambda x: \"Instruct\" if 'it' in x else \"Base\")\n",
    "informativeness_classif['Size'] = informativeness_classif['model'].apply(lambda x: x.split('-')[1])\n",
    "\n",
    "# rename with human names\n",
    "informativeness_classif = informativeness_classif.rename(columns={'model': 'Model', 'informativeness': 'Informativeness', 'success': 'Classification accuracy'})\n"
   ],
   "metadata": {
    "collapsed": false,
    "ExecuteTime": {
     "end_time": "2024-04-18T20:34:19.201182906Z",
     "start_time": "2024-04-18T20:34:19.092686096Z"
    }
   },
   "id": "426994df2170524",
   "execution_count": 168
  },
  {
   "cell_type": "code",
   "outputs": [
    {
     "name": "stderr",
     "output_type": "stream",
     "text": [
      "/tmp/ipykernel_1090707/4094011265.py:15: UserWarning: set_ticklabels() should only be used with a fixed number of ticks, i.e. after set_ticks() or using a FixedLocator.\n",
      "  a.set_xticklabels(a.get_xticklabels(), rotation=45)\n",
      "/tmp/ipykernel_1090707/4094011265.py:15: UserWarning: set_ticklabels() should only be used with a fixed number of ticks, i.e. after set_ticks() or using a FixedLocator.\n",
      "  a.set_xticklabels(a.get_xticklabels(), rotation=45)\n"
     ]
    },
    {
     "data": {
      "text/plain": "<Figure size 500x200 with 2 Axes>",
      "image/png": "[encoded data removed]"
     },
     "metadata": {},
     "output_type": "display_data"
    }
   ],
   "source": [
    "fig, ax = plt.subplots(figsize=(5, 2), ncols=2)\n",
    "sns.barplot(data=informativeness_classif, x='Model', y='Informativeness', hue='Version', errorbar=None, ax=ax[0])\n",
    "sns.barplot(data=informativeness_classif, x='Model', y='Classification accuracy', hue='Version', errorbar=None, ax=ax[1])\n",
    "\n",
    "# make ylims\n",
    "ax[0].set_ylim(0.45, 0.56)\n",
    "ax[1].set_ylim(0.6, 0.75)\n",
    "\n",
    "# remove y labels\n",
    "ax[0].set_ylabel('')\n",
    "ax[1].set_ylabel('')\n",
    "\n",
    "# rotate x labels\n",
    "for a in ax:\n",
    "    a.set_xticklabels(a.get_xticklabels(), rotation=45)\n",
    "\n",
    "ax[0].set_title('Informativeness')\n",
    "ax[1].set_title('Classification accuracy')\n",
    "\n",
    "ax[0].set_xlabel('')\n",
    "ax[1].set_xlabel('')\n",
    "\n",
    "# remove legend for ax[0]\n",
    "\n",
    "ax[0].get_legend().remove()\n",
    "ax[1].get_legend().remove()\n",
    "\n",
    "fig.tight_layout()\n",
    "\n",
    "path = Path(f\"../../../papers/emir-embedding-comparison/fig/nlp/{PREFIX}_gemma_barplot_instruct_{sanitize_metric_name(METRIC)}.pdf\")\n",
    "path.parent.mkdir(parents=True, exist_ok=True)\n",
    "fig.savefig(path, bbox_inches='tight')\n",
    "\n"
   ],
   "metadata": {
    "collapsed": false,
    "ExecuteTime": {
     "end_time": "2024-04-18T20:52:15.212354374Z",
     "start_time": "2024-04-18T20:52:14.735668204Z"
    }
   },
   "id": "77817236280e6551",
   "execution_count": 181
  },
  {
   "cell_type": "code",
   "outputs": [
    {
     "data": {
      "text/plain": "<Axes: xlabel='model', ylabel='success'>"
     },
     "execution_count": 160,
     "metadata": {},
     "output_type": "execute_result"
    },
    {
     "data": {
      "text/plain": "<Figure size 640x480 with 1 Axes>",
      "image/png": "[encoded data removed]"
     },
     "metadata": {},
     "output_type": "display_data"
    }
   ],
   "source": [],
   "metadata": {
    "collapsed": false,
    "ExecuteTime": {
     "end_time": "2024-04-18T20:30:43.715292809Z",
     "start_time": "2024-04-18T20:30:43.450470809Z"
    }
   },
   "id": "95f92443f84144dd",
   "execution_count": 160
  },
  {
   "cell_type": "code",
   "outputs": [],
   "source": [],
   "metadata": {
    "collapsed": false
   },
   "id": "a8990f14282399f5"
  }
 ],
 "metadata": {
  "kernelspec": {
   "display_name": "Python 3",
   "language": "python",
   "name": "python3"
  },
  "language_info": {
   "codemirror_mode": {
    "name": "ipython",
    "version": 2
   },
   "file_extension": ".py",
   "mimetype": "text/x-python",
   "name": "python",
   "nbconvert_exporter": "python",
   "pygments_lexer": "ipython2",
   "version": "2.7.6"
  }
 },
 "nbformat": 4,
 "nbformat_minor": 5
}
