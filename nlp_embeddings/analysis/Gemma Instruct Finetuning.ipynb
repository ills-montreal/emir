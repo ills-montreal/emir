{
 "cells": [
  {
   "cell_type": "code",
   "execution_count": 10,
   "id": "initial_id",
   "metadata": {
    "collapsed": true,
    "ExecuteTime": {
     "end_time": "2024-05-06T19:30:04.765499773Z",
     "start_time": "2024-05-06T19:30:04.739494118Z"
    }
   },
   "outputs": [],
   "source": [
    "import pandas as pd\n",
    "import numpy as np\n",
    "import matplotlib.pyplot as plt\n",
    "import seaborn as sns\n",
    "\n",
    "from pathlib import Path\n",
    "import networkx as nx\n",
    "\n",
    "\n",
    "from netgraph import Graph, InteractiveGraph\n",
    "\n",
    "from networkx.algorithms.community import girvan_newman, modularity_max, louvain_communities\n",
    "\n",
    "from visu_utils import *\n",
    "# whitegrid\n",
    "sns.set_theme(style=\"whitegrid\")\n"
   ]
  },
  {
   "cell_type": "code",
   "outputs": [
    {
     "name": "stdout",
     "output_type": "stream",
     "text": [
      "The autoreload extension is already loaded. To reload it, use:\n",
      "  %reload_ext autoreload\n"
     ]
    }
   ],
   "source": [
    "%load_ext autoreload\n",
    "%autoreload 2"
   ],
   "metadata": {
    "collapsed": false,
    "ExecuteTime": {
     "end_time": "2024-05-06T19:30:04.891817058Z",
     "start_time": "2024-05-06T19:30:04.890091728Z"
    }
   },
   "id": "bf1f1b776a3f9c82",
   "execution_count": 11
  },
  {
   "cell_type": "code",
   "outputs": [],
   "source": [
    "PREFIX = \"mteb_ds\"\n",
    "df = pd.read_csv('exported_data/normalized_13.df')\n",
    "df = text_embeddings_metadata_results_preprocessing(df, short_names=True, models=ALL_MODELS)\n",
    "\n",
    "METRIC = \"I(X_1->X_2)/d_2\"\n",
    "\n",
    "\n",
    "MODELS_OF_INTEREST = GEMMA_MODELS"
   ],
   "metadata": {
    "collapsed": false,
    "ExecuteTime": {
     "end_time": "2024-05-06T19:30:05.111716600Z",
     "start_time": "2024-05-06T19:30:04.986700250Z"
    }
   },
   "id": "603a8709b3ee9e9b",
   "execution_count": 12
  },
  {
   "cell_type": "code",
   "outputs": [
    {
     "name": "stderr",
     "output_type": "stream",
     "text": [
      "/home/mdarrin/Documents/phd/transformers/EMIRR/EMIR/nlp_embeddings/analysis/visu_utils.py:57: FutureWarning: In a future version of pandas all arguments of DataFrame.pivot will be keyword-only.\n",
      "  .pivot(\"model_1\", \"model_2\", metric)\n",
      "/home/mdarrin/Documents/phd/transformers/EMIRR/EMIR/nlp_embeddings/analysis/visu_utils.py:57: FutureWarning: In a future version of pandas all arguments of DataFrame.pivot will be keyword-only.\n",
      "  .pivot(\"model_1\", \"model_2\", metric)\n",
      "/home/mdarrin/Documents/phd/transformers/EMIRR/EMIR/nlp_embeddings/analysis/visu_utils.py:57: FutureWarning: In a future version of pandas all arguments of DataFrame.pivot will be keyword-only.\n",
      "  .pivot(\"model_1\", \"model_2\", metric)\n",
      "/home/mdarrin/Documents/phd/transformers/EMIRR/EMIR/nlp_embeddings/analysis/visu_utils.py:57: FutureWarning: In a future version of pandas all arguments of DataFrame.pivot will be keyword-only.\n",
      "  .pivot(\"model_1\", \"model_2\", metric)\n"
     ]
    },
    {
     "data": {
      "text/plain": "([0, 1, 2, 3],\n [Text(0, 0, 'gemma-2b'),\n  Text(1, 0, 'gemma-2b-it'),\n  Text(2, 0, 'gemma-7b'),\n  Text(3, 0, 'gemma-7b-it')])"
     },
     "execution_count": 13,
     "metadata": {},
     "output_type": "execute_result"
    },
    {
     "data": {
      "text/plain": "<Figure size 640x480 with 1 Axes>",
      "image/png": "[encoded data removed]"
     },
     "metadata": {},
     "output_type": "display_data"
    }
   ],
   "source": [
    "\n",
    "\n",
    "def compute_one_against_all(df, all_models, models, short_names):\n",
    "    results = []\n",
    "    for model in models:\n",
    "        all_models_ = list((set(all_models) - set(models)))\n",
    "        all_models_.append(model)\n",
    "                           \n",
    "        ddf = text_embeddings_metadata_results_preprocessing(df, short_names=True, models=map_short(all_models_))\n",
    "        table = make_table_pivot(METRIC, ddf)\n",
    "        \n",
    "        \n",
    "        model = map_short([model])[0]\n",
    "        informativeness = table.median(axis=1).loc[model]\n",
    "        results.append({'model': model, 'informativeness': informativeness})\n",
    "            \n",
    "    return pd.DataFrame(results)\n",
    "\n",
    "\n",
    "informativeness = compute_one_against_all(df, ALL_MODELS, MODELS_OF_INTEREST, short_names=True)\n",
    "\n",
    "sns.barplot(data=informativeness, x='model', y='informativeness')\n",
    "plt.xticks(rotation=45)\n",
    "            \n",
    "\n"
   ],
   "metadata": {
    "collapsed": false,
    "ExecuteTime": {
     "end_time": "2024-05-06T19:30:05.658260437Z",
     "start_time": "2024-05-06T19:30:05.102436205Z"
    }
   },
   "id": "fbc835670f72a5ea",
   "execution_count": 13
  },
  {
   "cell_type": "code",
   "outputs": [
    {
     "name": "stderr",
     "output_type": "stream",
     "text": [
      "/home/mdarrin/Documents/phd/transformers/EMIRR/EMIR/nlp_embeddings/analysis/visu_utils.py:57: FutureWarning: In a future version of pandas all arguments of DataFrame.pivot will be keyword-only.\n",
      "  .pivot(\"model_1\", \"model_2\", metric)\n"
     ]
    }
   ],
   "source": [
    "table = make_table_pivot(METRIC, df) "
   ],
   "metadata": {
    "collapsed": false,
    "ExecuteTime": {
     "end_time": "2024-05-06T19:30:05.676559426Z",
     "start_time": "2024-05-06T19:30:05.660058404Z"
    }
   },
   "id": "f64c67246825bae8",
   "execution_count": 14
  },
  {
   "cell_type": "code",
   "outputs": [],
   "source": [],
   "metadata": {
    "collapsed": false,
    "ExecuteTime": {
     "end_time": "2024-05-06T19:30:05.722192939Z",
     "start_time": "2024-05-06T19:30:05.678490206Z"
    }
   },
   "id": "3a33db2b4e152792",
   "execution_count": 14
  },
  {
   "cell_type": "code",
   "outputs": [
    {
     "name": "stderr",
     "output_type": "stream",
     "text": [
      "/home/mdarrin/Documents/phd/transformers/EMIRR/EMIR/nlp_embeddings/analysis/visu_utils.py:57: FutureWarning: In a future version of pandas all arguments of DataFrame.pivot will be keyword-only.\n",
      "  .pivot(\"model_1\", \"model_2\", metric)\n"
     ]
    }
   ],
   "source": [
    "\n",
    "classifcation_df = pd.read_csv('exported_data/classification_many.csv')\n",
    "\n",
    "classifcation_df['model'] = classifcation_df['model'].apply(lambda x: eval(x)[0])\n",
    "\n",
    "rankings = make_rankings_table(classifcation_df, df, METRIC)\n"
   ],
   "metadata": {
    "collapsed": false,
    "ExecuteTime": {
     "end_time": "2024-05-06T19:30:05.742515843Z",
     "start_time": "2024-05-06T19:30:05.720049724Z"
    }
   },
   "id": "e25107ecee47fc61",
   "execution_count": 15
  },
  {
   "cell_type": "code",
   "outputs": [],
   "source": [
    "classifcation_df['rank'] = classifcation_df.groupby('dataset')['success'].rank(ascending=False)"
   ],
   "metadata": {
    "collapsed": false,
    "ExecuteTime": {
     "end_time": "2024-05-06T19:30:05.745112169Z",
     "start_time": "2024-05-06T19:30:05.729507214Z"
    }
   },
   "id": "e28a4e052904d374",
   "execution_count": 16
  },
  {
   "cell_type": "code",
   "outputs": [],
   "source": [
    "\n",
    "\n",
    "classif = classifcation_df.set_index(['model'])['success'].loc[MODELS_OF_INTEREST]\n",
    "classif.index = map_short(classif.index)\n",
    "\n",
    "\n",
    "informativeness_classif = informativeness.set_index('model').merge(classif, left_index=True, right_index=True)\n",
    "\n",
    "\n",
    "informativeness_classif =informativeness_classif.reset_index().rename(columns={'index': 'model'})\n",
    "informativeness_classif['informativeness'] = informativeness_classif['informativeness'].apply(lambda x: round(x, 2)).astype(float)\n",
    "\n",
    "informativeness_classif['Version'] = informativeness_classif['model'].apply(lambda x: \"Instruct\" if 'it' in x else \"Base\")\n",
    "informativeness_classif['Size'] = informativeness_classif['model'].apply(lambda x: x.split('-')[1])\n",
    "\n",
    "# rename with human names\n",
    "informativeness_classif = informativeness_classif.rename(columns={'model': 'Model', 'informativeness': 'Informativeness', 'success': 'Classification accuracy'})\n"
   ],
   "metadata": {
    "collapsed": false,
    "ExecuteTime": {
     "end_time": "2024-05-06T19:30:05.795659742Z",
     "start_time": "2024-05-06T19:30:05.747260124Z"
    }
   },
   "id": "426994df2170524",
   "execution_count": 17
  },
  {
   "cell_type": "code",
   "outputs": [
    {
     "name": "stderr",
     "output_type": "stream",
     "text": [
      "/tmp/ipykernel_222262/3274380744.py:15: UserWarning: set_ticklabels() should only be used with a fixed number of ticks, i.e. after set_ticks() or using a FixedLocator.\n",
      "  a.set_xticklabels(a.get_xticklabels(), rotation=45)\n",
      "/tmp/ipykernel_222262/3274380744.py:15: UserWarning: set_ticklabels() should only be used with a fixed number of ticks, i.e. after set_ticks() or using a FixedLocator.\n",
      "  a.set_xticklabels(a.get_xticklabels(), rotation=45)\n"
     ]
    },
    {
     "data": {
      "text/plain": "<Figure size 500x200 with 2 Axes>",
      "image/png": "[encoded data removed]"
     },
     "metadata": {},
     "output_type": "display_data"
    }
   ],
   "source": [
    "\n",
    "\n",
    "fig, ax = plt.subplots(figsize=(5, 2), ncols=2)\n",
    "sns.barplot(data=informativeness_classif, x='Model', y='Informativeness', hue='Version', errorbar=None, ax=ax[0])\n",
    "sns.barplot(data=informativeness_classif, x='Model', y='Classification accuracy', hue='Version', errorbar=None, ax=ax[1])\n",
    "\n",
    "# make ylims\n",
    "ax[0].set_ylim(0.45, 0.56)\n",
    "ax[1].set_ylim(0.6, 0.75)\n",
    "\n",
    "# remove y labels\n",
    "ax[0].set_ylabel('')\n",
    "ax[1].set_ylabel('')\n",
    "\n",
    "# rotate x labels\n",
    "for a in ax:\n",
    "    a.set_xticklabels(a.get_xticklabels(), rotation=45)\n",
    "\n",
    "ax[0].set_title('Informativeness')\n",
    "ax[1].set_title('Classification accuracy')\n",
    "\n",
    "ax[0].set_xlabel('')\n",
    "ax[1].set_xlabel('')\n",
    "\n",
    "# remove legend for ax[0]\n",
    "\n",
    "ax[0].get_legend().remove()\n",
    "ax[1].get_legend().remove()\n",
    "\n",
    "fig.tight_layout()\n",
    "\n",
    "path = Path(f\"../../../papers/emir-embedding-comparison/fig/nlp/{PREFIX}_gemma_barplot_instruct_{sanitize_metric_name(METRIC)}.pdf\")\n",
    "path.parent.mkdir(parents=True, exist_ok=True)\n",
    "fig.savefig(path, bbox_inches='tight')\n",
    "\n"
   ],
   "metadata": {
    "collapsed": false,
    "ExecuteTime": {
     "end_time": "2024-05-06T19:30:06.338790923Z",
     "start_time": "2024-05-06T19:30:05.890008223Z"
    }
   },
   "id": "77817236280e6551",
   "execution_count": 18
  },
  {
   "cell_type": "code",
   "outputs": [],
   "source": [],
   "metadata": {
    "collapsed": false,
    "ExecuteTime": {
     "end_time": "2024-05-06T19:30:06.390052162Z",
     "start_time": "2024-05-06T19:30:06.340681676Z"
    }
   },
   "id": "95f92443f84144dd",
   "execution_count": 18
  },
  {
   "cell_type": "code",
   "outputs": [],
   "source": [],
   "metadata": {
    "collapsed": false,
    "ExecuteTime": {
     "end_time": "2024-05-06T19:30:06.390651472Z",
     "start_time": "2024-05-06T19:30:06.386811635Z"
    }
   },
   "id": "a8990f14282399f5",
   "execution_count": 18
  },
  {
   "cell_type": "code",
   "outputs": [],
   "source": [],
   "metadata": {
    "collapsed": false
   },
   "id": "2ad0885ccf23caaf"
  }
 ],
 "metadata": {
  "kernelspec": {
   "display_name": "Python 3",
   "language": "python",
   "name": "python3"
  },
  "language_info": {
   "codemirror_mode": {
    "name": "ipython",
    "version": 2
   },
   "file_extension": ".py",
   "mimetype": "text/x-python",
   "name": "python",
   "nbconvert_exporter": "python",
   "pygments_lexer": "ipython2",
   "version": "2.7.6"
  }
 },
 "nbformat": 4,
 "nbformat_minor": 5
}
