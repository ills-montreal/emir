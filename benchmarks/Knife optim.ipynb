{
 "cells": [
  {
   "cell_type": "code",
   "execution_count": 11,
   "id": "initial_id",
   "metadata": {
    "collapsed": true,
    "ExecuteTime": {
     "end_time": "2024-04-06T19:32:51.777041576Z",
     "start_time": "2024-04-06T19:32:51.622887794Z"
    }
   },
   "outputs": [],
   "source": [
    "from emir.estimators.knife_estimator import KNIFEEstimator, KNIFEArgs\n",
    "import torch\n",
    "import torch.nn as nn\n",
    "\n",
    "# profiling torch\n",
    "\n",
    "from torch.profiler import profile, record_function, ProfilerActivity\n"
   ]
  },
  {
   "cell_type": "code",
   "outputs": [],
   "source": [
    "\n",
    "# reload\n",
    "%load_ext autoreload\n",
    "%autoreload 2"
   ],
   "metadata": {
    "collapsed": false,
    "ExecuteTime": {
     "end_time": "2024-04-06T19:23:18.389538178Z",
     "start_time": "2024-04-06T19:23:18.367828446Z"
    }
   },
   "id": "b83f385dae1f7fcd",
   "execution_count": 2
  },
  {
   "cell_type": "code",
   "outputs": [],
   "source": [
    "# make random embeddings of dimension 10\n",
    "X = 10 * torch.randn(100, 10)\n",
    "Y = torch.randn(100, 10) * X"
   ],
   "metadata": {
    "collapsed": false,
    "ExecuteTime": {
     "end_time": "2024-04-06T19:25:04.888623292Z",
     "start_time": "2024-04-06T19:25:04.862830860Z"
    }
   },
   "id": "c2454a5a8fbe1fd7",
   "execution_count": 8
  },
  {
   "cell_type": "code",
   "outputs": [],
   "source": [
    "estimator = KNIFEEstimator(KNIFEArgs(), x_dim=10, y_dim=10)"
   ],
   "metadata": {
    "collapsed": false,
    "ExecuteTime": {
     "end_time": "2024-04-06T19:25:05.703548641Z",
     "start_time": "2024-04-06T19:25:05.692442025Z"
    }
   },
   "id": "bd8a75861aa663e5",
   "execution_count": 9
  },
  {
   "cell_type": "code",
   "outputs": [
    {
     "name": "stderr",
     "output_type": "stream",
     "text": [
      "STAGE:2024-04-06 15:33:12 61559:61559 ActivityProfilerController.cpp:294] Completed Stage: Warm Up\n",
      "100%|██████████| 10/10 [00:00<00:00, 31.94it/s]\n",
      "100%|██████████| 10/10 [00:00<00:00, 146.84it/s]\n",
      "\n",
      "Evaluating: 100%|██████████| 1/1 [00:00<00:00, 80.48it/s]\n",
      "STAGE:2024-04-06 15:33:12 61559:61559 ActivityProfilerController.cpp:300] Completed Stage: Collection\n"
     ]
    }
   ],
   "source": [
    "\n",
    "with profile(activities=[ProfilerActivity.CPU], record_shapes=True) as prof:\n",
    "    estimator.eval(X, Y)"
   ],
   "metadata": {
    "collapsed": false,
    "ExecuteTime": {
     "end_time": "2024-04-06T19:33:13.561229914Z",
     "start_time": "2024-04-06T19:33:11.936262811Z"
    }
   },
   "id": "1c11a580b01e1ad",
   "execution_count": 12
  },
  {
   "cell_type": "code",
   "outputs": [
    {
     "name": "stdout",
     "output_type": "stream",
     "text": [
      "-------------------------------------------------------  ------------  ------------  ------------  ------------  ------------  ------------  \n",
      "                                                   Name    Self CPU %      Self CPU   CPU total %     CPU total  CPU time avg    # of Calls  \n",
      "-------------------------------------------------------  ------------  ------------  ------------  ------------  ------------  ------------  \n",
      "                                              aten::mul        35.84%     140.664ms        35.94%     141.044ms     909.961us           155  \n",
      "      autograd::engine::evaluate_function: PowBackward0         0.08%     301.000us        23.94%      93.935ms       4.697ms            20  \n",
      "                                           PowBackward0         0.09%     359.000us        23.86%      93.634ms       4.682ms            20  \n",
      "      autograd::engine::evaluate_function: MulBackward0         4.08%      16.029ms        18.31%      71.861ms       3.593ms            20  \n",
      "                                              aten::pow         7.93%      31.103ms        16.07%      63.076ms       1.467ms            43  \n",
      "                                           MulBackward0         0.05%     184.000us        10.66%      41.820ms       2.091ms            20  \n",
      "                                              aten::sum         9.39%      36.831ms        10.02%      39.310ms     183.692us           214  \n",
      "                                            aten::copy_         8.71%      34.165ms         8.71%      34.165ms      17.794us          1920  \n",
      "                               Optimizer.step#Adam.step         3.89%      15.248ms         8.68%      34.068ms       1.703ms            20  \n",
      "                                              aten::sub         7.25%      28.466ms         7.25%      28.466ms     424.866us            67  \n",
      "-------------------------------------------------------  ------------  ------------  ------------  ------------  ------------  ------------  \n",
      "Self CPU time total: 392.428ms\n"
     ]
    }
   ],
   "source": [
    "print(prof.key_averages().table(sort_by=\"cpu_time_total\", row_limit=10))\n"
   ],
   "metadata": {
    "collapsed": false,
    "ExecuteTime": {
     "end_time": "2024-04-06T19:33:21.677005656Z",
     "start_time": "2024-04-06T19:33:21.090805987Z"
    }
   },
   "id": "e1760e33cbe4b2f7",
   "execution_count": 13
  },
  {
   "cell_type": "code",
   "outputs": [],
   "source": [],
   "metadata": {
    "collapsed": false
   },
   "id": "701acebf19444ba7"
  }
 ],
 "metadata": {
  "kernelspec": {
   "display_name": "Python 3",
   "language": "python",
   "name": "python3"
  },
  "language_info": {
   "codemirror_mode": {
    "name": "ipython",
    "version": 2
   },
   "file_extension": ".py",
   "mimetype": "text/x-python",
   "name": "python",
   "nbconvert_exporter": "python",
   "pygments_lexer": "ipython2",
   "version": "2.7.6"
  }
 },
 "nbformat": 4,
 "nbformat_minor": 5
}
