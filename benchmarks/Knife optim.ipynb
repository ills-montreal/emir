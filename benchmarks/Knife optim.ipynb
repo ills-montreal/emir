{
 "cells": [
  {
   "cell_type": "code",
   "execution_count": 29,
   "id": "initial_id",
   "metadata": {
    "collapsed": true,
    "ExecuteTime": {
     "end_time": "2024-04-06T21:02:38.745054862Z",
     "start_time": "2024-04-06T21:02:38.390783207Z"
    }
   },
   "outputs": [],
   "source": [
    "from emir import KNIFEEstimator, KNIFEArgs\n",
    "import torch\n",
    "import torch.nn as nn\n",
    "\n",
    "# profiling torch\n",
    "\n",
    "from torch.profiler import profile, record_function, ProfilerActivity\n"
   ]
  },
  {
   "cell_type": "code",
   "outputs": [
    {
     "name": "stdout",
     "output_type": "stream",
     "text": [
      "The autoreload extension is already loaded. To reload it, use:\n",
      "  %reload_ext autoreload\n"
     ]
    }
   ],
   "source": [
    "\n",
    "# reload\n",
    "%load_ext autoreload\n",
    "%autoreload 2"
   ],
   "metadata": {
    "collapsed": false,
    "ExecuteTime": {
     "end_time": "2024-04-06T21:02:38.792291483Z",
     "start_time": "2024-04-06T21:02:38.791526190Z"
    }
   },
   "id": "b83f385dae1f7fcd",
   "execution_count": 30
  },
  {
   "cell_type": "code",
   "outputs": [],
   "source": [
    "# make random embeddings of dimension 10\n",
    "X = 10 * torch.randn(100, 10)\n",
    "Y = torch.randn(100, 10) * X"
   ],
   "metadata": {
    "collapsed": false,
    "ExecuteTime": {
     "end_time": "2024-04-06T21:02:38.792732235Z",
     "start_time": "2024-04-06T21:02:38.791772796Z"
    }
   },
   "id": "c2454a5a8fbe1fd7",
   "execution_count": 31
  },
  {
   "cell_type": "code",
   "outputs": [],
   "source": [
    "estimator = KNIFEEstimator(KNIFEArgs(), x_dim=10, y_dim=10)"
   ],
   "metadata": {
    "collapsed": false,
    "ExecuteTime": {
     "end_time": "2024-04-06T21:02:38.793104378Z",
     "start_time": "2024-04-06T21:02:38.791896179Z"
    }
   },
   "id": "bd8a75861aa663e5",
   "execution_count": 32
  },
  {
   "cell_type": "code",
   "outputs": [
    {
     "name": "stderr",
     "output_type": "stream",
     "text": [
      "STAGE:2024-04-06 17:02:38 69131:69131 ActivityProfilerController.cpp:294] Completed Stage: Warm Up\n",
      "100%|██████████| 5/5 [00:00<00:00, 395.80it/s]\n",
      "100%|██████████| 10/10 [00:00<00:00, 86.34it/s]\n",
      "\n",
      "Evaluating: 100%|██████████| 2/2 [00:00<00:00, 643.30it/s]"
     ]
    },
    {
     "name": "stdout",
     "output_type": "stream",
     "text": [
      "(250.26958183288573, 535.7726571597445, 285.50307532685866)\n"
     ]
    },
    {
     "name": "stderr",
     "output_type": "stream",
     "text": [
      "\n",
      "STAGE:2024-04-06 17:02:38 69131:69131 ActivityProfilerController.cpp:300] Completed Stage: Collection\n"
     ]
    }
   ],
   "source": [
    "\n",
    "with profile(activities=[ProfilerActivity.CPU], record_shapes=True) as prof:\n",
    "    print(estimator.eval(X, Y))"
   ],
   "metadata": {
    "collapsed": false,
    "ExecuteTime": {
     "end_time": "2024-04-06T21:02:40.814917950Z",
     "start_time": "2024-04-06T21:02:38.791993961Z"
    }
   },
   "id": "1c11a580b01e1ad",
   "execution_count": 33
  },
  {
   "cell_type": "code",
   "outputs": [
    {
     "name": "stdout",
     "output_type": "stream",
     "text": [
      "-------------------------------------------------------  ------------  ------------  ------------  ------------  ------------  ------------  \n",
      "                                                   Name    Self CPU %      Self CPU   CPU total %     CPU total  CPU time avg    # of Calls  \n",
      "-------------------------------------------------------  ------------  ------------  ------------  ------------  ------------  ------------  \n",
      "                               Optimizer.step#Adam.step        23.79%      24.630ms        50.85%      52.634ms       1.754ms            30  \n",
      "                                               aten::to         5.04%       5.212ms        15.22%      15.750ms       4.258us          3699  \n",
      "                                         aten::_to_copy         9.48%       9.813ms        12.93%      13.387ms       3.933us          3404  \n",
      "                                             aten::add_         3.95%       4.085ms        10.52%      10.891ms       4.384us          2484  \n",
      "    autograd::engine::evaluate_function: AddmmBackward0         1.40%       1.451ms         8.74%       9.051ms      50.283us           180  \n",
      "                                             aten::mul_         2.24%       2.316ms         8.71%       9.012ms       7.268us          1240  \n",
      "                                              aten::div         2.65%       2.744ms         6.57%       6.803ms       9.107us           747  \n",
      "                                         AddmmBackward0         1.39%       1.436ms         6.18%       6.399ms      35.550us           180  \n",
      "                                           aten::linear         0.71%     733.000us         5.22%       5.406ms      27.303us           198  \n",
      "                                        aten::logsumexp         0.94%     968.000us         4.99%       5.168ms      71.778us            72  \n",
      "-------------------------------------------------------  ------------  ------------  ------------  ------------  ------------  ------------  \n",
      "Self CPU time total: 103.515ms\n"
     ]
    }
   ],
   "source": [
    "print(prof.key_averages().table(sort_by=\"cpu_time_total\", row_limit=10))\n",
    "cd "
   ],
   "metadata": {
    "collapsed": false,
    "ExecuteTime": {
     "end_time": "2024-04-06T21:02:41.620474798Z",
     "start_time": "2024-04-06T21:02:40.814834681Z"
    }
   },
   "id": "e1760e33cbe4b2f7",
   "execution_count": 34
  },
  {
   "cell_type": "code",
   "outputs": [],
   "source": [],
   "metadata": {
    "collapsed": false,
    "ExecuteTime": {
     "end_time": "2024-04-06T21:02:41.620829916Z",
     "start_time": "2024-04-06T21:02:41.617129459Z"
    }
   },
   "id": "701acebf19444ba7",
   "execution_count": 34
  }
 ],
 "metadata": {
  "kernelspec": {
   "display_name": "Python 3",
   "language": "python",
   "name": "python3"
  },
  "language_info": {
   "codemirror_mode": {
    "name": "ipython",
    "version": 2
   },
   "file_extension": ".py",
   "mimetype": "text/x-python",
   "name": "python",
   "nbconvert_exporter": "python",
   "pygments_lexer": "ipython2",
   "version": "2.7.6"
  }
 },
 "nbformat": 4,
 "nbformat_minor": 5
}
