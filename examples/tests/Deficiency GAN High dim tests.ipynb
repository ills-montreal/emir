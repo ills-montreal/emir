{
 "cells": [
  {
   "cell_type": "code",
   "id": "initial_id",
   "metadata": {
    "collapsed": true,
    "ExecuteTime": {
     "end_time": "2024-06-08T21:19:25.003231Z",
     "start_time": "2024-06-08T21:19:24.997745Z"
    }
   },
   "source": [
    "from emir import GANDeficiencyArgs, GANDeficiencyEstimator, GANTrickedDeficiencyEstimator, WassersteinDeficiencyEstimator\n",
    "import torch\n",
    "import numpy as np\n",
    "import matplotlib.pyplot as plt\n",
    "import pandas as pd\n",
    "import seaborn as sns\n",
    "import sklearn as sk\n",
    "from sklearn.datasets import make_blobs\n",
    "\n",
    "import matplotlib.patches as mpatches\n",
    "\n",
    "# create logger\n",
    "import logging\n",
    "logging.basicConfig(level=logging.INFO)\n"
   ],
   "outputs": [],
   "execution_count": 20
  },
  {
   "metadata": {
    "ExecuteTime": {
     "end_time": "2024-06-08T21:19:25.009358Z",
     "start_time": "2024-06-08T21:19:25.007590Z"
    }
   },
   "cell_type": "code",
   "source": "# Make two embeddings datasets XU, XZ with 2D embeddings",
   "id": "fdb92d846121c6a4",
   "outputs": [],
   "execution_count": 21
  },
  {
   "metadata": {
    "ExecuteTime": {
     "end_time": "2024-06-08T21:19:25.138017Z",
     "start_time": "2024-06-08T21:19:25.010151Z"
    }
   },
   "cell_type": "code",
   "source": [
    "# Make 2 2d gaussians with different means and covariances\n",
    "\n",
    "\n",
    "XZ = make_blobs(n_samples=10000, n_features=256, centers=10, cluster_std=3.0, center_box=(-50, 50), shuffle=True, random_state=None)\n",
    "XU = make_blobs(n_samples=10000, n_features=256, centers=20, cluster_std=3.0, center_box=(-50, 50), shuffle=True, random_state=None)\n"
   ],
   "id": "fa1b555c0c56cfe8",
   "outputs": [],
   "execution_count": 22
  },
  {
   "metadata": {
    "ExecuteTime": {
     "end_time": "2024-06-08T21:19:25.143525Z",
     "start_time": "2024-06-08T21:19:25.139409Z"
    }
   },
   "cell_type": "code",
   "source": [
    "args = GANDeficiencyArgs(device='cpu', \n",
    "                         disc_clip=0.01, \n",
    "                         gen_hidden_dim=256, \n",
    "                         critic_n_layers=2,\n",
    "                         critic_hidden_dim=8,\n",
    "                         critic_repeats=5, \n",
    "                         gan_n_epochs=100, \n",
    "                         gen_lr=1e-4, \n",
    "                         critic_lr=1e-3,\n",
    "                         gan_batch_size=16,\n",
    "                         )\n",
    "estimator = GANTrickedDeficiencyEstimator(args, x_dim=256, y_dim=256)\n"
   ],
   "id": "b639082260ede7ce",
   "outputs": [],
   "execution_count": 23
  },
  {
   "metadata": {
    "jupyter": {
     "is_executing": true
    },
    "ExecuteTime": {
     "start_time": "2024-06-08T21:19:25.144074Z"
    }
   },
   "cell_type": "code",
   "source": [
    "U = torch.tensor(XU[0], dtype=torch.float32)\n",
    "Z = torch.tensor(XZ[0], dtype=torch.float32)\n",
    "\n",
    "estimator.fit_estimator(U, Z)"
   ],
   "id": "6447ebdb54598c3e",
   "outputs": [
    {
     "name": "stderr",
     "output_type": "stream",
     "text": [
      "INFO:emir.estimators.deficiency_estimator:Epoch 1/100, Critic loss: 0.11162625998258591, Generator loss: 0.21038654446601868\n",
      "INFO:emir.estimators.deficiency_estimator:Epoch 2/100, Critic loss: 0.050299063324928284, Generator loss: 0.10874848812818527\n",
      "INFO:emir.estimators.deficiency_estimator:Epoch 3/100, Critic loss: 0.08231741935014725, Generator loss: 6.231717586517334\n",
      "INFO:emir.estimators.deficiency_estimator:Epoch 4/100, Critic loss: 0.0009715458145365119, Generator loss: 7.734793663024902\n",
      "INFO:emir.estimators.deficiency_estimator:Epoch 5/100, Critic loss: 0.0002953702933155, Generator loss: 8.671575546264648\n",
      "INFO:emir.estimators.deficiency_estimator:Epoch 6/100, Critic loss: 0.00013374949048738927, Generator loss: 9.382192611694336\n",
      "INFO:emir.estimators.deficiency_estimator:Epoch 7/100, Critic loss: 7.137974898796529e-05, Generator loss: 9.975377082824707\n",
      "INFO:emir.estimators.deficiency_estimator:Epoch 8/100, Critic loss: 4.159605668974109e-05, Generator loss: 10.499587059020996\n",
      "INFO:emir.estimators.deficiency_estimator:Epoch 9/100, Critic loss: 2.5568437195033766e-05, Generator loss: 10.979316711425781\n",
      "INFO:emir.estimators.deficiency_estimator:Epoch 10/100, Critic loss: 1.6265335943899117e-05, Generator loss: 11.428955078125\n",
      "INFO:emir.estimators.deficiency_estimator:Epoch 11/100, Critic loss: 1.0594648301776033e-05, Generator loss: 11.857209205627441\n",
      "INFO:emir.estimators.deficiency_estimator:Epoch 12/100, Critic loss: 7.00284908816684e-06, Generator loss: 12.26978874206543\n",
      "INFO:emir.estimators.deficiency_estimator:Epoch 13/100, Critic loss: 4.718773652712116e-06, Generator loss: 12.67064094543457\n",
      "INFO:emir.estimators.deficiency_estimator:Epoch 14/100, Critic loss: 3.1813829082238954e-06, Generator loss: 13.062451362609863\n",
      "INFO:emir.estimators.deficiency_estimator:Epoch 15/100, Critic loss: 2.2507015273731668e-06, Generator loss: 13.447341918945312\n",
      "INFO:emir.estimators.deficiency_estimator:Epoch 16/100, Critic loss: 1.3839605799148558e-06, Generator loss: 13.8263578414917\n",
      "INFO:emir.estimators.deficiency_estimator:Epoch 17/100, Critic loss: 1.0958705161101534e-06, Generator loss: 14.200790405273438\n",
      "INFO:emir.estimators.deficiency_estimator:Epoch 18/100, Critic loss: 8.879734423317132e-07, Generator loss: 14.571338653564453\n",
      "INFO:emir.estimators.deficiency_estimator:Epoch 19/100, Critic loss: 3.001302388838667e-07, Generator loss: 14.938715934753418\n",
      "INFO:emir.estimators.deficiency_estimator:Epoch 20/100, Critic loss: 2.099076112926923e-07, Generator loss: 15.303165435791016\n",
      "INFO:emir.estimators.deficiency_estimator:Epoch 21/100, Critic loss: 1.4707002549130266e-07, Generator loss: 15.665102005004883\n",
      "INFO:emir.estimators.deficiency_estimator:Epoch 22/100, Critic loss: 1.035868422150088e-07, Generator loss: 16.025089263916016\n"
     ]
    }
   ],
   "execution_count": null
  },
  {
   "metadata": {
    "jupyter": {
     "is_executing": true
    }
   },
   "cell_type": "code",
   "source": "",
   "id": "e349ada935384442",
   "outputs": [],
   "execution_count": null
  },
  {
   "metadata": {
    "jupyter": {
     "is_executing": true
    }
   },
   "cell_type": "code",
   "source": "",
   "id": "bd8a45c75244ce87",
   "outputs": [],
   "execution_count": null
  },
  {
   "metadata": {
    "jupyter": {
     "is_executing": true
    }
   },
   "cell_type": "code",
   "source": "estimator.batch_eval(U, Z)",
   "id": "d5ec7dc85f8fdc67",
   "outputs": [],
   "execution_count": null
  },
  {
   "metadata": {
    "jupyter": {
     "is_executing": true
    }
   },
   "cell_type": "code",
   "source": "",
   "id": "d6710410d42d0fe3",
   "outputs": [],
   "execution_count": null
  }
 ],
 "metadata": {
  "kernelspec": {
   "display_name": "Python 3",
   "language": "python",
   "name": "python3"
  },
  "language_info": {
   "codemirror_mode": {
    "name": "ipython",
    "version": 2
   },
   "file_extension": ".py",
   "mimetype": "text/x-python",
   "name": "python",
   "nbconvert_exporter": "python",
   "pygments_lexer": "ipython2",
   "version": "2.7.6"
  }
 },
 "nbformat": 4,
 "nbformat_minor": 5
}
