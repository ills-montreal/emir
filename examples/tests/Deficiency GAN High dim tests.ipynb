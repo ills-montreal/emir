{
 "cells": [
  {
   "cell_type": "code",
   "id": "initial_id",
   "metadata": {
    "collapsed": true,
    "ExecuteTime": {
     "end_time": "2024-06-08T21:00:02.009114Z",
     "start_time": "2024-06-08T21:00:01.270213Z"
    }
   },
   "source": [
    "from emir import GANDeficiencyArgs, GANDeficiencyEstimator, GANTrickedDeficiencyEstimator, WassersteinDeficiencyEstimator\n",
    "import torch\n",
    "import numpy as np\n",
    "import matplotlib.pyplot as plt\n",
    "import pandas as pd\n",
    "import seaborn as sns\n",
    "import sklearn as sk\n",
    "from sklearn.datasets import make_blobs\n",
    "\n",
    "import matplotlib.patches as mpatches\n",
    "\n",
    "# create logger\n",
    "import logging\n",
    "logging.basicConfig(level=logging.INFO)\n"
   ],
   "outputs": [],
   "execution_count": 1
  },
  {
   "metadata": {
    "ExecuteTime": {
     "end_time": "2024-06-08T21:00:02.011727Z",
     "start_time": "2024-06-08T21:00:02.009897Z"
    }
   },
   "cell_type": "code",
   "source": "# Make two embeddings datasets XU, XZ with 2D embeddings",
   "id": "fdb92d846121c6a4",
   "outputs": [],
   "execution_count": 2
  },
  {
   "metadata": {
    "ExecuteTime": {
     "end_time": "2024-06-08T21:04:37.390814Z",
     "start_time": "2024-06-08T21:04:37.264443Z"
    }
   },
   "cell_type": "code",
   "source": [
    "# Make 2 2d gaussians with different means and covariances\n",
    "\n",
    "\n",
    "XZ = make_blobs(n_samples=10000, n_features=256, centers=10, cluster_std=3.0, center_box=(-50, 50), shuffle=True, random_state=None)\n",
    "XU = make_blobs(n_samples=10000, n_features=256, centers=20, cluster_std=3.0, center_box=(-50, 50), shuffle=True, random_state=None)\n",
    "\n",
    "\n"
   ],
   "id": "fa1b555c0c56cfe8",
   "outputs": [],
   "execution_count": 12
  },
  {
   "metadata": {
    "ExecuteTime": {
     "end_time": "2024-06-08T21:04:39.355138Z",
     "start_time": "2024-06-08T21:04:38.106563Z"
    }
   },
   "cell_type": "code",
   "source": [
    "args = GANDeficiencyArgs(device='cpu', \n",
    "                         disc_clip=0.01, \n",
    "                         gen_hidden_dim=128, \n",
    "                         critic_n_layers=5,\n",
    "                         critic_hidden_dim=8,\n",
    "                         critic_repeats=5, \n",
    "                         gan_n_epochs=100, \n",
    "                         gen_lr=1e-4, \n",
    "                         critic_lr=1e-3,\n",
    "                         gan_batch_size=16,\n",
    "                         )\n",
    "estimator = GANTrickedDeficiencyEstimator(args, x_dim=256, y_dim=256)\n"
   ],
   "id": "b639082260ede7ce",
   "outputs": [],
   "execution_count": 13
  },
  {
   "metadata": {
    "ExecuteTime": {
     "end_time": "2024-06-08T21:09:19.712857Z",
     "start_time": "2024-06-08T21:04:40.193529Z"
    }
   },
   "cell_type": "code",
   "source": [
    "U = torch.tensor(XU[0], dtype=torch.float32)\n",
    "Z = torch.tensor(XZ[0], dtype=torch.float32)\n",
    "\n",
    "estimator.fit_estimator(U, Z)"
   ],
   "id": "6447ebdb54598c3e",
   "outputs": [
    {
     "name": "stderr",
     "output_type": "stream",
     "text": [
      "INFO:emir.estimators.deficiency_estimator:Epoch 1/100, Critic loss: 0.09773685038089752, Generator loss: 0.44553905725479126\n",
      "INFO:emir.estimators.deficiency_estimator:Epoch 2/100, Critic loss: 0.03201846778392792, Generator loss: 0.36835426092147827\n",
      "INFO:emir.estimators.deficiency_estimator:Epoch 3/100, Critic loss: 0.032871946692466736, Generator loss: 0.08759342133998871\n",
      "INFO:emir.estimators.deficiency_estimator:Epoch 4/100, Critic loss: 0.07837607711553574, Generator loss: 0.07249731570482254\n",
      "INFO:emir.estimators.deficiency_estimator:Epoch 5/100, Critic loss: 0.02584869973361492, Generator loss: 0.24653208255767822\n",
      "INFO:emir.estimators.deficiency_estimator:Epoch 6/100, Critic loss: 0.05840017646551132, Generator loss: 0.04888397827744484\n",
      "INFO:emir.estimators.deficiency_estimator:Epoch 7/100, Critic loss: 0.05314083769917488, Generator loss: 0.029943859204649925\n",
      "INFO:emir.estimators.deficiency_estimator:Epoch 8/100, Critic loss: 0.07245533913373947, Generator loss: 0.706782341003418\n",
      "INFO:emir.estimators.deficiency_estimator:Epoch 9/100, Critic loss: 0.03672156482934952, Generator loss: 0.7752127647399902\n",
      "INFO:emir.estimators.deficiency_estimator:Epoch 10/100, Critic loss: 0.03635799139738083, Generator loss: 0.7372636795043945\n",
      "INFO:emir.estimators.deficiency_estimator:Epoch 11/100, Critic loss: 0.19375355541706085, Generator loss: 2.398587703704834\n",
      "INFO:emir.estimators.deficiency_estimator:Epoch 12/100, Critic loss: 0.16767996549606323, Generator loss: 2.4100310802459717\n",
      "INFO:emir.estimators.deficiency_estimator:Epoch 13/100, Critic loss: 0.16773483157157898, Generator loss: 2.350595235824585\n",
      "INFO:emir.estimators.deficiency_estimator:Epoch 14/100, Critic loss: 0.16756679117679596, Generator loss: 2.5458340644836426\n",
      "INFO:emir.estimators.deficiency_estimator:Epoch 15/100, Critic loss: 0.1677480787038803, Generator loss: 2.4344921112060547\n",
      "INFO:emir.estimators.deficiency_estimator:Epoch 16/100, Critic loss: 0.1676565706729889, Generator loss: 2.485163688659668\n",
      "INFO:emir.estimators.deficiency_estimator:Epoch 17/100, Critic loss: 0.16773541271686554, Generator loss: 2.4225358963012695\n",
      "INFO:emir.estimators.deficiency_estimator:Epoch 18/100, Critic loss: 0.1676986664533615, Generator loss: 2.3509488105773926\n",
      "INFO:emir.estimators.deficiency_estimator:Epoch 19/100, Critic loss: 0.16770081222057343, Generator loss: 2.3555848598480225\n",
      "INFO:emir.estimators.deficiency_estimator:Epoch 20/100, Critic loss: 0.16764971613883972, Generator loss: 2.316030502319336\n",
      "INFO:emir.estimators.deficiency_estimator:Epoch 21/100, Critic loss: 0.16770607233047485, Generator loss: 2.294759511947632\n",
      "INFO:emir.estimators.deficiency_estimator:Epoch 22/100, Critic loss: 0.16764067113399506, Generator loss: 2.4807567596435547\n",
      "INFO:emir.estimators.deficiency_estimator:Epoch 23/100, Critic loss: 0.16763590276241302, Generator loss: 2.24664306640625\n",
      "INFO:emir.estimators.deficiency_estimator:Epoch 24/100, Critic loss: 0.16767019033432007, Generator loss: 2.3660123348236084\n",
      "INFO:emir.estimators.deficiency_estimator:Epoch 25/100, Critic loss: 0.1676299273967743, Generator loss: 2.35345721244812\n",
      "INFO:emir.estimators.deficiency_estimator:Epoch 26/100, Critic loss: 0.1676860898733139, Generator loss: 2.4489712715148926\n",
      "INFO:emir.estimators.deficiency_estimator:Epoch 27/100, Critic loss: 0.16773533821105957, Generator loss: 2.4444830417633057\n",
      "INFO:emir.estimators.deficiency_estimator:Epoch 28/100, Critic loss: 0.16760653257369995, Generator loss: 2.312947988510132\n",
      "INFO:emir.estimators.deficiency_estimator:Epoch 29/100, Critic loss: 0.1676822006702423, Generator loss: 2.400113582611084\n",
      "INFO:emir.estimators.deficiency_estimator:Epoch 30/100, Critic loss: 0.1676274985074997, Generator loss: 2.5359301567077637\n",
      "INFO:emir.estimators.deficiency_estimator:Epoch 31/100, Critic loss: 0.16768240928649902, Generator loss: 2.350543737411499\n",
      "INFO:emir.estimators.deficiency_estimator:Epoch 32/100, Critic loss: 0.1676912158727646, Generator loss: 2.334993839263916\n",
      "INFO:emir.estimators.deficiency_estimator:Epoch 33/100, Critic loss: 0.16769932210445404, Generator loss: 2.3748667240142822\n",
      "INFO:emir.estimators.deficiency_estimator:Epoch 34/100, Critic loss: 0.1677672415971756, Generator loss: 2.40093731880188\n",
      "INFO:emir.estimators.deficiency_estimator:Epoch 35/100, Critic loss: 0.16757053136825562, Generator loss: 2.4271390438079834\n",
      "INFO:emir.estimators.deficiency_estimator:Epoch 36/100, Critic loss: 0.16776630282402039, Generator loss: 2.404419183731079\n",
      "INFO:emir.estimators.deficiency_estimator:Epoch 37/100, Critic loss: 0.1676904261112213, Generator loss: 2.376939058303833\n",
      "INFO:emir.estimators.deficiency_estimator:Epoch 38/100, Critic loss: 0.16772542893886566, Generator loss: 2.3639957904815674\n",
      "INFO:emir.estimators.deficiency_estimator:Epoch 39/100, Critic loss: 0.16762086749076843, Generator loss: 2.2919535636901855\n",
      "INFO:emir.estimators.deficiency_estimator:Epoch 40/100, Critic loss: 0.16771115362644196, Generator loss: 2.346527338027954\n",
      "INFO:emir.estimators.deficiency_estimator:Epoch 41/100, Critic loss: 0.16762399673461914, Generator loss: 2.470386028289795\n",
      "INFO:emir.estimators.deficiency_estimator:Epoch 42/100, Critic loss: 0.16767123341560364, Generator loss: 2.419990301132202\n",
      "INFO:emir.estimators.deficiency_estimator:Epoch 43/100, Critic loss: 0.16770313680171967, Generator loss: 2.4689066410064697\n",
      "INFO:emir.estimators.deficiency_estimator:Epoch 44/100, Critic loss: 0.1677454262971878, Generator loss: 2.353240728378296\n",
      "INFO:emir.estimators.deficiency_estimator:Epoch 45/100, Critic loss: 0.16769742965698242, Generator loss: 2.3118538856506348\n",
      "INFO:emir.estimators.deficiency_estimator:Epoch 46/100, Critic loss: 0.1677493005990982, Generator loss: 2.4678616523742676\n",
      "INFO:emir.estimators.deficiency_estimator:Epoch 47/100, Critic loss: 0.16770383715629578, Generator loss: 2.4614803791046143\n",
      "INFO:emir.estimators.deficiency_estimator:Epoch 48/100, Critic loss: 0.16762423515319824, Generator loss: 2.32955265045166\n",
      "INFO:emir.estimators.deficiency_estimator:Epoch 49/100, Critic loss: 0.1676415503025055, Generator loss: 2.4317612648010254\n",
      "INFO:emir.estimators.deficiency_estimator:Epoch 50/100, Critic loss: 0.16763466596603394, Generator loss: 2.318730354309082\n",
      "INFO:emir.estimators.deficiency_estimator:Epoch 51/100, Critic loss: 0.16776758432388306, Generator loss: 2.4188497066497803\n",
      "INFO:emir.estimators.deficiency_estimator:Epoch 52/100, Critic loss: 0.16770310699939728, Generator loss: 2.40618634223938\n",
      "INFO:emir.estimators.deficiency_estimator:Epoch 53/100, Critic loss: 0.16773250699043274, Generator loss: 2.3532137870788574\n",
      "INFO:emir.estimators.deficiency_estimator:Epoch 54/100, Critic loss: 0.16774694621562958, Generator loss: 2.4483909606933594\n",
      "INFO:emir.estimators.deficiency_estimator:Epoch 55/100, Critic loss: 0.16768193244934082, Generator loss: 2.4650027751922607\n",
      "INFO:emir.estimators.deficiency_estimator:Epoch 56/100, Critic loss: 0.16762951016426086, Generator loss: 2.502169132232666\n",
      "INFO:emir.estimators.deficiency_estimator:Epoch 57/100, Critic loss: 0.1676855832338333, Generator loss: 2.3982996940612793\n",
      "INFO:emir.estimators.deficiency_estimator:Epoch 58/100, Critic loss: 0.1676800549030304, Generator loss: 2.4323534965515137\n",
      "INFO:emir.estimators.deficiency_estimator:Epoch 59/100, Critic loss: 0.16772812604904175, Generator loss: 2.3528733253479004\n",
      "INFO:emir.estimators.deficiency_estimator:Epoch 60/100, Critic loss: 0.16766484081745148, Generator loss: 2.357135534286499\n",
      "INFO:emir.estimators.deficiency_estimator:Epoch 61/100, Critic loss: 0.16765400767326355, Generator loss: 2.4448211193084717\n",
      "INFO:emir.estimators.deficiency_estimator:Epoch 62/100, Critic loss: 0.167690709233284, Generator loss: 2.4678032398223877\n",
      "INFO:emir.estimators.deficiency_estimator:Epoch 63/100, Critic loss: 0.16767297685146332, Generator loss: 2.401505947113037\n",
      "INFO:emir.estimators.deficiency_estimator:Epoch 64/100, Critic loss: 0.16771432757377625, Generator loss: 2.352355480194092\n",
      "INFO:emir.estimators.deficiency_estimator:Epoch 65/100, Critic loss: 0.1677585244178772, Generator loss: 2.448477268218994\n",
      "INFO:emir.estimators.deficiency_estimator:Epoch 66/100, Critic loss: 0.1676625907421112, Generator loss: 2.337475061416626\n",
      "INFO:emir.estimators.deficiency_estimator:Epoch 67/100, Critic loss: 0.1677393913269043, Generator loss: 2.2998437881469727\n",
      "INFO:emir.estimators.deficiency_estimator:Epoch 68/100, Critic loss: 0.1676841825246811, Generator loss: 2.36974835395813\n",
      "INFO:emir.estimators.deficiency_estimator:Epoch 69/100, Critic loss: 0.16754764318466187, Generator loss: 2.4368319511413574\n",
      "INFO:emir.estimators.deficiency_estimator:Epoch 70/100, Critic loss: 0.16765151917934418, Generator loss: 2.3891804218292236\n",
      "INFO:emir.estimators.deficiency_estimator:Epoch 71/100, Critic loss: 0.16768920421600342, Generator loss: 2.384822368621826\n",
      "INFO:emir.estimators.deficiency_estimator:Epoch 72/100, Critic loss: 0.16774572432041168, Generator loss: 2.4981436729431152\n",
      "INFO:emir.estimators.deficiency_estimator:Epoch 73/100, Critic loss: 0.16775524616241455, Generator loss: 2.3645663261413574\n",
      "INFO:emir.estimators.deficiency_estimator:Epoch 74/100, Critic loss: 0.1676430106163025, Generator loss: 2.28851580619812\n",
      "INFO:emir.estimators.deficiency_estimator:Epoch 75/100, Critic loss: 0.1677110642194748, Generator loss: 2.3777613639831543\n",
      "INFO:emir.estimators.deficiency_estimator:Epoch 76/100, Critic loss: 0.1677076667547226, Generator loss: 2.4404513835906982\n",
      "INFO:emir.estimators.deficiency_estimator:Epoch 77/100, Critic loss: 0.1677349954843521, Generator loss: 2.327866792678833\n",
      "INFO:emir.estimators.deficiency_estimator:Epoch 78/100, Critic loss: 0.16772805154323578, Generator loss: 2.383549690246582\n",
      "INFO:emir.estimators.deficiency_estimator:Epoch 79/100, Critic loss: 0.1677381843328476, Generator loss: 2.394662857055664\n",
      "INFO:emir.estimators.deficiency_estimator:Epoch 80/100, Critic loss: 0.16766232252120972, Generator loss: 2.5257821083068848\n",
      "INFO:emir.estimators.deficiency_estimator:Epoch 81/100, Critic loss: 0.1676388680934906, Generator loss: 2.535480260848999\n",
      "INFO:emir.estimators.deficiency_estimator:Epoch 82/100, Critic loss: 0.1676894873380661, Generator loss: 2.3271501064300537\n",
      "INFO:emir.estimators.deficiency_estimator:Epoch 83/100, Critic loss: 0.16774052381515503, Generator loss: 2.382154703140259\n",
      "INFO:emir.estimators.deficiency_estimator:Epoch 84/100, Critic loss: 0.16768090426921844, Generator loss: 2.3569796085357666\n",
      "INFO:emir.estimators.deficiency_estimator:Epoch 85/100, Critic loss: 0.1675933301448822, Generator loss: 2.4322006702423096\n",
      "INFO:emir.estimators.deficiency_estimator:Epoch 86/100, Critic loss: 0.16761411726474762, Generator loss: 2.331721544265747\n",
      "INFO:emir.estimators.deficiency_estimator:Epoch 87/100, Critic loss: 0.167764350771904, Generator loss: 2.3703460693359375\n",
      "INFO:emir.estimators.deficiency_estimator:Epoch 88/100, Critic loss: 0.16762438416481018, Generator loss: 2.4555726051330566\n",
      "INFO:emir.estimators.deficiency_estimator:Epoch 89/100, Critic loss: 0.16768386960029602, Generator loss: 2.4100592136383057\n",
      "INFO:emir.estimators.deficiency_estimator:Epoch 90/100, Critic loss: 0.16770412027835846, Generator loss: 2.4686038494110107\n",
      "INFO:emir.estimators.deficiency_estimator:Epoch 91/100, Critic loss: 0.1676555871963501, Generator loss: 2.376248836517334\n",
      "INFO:emir.estimators.deficiency_estimator:Epoch 92/100, Critic loss: 0.16764222085475922, Generator loss: 2.4328598976135254\n",
      "INFO:emir.estimators.deficiency_estimator:Epoch 93/100, Critic loss: 0.16769453883171082, Generator loss: 2.426849126815796\n",
      "INFO:emir.estimators.deficiency_estimator:Epoch 94/100, Critic loss: 0.16773545742034912, Generator loss: 2.4586644172668457\n",
      "INFO:emir.estimators.deficiency_estimator:Epoch 95/100, Critic loss: 0.16768276691436768, Generator loss: 2.44952654838562\n",
      "INFO:emir.estimators.deficiency_estimator:Epoch 96/100, Critic loss: 0.16774989664554596, Generator loss: 2.4025652408599854\n",
      "INFO:emir.estimators.deficiency_estimator:Epoch 97/100, Critic loss: 0.16769175231456757, Generator loss: 2.3472445011138916\n",
      "INFO:emir.estimators.deficiency_estimator:Epoch 98/100, Critic loss: 0.1676340401172638, Generator loss: 2.4737706184387207\n",
      "INFO:emir.estimators.deficiency_estimator:Epoch 99/100, Critic loss: 0.1677204817533493, Generator loss: 2.365919828414917\n",
      "INFO:emir.estimators.deficiency_estimator:Epoch 100/100, Critic loss: 0.1677052527666092, Generator loss: 2.3877127170562744\n"
     ]
    }
   ],
   "execution_count": 14
  },
  {
   "metadata": {},
   "cell_type": "code",
   "source": "",
   "id": "e349ada935384442",
   "outputs": [],
   "execution_count": null
  },
  {
   "metadata": {
    "ExecuteTime": {
     "end_time": "2024-06-08T21:01:40.090619Z",
     "start_time": "2024-06-08T21:01:40.088372Z"
    }
   },
   "cell_type": "code",
   "source": "",
   "id": "bd8a45c75244ce87",
   "outputs": [],
   "execution_count": 7
  },
  {
   "metadata": {
    "ExecuteTime": {
     "end_time": "2024-06-08T21:03:47.645837Z",
     "start_time": "2024-06-08T21:03:47.476907Z"
    }
   },
   "cell_type": "code",
   "source": "estimator.batch_eval(U, Z)",
   "id": "d5ec7dc85f8fdc67",
   "outputs": [
    {
     "data": {
      "text/plain": [
       "tensor(4.4904e-09, grad_fn=<MeanBackward0>)"
      ]
     },
     "execution_count": 11,
     "metadata": {},
     "output_type": "execute_result"
    }
   ],
   "execution_count": 11
  },
  {
   "metadata": {},
   "cell_type": "code",
   "source": "",
   "id": "d6710410d42d0fe3",
   "outputs": [],
   "execution_count": null
  }
 ],
 "metadata": {
  "kernelspec": {
   "display_name": "Python 3",
   "language": "python",
   "name": "python3"
  },
  "language_info": {
   "codemirror_mode": {
    "name": "ipython",
    "version": 2
   },
   "file_extension": ".py",
   "mimetype": "text/x-python",
   "name": "python",
   "nbconvert_exporter": "python",
   "pygments_lexer": "ipython2",
   "version": "2.7.6"
  }
 },
 "nbformat": 4,
 "nbformat_minor": 5
}
